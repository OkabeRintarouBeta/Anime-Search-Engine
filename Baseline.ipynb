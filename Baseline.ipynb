{
 "cells": [
  {
   "cell_type": "code",
   "execution_count": 1,
   "id": "48759e53",
   "metadata": {},
   "outputs": [
    {
     "data": {
      "text/plain": [
       "uname_result(system='Linux', node='gl1000.arc-ts.umich.edu', release='4.18.0-305.45.1.el8_4.x86_64', version='#1 SMP Wed Apr 6 13:48:37 EDT 2022', machine='x86_64')"
      ]
     },
     "execution_count": 1,
     "metadata": {},
     "output_type": "execute_result"
    }
   ],
   "source": [
    "import pandas as pd\n",
    "# Helpful for showing indexing information\n",
    "pd.set_option('display.max_colwidth', 150)\n",
    "\n",
    "import os\n",
    "import pyterrier as pt\n",
    "\n",
    "import platform\n",
    "platform.uname()"
   ]
  },
  {
   "cell_type": "code",
   "execution_count": 2,
   "id": "81a10179",
   "metadata": {},
   "outputs": [
    {
     "name": "stderr",
     "output_type": "stream",
     "text": [
      "PyTerrier 0.8.1 has loaded Terrier 5.7 (built by craigm on 2022-11-10 18:30)\n",
      "\n",
      "No etc/terrier.properties, using terrier.default.properties for bootstrap configuration.\n"
     ]
    }
   ],
   "source": [
    "if not pt.started():\n",
    "    pt.init()"
   ]
  },
  {
   "cell_type": "code",
   "execution_count": 5,
   "id": "4dca3f1d",
   "metadata": {},
   "outputs": [
    {
     "data": {
      "text/html": [
       "<div>\n",
       "<style scoped>\n",
       "    .dataframe tbody tr th:only-of-type {\n",
       "        vertical-align: middle;\n",
       "    }\n",
       "\n",
       "    .dataframe tbody tr th {\n",
       "        vertical-align: top;\n",
       "    }\n",
       "\n",
       "    .dataframe thead th {\n",
       "        text-align: right;\n",
       "    }\n",
       "</style>\n",
       "<table border=\"1\" class=\"dataframe\">\n",
       "  <thead>\n",
       "    <tr style=\"text-align: right;\">\n",
       "      <th></th>\n",
       "      <th>docno</th>\n",
       "      <th>title</th>\n",
       "      <th>synopsis</th>\n",
       "      <th>genre</th>\n",
       "      <th>aired</th>\n",
       "      <th>episodes</th>\n",
       "      <th>members</th>\n",
       "      <th>popularity</th>\n",
       "      <th>ranked</th>\n",
       "      <th>score</th>\n",
       "      <th>img_url</th>\n",
       "      <th>link</th>\n",
       "      <th>wiki_link</th>\n",
       "      <th>anime_name</th>\n",
       "      <th>wiki_intro</th>\n",
       "      <th>review</th>\n",
       "    </tr>\n",
       "  </thead>\n",
       "  <tbody>\n",
       "    <tr>\n",
       "      <th>0</th>\n",
       "      <td>28891</td>\n",
       "      <td>Haikyuu!! Second Season</td>\n",
       "      <td>Following their participation at the Inter-High, the Karasuno High School volleyball team attempts to refocus their efforts, aiming to conquer the...</td>\n",
       "      <td>['Comedy', 'Sports', 'Drama', 'School', 'Shounen']</td>\n",
       "      <td>Oct 4, 2015 to Mar 27, 2016</td>\n",
       "      <td>25.0</td>\n",
       "      <td>489888</td>\n",
       "      <td>141</td>\n",
       "      <td>25.0</td>\n",
       "      <td>8.82</td>\n",
       "      <td>https://cdn.myanimelist.net/images/anime/9/76662.jpg</td>\n",
       "      <td>https://myanimelist.net/anime/28891/Haikyuu_Second_Season</td>\n",
       "      <td>http://en.wikipedia.org/wiki/Haiky%C5%AB!!</td>\n",
       "      <td>Haikyū!!</td>\n",
       "      <td>Junior high school student, Shoyo Hinata, becomes obsessed with volleyball after catching a glimpse of Karasuno High School playing in Nationals o...</td>\n",
       "      <td>Overall: 10 \\r\\n \\r\\nPlot: 10 \\r\\n \\r\\nHaikyuu! is a sports genre anime, mainly tackling about Volleyball. In this kind of story, there's only one...</td>\n",
       "    </tr>\n",
       "  </tbody>\n",
       "</table>\n",
       "</div>"
      ],
      "text/plain": [
       "   docno                    title  \\\n",
       "0  28891  Haikyuu!! Second Season   \n",
       "\n",
       "                                                                                                                                                synopsis  \\\n",
       "0  Following their participation at the Inter-High, the Karasuno High School volleyball team attempts to refocus their efforts, aiming to conquer the...   \n",
       "\n",
       "                                                genre  \\\n",
       "0  ['Comedy', 'Sports', 'Drama', 'School', 'Shounen']   \n",
       "\n",
       "                         aired  episodes  members  popularity  ranked  score  \\\n",
       "0  Oct 4, 2015 to Mar 27, 2016      25.0   489888         141    25.0   8.82   \n",
       "\n",
       "                                                img_url  \\\n",
       "0  https://cdn.myanimelist.net/images/anime/9/76662.jpg   \n",
       "\n",
       "                                                        link  \\\n",
       "0  https://myanimelist.net/anime/28891/Haikyuu_Second_Season   \n",
       "\n",
       "                                    wiki_link anime_name  \\\n",
       "0  http://en.wikipedia.org/wiki/Haiky%C5%AB!!   Haikyū!!   \n",
       "\n",
       "                                                                                                                                              wiki_intro  \\\n",
       "0  Junior high school student, Shoyo Hinata, becomes obsessed with volleyball after catching a glimpse of Karasuno High School playing in Nationals o...   \n",
       "\n",
       "                                                                                                                                                  review  \n",
       "0  Overall: 10 \\r\\n \\r\\nPlot: 10 \\r\\n \\r\\nHaikyuu! is a sports genre anime, mainly tackling about Volleyball. In this kind of story, there's only one...  "
      ]
     },
     "execution_count": 5,
     "metadata": {},
     "output_type": "execute_result"
    }
   ],
   "source": [
    "df_anime=pd.read_csv('data_processed/anime_with_review.csv')\n",
    "df_anime=df_anime.rename(columns={'uid':'docno'})\n",
    "df_anime.head(1)"
   ]
  },
  {
   "cell_type": "code",
   "execution_count": 6,
   "id": "c18ef941",
   "metadata": {},
   "outputs": [],
   "source": [
    "df_anime['docno']=df_anime['docno'].astype(str)\n",
    "df_anime['popularity']=df_anime['popularity'].astype(str)\n",
    "df_anime['ranked']=df_anime['ranked'].astype(str)\n",
    "df_anime['score']=df_anime['score'].astype(str)\n",
    "df_anime['episodes']=df_anime['episodes'].astype(str)"
   ]
  },
  {
   "cell_type": "code",
   "execution_count": 3,
   "id": "50359085",
   "metadata": {},
   "outputs": [],
   "source": [
    "\n",
    "pt_index_path = './pt_index'\n",
    "\n",
    "if not os.path.exists(pt_index_path + \"/data.properties\"):\n",
    "\n",
    "    indexer = pt.DFIndexer(pt_index_path,overwrite=True)\n",
    "    index_ref = indexer.index(\n",
    "    df_anime['synopsis'],df_anime['docno'],df_anime['title'],df_anime['popularity'],df_anime['ranked'],df_anime['score'],\n",
    "    df_anime['episodes'],df_anime['wiki_intro'],df_anime['review']\n",
    ")\n",
    "\n",
    "else:\n",
    "    # if you already have the index, create an IndexRef from the data in pt_index_path\n",
    "    # that we can use to load using the IndexFactory\n",
    "    # TODO\n",
    "    index_ref = pt.IndexRef.of(pt_index_path+\"/data.properties\")\n",
    "index = pt.IndexFactory.of(index_ref)"
   ]
  },
  {
   "cell_type": "code",
   "execution_count": 4,
   "id": "5820cc43",
   "metadata": {},
   "outputs": [],
   "source": [
    "bm25_150 = pt.BatchRetrieve(index, wmodel=\"BM25\")%150\n",
    "bm25=pt.BatchRetrieve(index,wmodel='BM25')"
   ]
  },
  {
   "cell_type": "code",
   "execution_count": 5,
   "id": "4f72e32d",
   "metadata": {},
   "outputs": [],
   "source": [
    "query=pd.read_csv('data_processed/query_list.csv')\n",
    "query.reset_index(inplace=True)\n",
    "query.rename(columns={'Query':'query','index':'qid'},inplace=True)\n",
    "train_query=query[query['Train/Test']=='Train'].drop(columns=['Train/Test'])\n",
    "test_query=query[query['Train/Test']=='Test'].drop(columns=['Train/Test'])"
   ]
  },
  {
   "cell_type": "code",
   "execution_count": 6,
   "id": "9d4ca65f",
   "metadata": {},
   "outputs": [],
   "source": [
    "df_query=train_query.append(test_query)\n",
    "df_query=df_query.reset_index().drop(columns=['index'])"
   ]
  },
  {
   "cell_type": "code",
   "execution_count": 15,
   "id": "e2e3175a",
   "metadata": {},
   "outputs": [],
   "source": [
    "result=bm25_150(train_query)\n",
    "result=result.merge(df_anime,on=['docno'],how='left')\n",
    "result=result[['qid','docno','rank','score_x','query','title','synopsis','genre','wiki_intro','review']]"
   ]
  },
  {
   "cell_type": "code",
   "execution_count": 16,
   "id": "71b8bba9",
   "metadata": {},
   "outputs": [],
   "source": [
    "result.rename(columns={'score_x':'bm25_score'})\n",
    "result.to_csv('system_rating/baseline_rating.csv',index=False)"
   ]
  },
  {
   "cell_type": "code",
   "execution_count": 17,
   "id": "b8798267",
   "metadata": {},
   "outputs": [],
   "source": [
    "result_test=bm25_150(test_query)\n",
    "result_test=result_test.merge(df_anime,on=['docno'],how='left')\n",
    "result_test=result_test[['qid','docno','rank','score_x','query','title','synopsis','genre','wiki_intro','review']]\n",
    "result_test.rename(columns={'score_x':'bm25_score'})\n",
    "result_test.to_csv('system_rating/baseline_rating_test.csv',index=False)"
   ]
  },
  {
   "cell_type": "code",
   "execution_count": 27,
   "id": "986ad620",
   "metadata": {},
   "outputs": [
    {
     "name": "stderr",
     "output_type": "stream",
     "text": [
      "/home/zihuiliu/.local/lib/python3.9/site-packages/pyterrier/transformer.py:269: FutureWarning: .transform() should be passed a dataframe. Use .search() to execute a single query.\n",
      "  return self.transform(*args, **kwargs)\n"
     ]
    }
   ],
   "source": [
    "bm25 = pt.BatchRetrieve(index, wmodel=\"BM25\")\n",
    "df_test=bm25(\"High school idol\")\n"
   ]
  },
  {
   "cell_type": "code",
   "execution_count": 28,
   "id": "8329b5e0",
   "metadata": {},
   "outputs": [
    {
     "data": {
      "text/html": [
       "<div>\n",
       "<style scoped>\n",
       "    .dataframe tbody tr th:only-of-type {\n",
       "        vertical-align: middle;\n",
       "    }\n",
       "\n",
       "    .dataframe tbody tr th {\n",
       "        vertical-align: top;\n",
       "    }\n",
       "\n",
       "    .dataframe thead th {\n",
       "        text-align: right;\n",
       "    }\n",
       "</style>\n",
       "<table border=\"1\" class=\"dataframe\">\n",
       "  <thead>\n",
       "    <tr style=\"text-align: right;\">\n",
       "      <th></th>\n",
       "      <th>qid</th>\n",
       "      <th>docid</th>\n",
       "      <th>docno</th>\n",
       "      <th>rank</th>\n",
       "      <th>score</th>\n",
       "      <th>query</th>\n",
       "    </tr>\n",
       "  </thead>\n",
       "  <tbody>\n",
       "    <tr>\n",
       "      <th>0</th>\n",
       "      <td>1</td>\n",
       "      <td>2581</td>\n",
       "      <td>32526</td>\n",
       "      <td>0</td>\n",
       "      <td>15.116253</td>\n",
       "      <td>High school idol</td>\n",
       "    </tr>\n",
       "    <tr>\n",
       "      <th>1</th>\n",
       "      <td>1</td>\n",
       "      <td>1867</td>\n",
       "      <td>15051</td>\n",
       "      <td>1</td>\n",
       "      <td>14.667413</td>\n",
       "      <td>High school idol</td>\n",
       "    </tr>\n",
       "    <tr>\n",
       "      <th>2</th>\n",
       "      <td>1</td>\n",
       "      <td>2119</td>\n",
       "      <td>22189</td>\n",
       "      <td>2</td>\n",
       "      <td>13.289305</td>\n",
       "      <td>High school idol</td>\n",
       "    </tr>\n",
       "    <tr>\n",
       "      <th>3</th>\n",
       "      <td>1</td>\n",
       "      <td>229</td>\n",
       "      <td>24997</td>\n",
       "      <td>3</td>\n",
       "      <td>12.606818</td>\n",
       "      <td>High school idol</td>\n",
       "    </tr>\n",
       "    <tr>\n",
       "      <th>4</th>\n",
       "      <td>1</td>\n",
       "      <td>4499</td>\n",
       "      <td>10321</td>\n",
       "      <td>4</td>\n",
       "      <td>12.383107</td>\n",
       "      <td>High school idol</td>\n",
       "    </tr>\n",
       "    <tr>\n",
       "      <th>...</th>\n",
       "      <td>...</td>\n",
       "      <td>...</td>\n",
       "      <td>...</td>\n",
       "      <td>...</td>\n",
       "      <td>...</td>\n",
       "      <td>...</td>\n",
       "    </tr>\n",
       "    <tr>\n",
       "      <th>995</th>\n",
       "      <td>1</td>\n",
       "      <td>3407</td>\n",
       "      <td>3838</td>\n",
       "      <td>995</td>\n",
       "      <td>1.681246</td>\n",
       "      <td>High school idol</td>\n",
       "    </tr>\n",
       "    <tr>\n",
       "      <th>996</th>\n",
       "      <td>1</td>\n",
       "      <td>3832</td>\n",
       "      <td>1017</td>\n",
       "      <td>996</td>\n",
       "      <td>1.681246</td>\n",
       "      <td>High school idol</td>\n",
       "    </tr>\n",
       "    <tr>\n",
       "      <th>997</th>\n",
       "      <td>1</td>\n",
       "      <td>4398</td>\n",
       "      <td>395</td>\n",
       "      <td>997</td>\n",
       "      <td>1.681246</td>\n",
       "      <td>High school idol</td>\n",
       "    </tr>\n",
       "    <tr>\n",
       "      <th>998</th>\n",
       "      <td>1</td>\n",
       "      <td>672</td>\n",
       "      <td>17895</td>\n",
       "      <td>998</td>\n",
       "      <td>1.670446</td>\n",
       "      <td>High school idol</td>\n",
       "    </tr>\n",
       "    <tr>\n",
       "      <th>999</th>\n",
       "      <td>1</td>\n",
       "      <td>865</td>\n",
       "      <td>4177</td>\n",
       "      <td>999</td>\n",
       "      <td>1.670446</td>\n",
       "      <td>High school idol</td>\n",
       "    </tr>\n",
       "  </tbody>\n",
       "</table>\n",
       "<p>1000 rows × 6 columns</p>\n",
       "</div>"
      ],
      "text/plain": [
       "    qid  docid  docno  rank      score             query\n",
       "0     1   2581  32526     0  15.116253  High school idol\n",
       "1     1   1867  15051     1  14.667413  High school idol\n",
       "2     1   2119  22189     2  13.289305  High school idol\n",
       "3     1    229  24997     3  12.606818  High school idol\n",
       "4     1   4499  10321     4  12.383107  High school idol\n",
       "..   ..    ...    ...   ...        ...               ...\n",
       "995   1   3407   3838   995   1.681246  High school idol\n",
       "996   1   3832   1017   996   1.681246  High school idol\n",
       "997   1   4398    395   997   1.681246  High school idol\n",
       "998   1    672  17895   998   1.670446  High school idol\n",
       "999   1    865   4177   999   1.670446  High school idol\n",
       "\n",
       "[1000 rows x 6 columns]"
      ]
     },
     "execution_count": 28,
     "metadata": {},
     "output_type": "execute_result"
    }
   ],
   "source": [
    "df_test"
   ]
  },
  {
   "cell_type": "code",
   "execution_count": 22,
   "id": "a6033a82",
   "metadata": {},
   "outputs": [
    {
     "name": "stdout",
     "output_type": "stream",
     "text": [
      "Number of documents: 4517\n",
      "Number of terms: 20551\n",
      "Number of postings: 214508\n",
      "Number of fields: 0\n",
      "Number of tokens: 255416\n",
      "Field names: []\n",
      "Positions:   false\n",
      "\n"
     ]
    }
   ],
   "source": [
    "print(index.getCollectionStatistics().toString())"
   ]
  },
  {
   "cell_type": "markdown",
   "id": "25f74184",
   "metadata": {},
   "source": [
    "## Evaluate baseline"
   ]
  },
  {
   "cell_type": "markdown",
   "id": "4426cb3b",
   "metadata": {},
   "source": [
    "### Naive random baseline"
   ]
  },
  {
   "cell_type": "code",
   "execution_count": 7,
   "id": "54c4c3fe",
   "metadata": {},
   "outputs": [],
   "source": [
    "import random\n",
    "\n",
    "def random_weighting(keyFreq, posting, entryStats, collStats):\n",
    "    '''\n",
    "    Computes the Pivoted Normalization score of this document for a given query\n",
    "    \n",
    "    :param keyFrequency(float): the weight of the term in the query, usually 1 except during PRF.\n",
    "    :param posting(Posting): access to the information about the occurrence of the term in the current document (frequency, document length etc).\n",
    "    :param entryStats(EntryStatistics): access to the information about the occurrence of the term in the whole index (document frequency, etc.).\n",
    "    :param collStats(CollectionStatistics): access to the information about the index as a whole (number of documents, etc).\n",
    "    :return: the Pivoted Normalization score of this document for the given query\n",
    "    '''\n",
    "    return random.random()\n",
    "random_model=pt.BatchRetrieve(index,wmodel=random_weighting)"
   ]
  },
  {
   "cell_type": "code",
   "execution_count": 8,
   "id": "923db434",
   "metadata": {},
   "outputs": [
    {
     "name": "stderr",
     "output_type": "stream",
     "text": [
      "/tmp/ipykernel_3764012/1103802641.py:2: SettingWithCopyWarning: \n",
      "A value is trying to be set on a copy of a slice from a DataFrame.\n",
      "Try using .loc[row_indexer,col_indexer] = value instead\n",
      "\n",
      "See the caveats in the documentation: https://pandas.pydata.org/pandas-docs/stable/user_guide/indexing.html#returning-a-view-versus-a-copy\n",
      "  df_query2['qid']=df_query2['qid'].astype('str')\n"
     ]
    }
   ],
   "source": [
    "\n",
    "\n",
    "df_query2=df_query[df_query['qid']<10]\n",
    "df_query2['qid']=df_query2['qid'].astype('str')\n",
    "df_label2=pd.read_csv(\"labels.csv\")\n",
    "df_label2['qid']=df_label2['qid'].astype('str')\n",
    "df_label2['docno']=df_label2['docno'].astype('str')\n",
    "df_label2['label']=df_label2['label'].astype('int64')"
   ]
  },
  {
   "cell_type": "code",
   "execution_count": 9,
   "id": "81a0cff3",
   "metadata": {},
   "outputs": [
    {
     "data": {
      "text/html": [
       "<div>\n",
       "<style scoped>\n",
       "    .dataframe tbody tr th:only-of-type {\n",
       "        vertical-align: middle;\n",
       "    }\n",
       "\n",
       "    .dataframe tbody tr th {\n",
       "        vertical-align: top;\n",
       "    }\n",
       "\n",
       "    .dataframe thead th {\n",
       "        text-align: right;\n",
       "    }\n",
       "</style>\n",
       "<table border=\"1\" class=\"dataframe\">\n",
       "  <thead>\n",
       "    <tr style=\"text-align: right;\">\n",
       "      <th></th>\n",
       "      <th>qid</th>\n",
       "      <th>docno</th>\n",
       "      <th>label</th>\n",
       "    </tr>\n",
       "  </thead>\n",
       "  <tbody>\n",
       "  </tbody>\n",
       "</table>\n",
       "</div>"
      ],
      "text/plain": [
       "Empty DataFrame\n",
       "Columns: [qid, docno, label]\n",
       "Index: []"
      ]
     },
     "execution_count": 9,
     "metadata": {},
     "output_type": "execute_result"
    }
   ],
   "source": [
    "df_label2[df_label2['label'].isna()]"
   ]
  },
  {
   "cell_type": "code",
   "execution_count": 11,
   "id": "f4f8e4fe",
   "metadata": {},
   "outputs": [
    {
     "data": {
      "text/html": [
       "<div>\n",
       "<style scoped>\n",
       "    .dataframe tbody tr th:only-of-type {\n",
       "        vertical-align: middle;\n",
       "    }\n",
       "\n",
       "    .dataframe tbody tr th {\n",
       "        vertical-align: top;\n",
       "    }\n",
       "\n",
       "    .dataframe thead th {\n",
       "        text-align: right;\n",
       "    }\n",
       "</style>\n",
       "<table border=\"1\" class=\"dataframe\">\n",
       "  <thead>\n",
       "    <tr style=\"text-align: right;\">\n",
       "      <th></th>\n",
       "      <th>name</th>\n",
       "      <th>map</th>\n",
       "      <th>ndcg</th>\n",
       "      <th>nDCG@5</th>\n",
       "      <th>nDCG@10</th>\n",
       "    </tr>\n",
       "  </thead>\n",
       "  <tbody>\n",
       "    <tr>\n",
       "      <th>0</th>\n",
       "      <td>BR(BM25)</td>\n",
       "      <td>0.641219</td>\n",
       "      <td>0.800433</td>\n",
       "      <td>0.646783</td>\n",
       "      <td>0.573949</td>\n",
       "    </tr>\n",
       "    <tr>\n",
       "      <th>1</th>\n",
       "      <td>RankCutoff(BR(BM25), 150)</td>\n",
       "      <td>0.640902</td>\n",
       "      <td>0.799456</td>\n",
       "      <td>0.646783</td>\n",
       "      <td>0.573949</td>\n",
       "    </tr>\n",
       "    <tr>\n",
       "      <th>2</th>\n",
       "      <td>BR(DPH)</td>\n",
       "      <td>0.275001</td>\n",
       "      <td>0.620768</td>\n",
       "      <td>0.322488</td>\n",
       "      <td>0.298724</td>\n",
       "    </tr>\n",
       "  </tbody>\n",
       "</table>\n",
       "</div>"
      ],
      "text/plain": [
       "                        name       map      ndcg    nDCG@5   nDCG@10\n",
       "0                   BR(BM25)  0.641219  0.800433  0.646783  0.573949\n",
       "1  RankCutoff(BR(BM25), 150)  0.640902  0.799456  0.646783  0.573949\n",
       "2                    BR(DPH)  0.275001  0.620768  0.322488  0.298724"
      ]
     },
     "execution_count": 11,
     "metadata": {},
     "output_type": "execute_result"
    }
   ],
   "source": [
    "from pyterrier.measures import *\n",
    "\n",
    "\n",
    "pt.Experiment(\n",
    "    [bm25,bm25_150,random_model],\n",
    "    df_query2,\n",
    "    df_label2,\n",
    "    eval_metrics=[\"map\", \"ndcg\",nDCG@5,nDCG@10])"
   ]
  },
  {
   "cell_type": "markdown",
   "id": "07c6b044",
   "metadata": {},
   "source": [
    "### "
   ]
  }
 ],
 "metadata": {
  "kernelspec": {
   "display_name": "Python 3 (ipykernel)",
   "language": "python",
   "name": "python3"
  },
  "language_info": {
   "codemirror_mode": {
    "name": "ipython",
    "version": 3
   },
   "file_extension": ".py",
   "mimetype": "text/x-python",
   "name": "python",
   "nbconvert_exporter": "python",
   "pygments_lexer": "ipython3",
   "version": "3.9.7"
  }
 },
 "nbformat": 4,
 "nbformat_minor": 5
}
