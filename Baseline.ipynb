{
 "cells": [
  {
   "cell_type": "code",
   "execution_count": 1,
   "id": "48759e53",
   "metadata": {},
   "outputs": [
    {
     "data": {
      "text/plain": [
       "uname_result(system='Linux', node='gl1003.arc-ts.umich.edu', release='4.18.0-305.45.1.el8_4.x86_64', version='#1 SMP Wed Apr 6 13:48:37 EDT 2022', machine='x86_64')"
      ]
     },
     "execution_count": 1,
     "metadata": {},
     "output_type": "execute_result"
    }
   ],
   "source": [
    "import pandas as pd\n",
    "# Helpful for showing indexing information\n",
    "pd.set_option('display.max_colwidth', 150)\n",
    "\n",
    "import os\n",
    "import pyterrier as pt\n",
    "\n",
    "import platform\n",
    "platform.uname()"
   ]
  },
  {
   "cell_type": "code",
   "execution_count": 2,
   "id": "81a10179",
   "metadata": {},
   "outputs": [
    {
     "name": "stderr",
     "output_type": "stream",
     "text": [
      "PyTerrier 0.8.1 has loaded Terrier 5.6 (built by craigmacdonald on 2021-09-17 13:27)\n",
      "\n",
      "No etc/terrier.properties, using terrier.default.properties for bootstrap configuration.\n"
     ]
    }
   ],
   "source": [
    "if not pt.started():\n",
    "    pt.init()"
   ]
  },
  {
   "cell_type": "code",
   "execution_count": 3,
   "id": "4dca3f1d",
   "metadata": {},
   "outputs": [
    {
     "data": {
      "text/html": [
       "<div>\n",
       "<style scoped>\n",
       "    .dataframe tbody tr th:only-of-type {\n",
       "        vertical-align: middle;\n",
       "    }\n",
       "\n",
       "    .dataframe tbody tr th {\n",
       "        vertical-align: top;\n",
       "    }\n",
       "\n",
       "    .dataframe thead th {\n",
       "        text-align: right;\n",
       "    }\n",
       "</style>\n",
       "<table border=\"1\" class=\"dataframe\">\n",
       "  <thead>\n",
       "    <tr style=\"text-align: right;\">\n",
       "      <th></th>\n",
       "      <th>docno</th>\n",
       "      <th>title</th>\n",
       "      <th>synopsis</th>\n",
       "      <th>genre</th>\n",
       "      <th>aired</th>\n",
       "      <th>episodes</th>\n",
       "      <th>members</th>\n",
       "      <th>popularity</th>\n",
       "      <th>ranked</th>\n",
       "      <th>score</th>\n",
       "      <th>img_url</th>\n",
       "      <th>link</th>\n",
       "      <th>wiki_link</th>\n",
       "      <th>anime_name</th>\n",
       "      <th>wiki_intro</th>\n",
       "      <th>review</th>\n",
       "    </tr>\n",
       "  </thead>\n",
       "  <tbody>\n",
       "    <tr>\n",
       "      <th>0</th>\n",
       "      <td>28891</td>\n",
       "      <td>Haikyuu!! Second Season</td>\n",
       "      <td>Following their participation at the Inter-High, the Karasuno High School volleyball team attempts to refocus their efforts, aiming to conquer the...</td>\n",
       "      <td>['Comedy', 'Sports', 'Drama', 'School', 'Shounen']</td>\n",
       "      <td>Oct 4, 2015 to Mar 27, 2016</td>\n",
       "      <td>25.0</td>\n",
       "      <td>489888</td>\n",
       "      <td>141</td>\n",
       "      <td>25.0</td>\n",
       "      <td>8.82</td>\n",
       "      <td>https://cdn.myanimelist.net/images/anime/9/76662.jpg</td>\n",
       "      <td>https://myanimelist.net/anime/28891/Haikyuu_Second_Season</td>\n",
       "      <td>http://en.wikipedia.org/wiki/Haiky%C5%AB!!</td>\n",
       "      <td>Haikyū!!</td>\n",
       "      <td>Junior high school student, Shoyo Hinata, becomes obsessed with volleyball after catching a glimpse of Karasuno High School playing in Nationals o...</td>\n",
       "      <td>Overall: 10 \\r\\n \\r\\nPlot: 10 \\r\\n \\r\\nHaikyuu! is a sports genre anime, mainly tackling about Volleyball. In this kind of story, there's only one...</td>\n",
       "    </tr>\n",
       "  </tbody>\n",
       "</table>\n",
       "</div>"
      ],
      "text/plain": [
       "   docno                    title  \\\n",
       "0  28891  Haikyuu!! Second Season   \n",
       "\n",
       "                                                                                                                                                synopsis  \\\n",
       "0  Following their participation at the Inter-High, the Karasuno High School volleyball team attempts to refocus their efforts, aiming to conquer the...   \n",
       "\n",
       "                                                genre  \\\n",
       "0  ['Comedy', 'Sports', 'Drama', 'School', 'Shounen']   \n",
       "\n",
       "                         aired  episodes  members  popularity  ranked  score  \\\n",
       "0  Oct 4, 2015 to Mar 27, 2016      25.0   489888         141    25.0   8.82   \n",
       "\n",
       "                                                img_url  \\\n",
       "0  https://cdn.myanimelist.net/images/anime/9/76662.jpg   \n",
       "\n",
       "                                                        link  \\\n",
       "0  https://myanimelist.net/anime/28891/Haikyuu_Second_Season   \n",
       "\n",
       "                                    wiki_link anime_name  \\\n",
       "0  http://en.wikipedia.org/wiki/Haiky%C5%AB!!   Haikyū!!   \n",
       "\n",
       "                                                                                                                                              wiki_intro  \\\n",
       "0  Junior high school student, Shoyo Hinata, becomes obsessed with volleyball after catching a glimpse of Karasuno High School playing in Nationals o...   \n",
       "\n",
       "                                                                                                                                                  review  \n",
       "0  Overall: 10 \\r\\n \\r\\nPlot: 10 \\r\\n \\r\\nHaikyuu! is a sports genre anime, mainly tackling about Volleyball. In this kind of story, there's only one...  "
      ]
     },
     "execution_count": 3,
     "metadata": {},
     "output_type": "execute_result"
    }
   ],
   "source": [
    "df_anime=pd.read_csv('data_processed/anime_with_review.csv')\n",
    "df_anime=df_anime.rename(columns={'uid':'docno'})\n",
    "df_anime.head(1)"
   ]
  },
  {
   "cell_type": "code",
   "execution_count": 4,
   "id": "c18ef941",
   "metadata": {},
   "outputs": [],
   "source": [
    "df_anime['docno']=df_anime['docno'].astype(str)\n",
    "df_anime['popularity']=df_anime['popularity'].astype(str)\n",
    "df_anime['ranked']=df_anime['ranked'].astype(str)\n",
    "df_anime['score']=df_anime['score'].astype(str)\n",
    "df_anime['episodes']=df_anime['episodes'].astype(str)"
   ]
  },
  {
   "cell_type": "code",
   "execution_count": 5,
   "id": "50359085",
   "metadata": {},
   "outputs": [],
   "source": [
    "\n",
    "pt_index_path = './pt_index'\n",
    "\n",
    "if not os.path.exists(pt_index_path + \"/data.properties\"):\n",
    "\n",
    "    indexer = pt.DFIndexer(pt_index_path,overwrite=True)\n",
    "    index_ref = indexer.index(\n",
    "    df_anime['synopsis'],df_anime['docno'],df_anime['title'],df_anime['popularity'],df_anime['ranked'],df_anime['score'],\n",
    "    df_anime['episodes'],df_anime['wiki_intro'],df_anime['review']\n",
    ")\n",
    "\n",
    "else:\n",
    "    # if you already have the index, create an IndexRef from the data in pt_index_path\n",
    "    # that we can use to load using the IndexFactory\n",
    "    # TODO\n",
    "    index_ref = pt.IndexRef.of(pt_index_path+\"/data.properties\")\n",
    "index = pt.IndexFactory.of(index_ref)"
   ]
  },
  {
   "cell_type": "code",
   "execution_count": 6,
   "id": "5820cc43",
   "metadata": {},
   "outputs": [],
   "source": [
    "bm25_150 = pt.BatchRetrieve(index, wmodel=\"BM25\")%150"
   ]
  },
  {
   "cell_type": "code",
   "execution_count": 13,
   "id": "4f72e32d",
   "metadata": {},
   "outputs": [],
   "source": [
    "query=pd.read_csv('data_processed/query_list.csv')\n",
    "query.reset_index(inplace=True)\n",
    "query.rename(columns={'Query':'query','index':'qid'},inplace=True)\n",
    "train_query=query[query['Train/Test']=='Train'].drop(columns=['Train/Test'])\n",
    "test_query=query[query['Train/Test']=='Test'].drop(columns=['Train/Test'])"
   ]
  },
  {
   "cell_type": "code",
   "execution_count": 14,
   "id": "9d4ca65f",
   "metadata": {},
   "outputs": [
    {
     "data": {
      "text/html": [
       "<div>\n",
       "<style scoped>\n",
       "    .dataframe tbody tr th:only-of-type {\n",
       "        vertical-align: middle;\n",
       "    }\n",
       "\n",
       "    .dataframe tbody tr th {\n",
       "        vertical-align: top;\n",
       "    }\n",
       "\n",
       "    .dataframe thead th {\n",
       "        text-align: right;\n",
       "    }\n",
       "</style>\n",
       "<table border=\"1\" class=\"dataframe\">\n",
       "  <thead>\n",
       "    <tr style=\"text-align: right;\">\n",
       "      <th></th>\n",
       "      <th>qid</th>\n",
       "      <th>query</th>\n",
       "    </tr>\n",
       "  </thead>\n",
       "  <tbody>\n",
       "    <tr>\n",
       "      <th>0</th>\n",
       "      <td>0</td>\n",
       "      <td>An adventure of revenge, brotherhood</td>\n",
       "    </tr>\n",
       "    <tr>\n",
       "      <th>1</th>\n",
       "      <td>1</td>\n",
       "      <td>High school idol</td>\n",
       "    </tr>\n",
       "    <tr>\n",
       "      <th>2</th>\n",
       "      <td>2</td>\n",
       "      <td>Anime composed of independent stories</td>\n",
       "    </tr>\n",
       "    <tr>\n",
       "      <th>3</th>\n",
       "      <td>3</td>\n",
       "      <td>Anime featuring traditional Japanese culture</td>\n",
       "    </tr>\n",
       "    <tr>\n",
       "      <th>4</th>\n",
       "      <td>4</td>\n",
       "      <td>Romatic love story between a couple who struggle to be together</td>\n",
       "    </tr>\n",
       "    <tr>\n",
       "      <th>5</th>\n",
       "      <td>5</td>\n",
       "      <td>Complicated relationship, the hero is liked by many female characters</td>\n",
       "    </tr>\n",
       "    <tr>\n",
       "      <th>6</th>\n",
       "      <td>6</td>\n",
       "      <td>Seems to be a love story but actually not</td>\n",
       "    </tr>\n",
       "    <tr>\n",
       "      <th>7</th>\n",
       "      <td>7</td>\n",
       "      <td>Sports anime, the main character has huge ambitions in mind</td>\n",
       "    </tr>\n",
       "    <tr>\n",
       "      <th>8</th>\n",
       "      <td>8</td>\n",
       "      <td>Adapted from light novel</td>\n",
       "    </tr>\n",
       "    <tr>\n",
       "      <th>9</th>\n",
       "      <td>9</td>\n",
       "      <td>A group of people living together</td>\n",
       "    </tr>\n",
       "    <tr>\n",
       "      <th>20</th>\n",
       "      <td>20</td>\n",
       "      <td>Teenage love story</td>\n",
       "    </tr>\n",
       "    <tr>\n",
       "      <th>21</th>\n",
       "      <td>21</td>\n",
       "      <td>anime with female main character</td>\n",
       "    </tr>\n",
       "    <tr>\n",
       "      <th>22</th>\n",
       "      <td>22</td>\n",
       "      <td>stories with a twist at the end</td>\n",
       "    </tr>\n",
       "    <tr>\n",
       "      <th>23</th>\n",
       "      <td>23</td>\n",
       "      <td>coming of age</td>\n",
       "    </tr>\n",
       "    <tr>\n",
       "      <th>24</th>\n",
       "      <td>24</td>\n",
       "      <td>show that will make you cry</td>\n",
       "    </tr>\n",
       "    <tr>\n",
       "      <th>25</th>\n",
       "      <td>25</td>\n",
       "      <td>family drama between a brother and sister</td>\n",
       "    </tr>\n",
       "    <tr>\n",
       "      <th>26</th>\n",
       "      <td>26</td>\n",
       "      <td>humans and mythical creatures in the same world</td>\n",
       "    </tr>\n",
       "    <tr>\n",
       "      <th>27</th>\n",
       "      <td>27</td>\n",
       "      <td>vampire story involving romance</td>\n",
       "    </tr>\n",
       "    <tr>\n",
       "      <th>28</th>\n",
       "      <td>28</td>\n",
       "      <td>shows to watch when you need a pick me up</td>\n",
       "    </tr>\n",
       "    <tr>\n",
       "      <th>29</th>\n",
       "      <td>29</td>\n",
       "      <td>tragic ending with some characters died at last</td>\n",
       "    </tr>\n",
       "  </tbody>\n",
       "</table>\n",
       "</div>"
      ],
      "text/plain": [
       "    qid                                                                  query\n",
       "0     0                                   An adventure of revenge, brotherhood\n",
       "1     1                                                       High school idol\n",
       "2     2                                  Anime composed of independent stories\n",
       "3     3                           Anime featuring traditional Japanese culture\n",
       "4     4        Romatic love story between a couple who struggle to be together\n",
       "5     5  Complicated relationship, the hero is liked by many female characters\n",
       "6     6                              Seems to be a love story but actually not\n",
       "7     7            Sports anime, the main character has huge ambitions in mind\n",
       "8     8                                               Adapted from light novel\n",
       "9     9                                      A group of people living together\n",
       "20   20                                                     Teenage love story\n",
       "21   21                                       anime with female main character\n",
       "22   22                                        stories with a twist at the end\n",
       "23   23                                                          coming of age\n",
       "24   24                                            show that will make you cry\n",
       "25   25                              family drama between a brother and sister\n",
       "26   26                        humans and mythical creatures in the same world\n",
       "27   27                                        vampire story involving romance\n",
       "28   28                              shows to watch when you need a pick me up\n",
       "29   29                        tragic ending with some characters died at last"
      ]
     },
     "execution_count": 14,
     "metadata": {},
     "output_type": "execute_result"
    }
   ],
   "source": [
    "train_query"
   ]
  },
  {
   "cell_type": "code",
   "execution_count": 15,
   "id": "e2e3175a",
   "metadata": {},
   "outputs": [],
   "source": [
    "result=bm25_150(train_query)\n",
    "result=result.merge(df_anime,on=['docno'],how='left')\n",
    "result=result[['qid','docno','rank','score_x','query','title','synopsis','genre','wiki_intro','review']]"
   ]
  },
  {
   "cell_type": "code",
   "execution_count": 16,
   "id": "71b8bba9",
   "metadata": {},
   "outputs": [],
   "source": [
    "result.rename(columns={'score_x':'bm25_score'})\n",
    "result.to_csv('system_rating/baseline_rating.csv',index=False)"
   ]
  },
  {
   "cell_type": "code",
   "execution_count": 17,
   "id": "b8798267",
   "metadata": {},
   "outputs": [],
   "source": [
    "result_test=bm25_150(test_query)\n",
    "result_test=result_test.merge(df_anime,on=['docno'],how='left')\n",
    "result_test=result_test[['qid','docno','rank','score_x','query','title','synopsis','genre','wiki_intro','review']]\n",
    "result_test.rename(columns={'score_x':'bm25_score'})\n",
    "result_test.to_csv('system_rating/baseline_rating_test.csv',index=False)"
   ]
  },
  {
   "cell_type": "code",
   "execution_count": null,
   "id": "626d8cfe",
   "metadata": {},
   "outputs": [],
   "source": []
  }
 ],
 "metadata": {
  "kernelspec": {
   "display_name": "Python 3 (ipykernel)",
   "language": "python",
   "name": "python3"
  },
  "language_info": {
   "codemirror_mode": {
    "name": "ipython",
    "version": 3
   },
   "file_extension": ".py",
   "mimetype": "text/x-python",
   "name": "python",
   "nbconvert_exporter": "python",
   "pygments_lexer": "ipython3",
   "version": "3.9.7"
  }
 },
 "nbformat": 4,
 "nbformat_minor": 5
}
