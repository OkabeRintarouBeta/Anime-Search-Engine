{
 "cells": [
  {
   "cell_type": "code",
   "execution_count": 1,
   "id": "48759e53",
   "metadata": {
    "scrolled": true
   },
   "outputs": [
    {
     "name": "stderr",
     "output_type": "stream",
     "text": [
      "PyTerrier 0.9.1 has loaded Terrier 5.7 (built by craigm on 2022-11-10 18:30) and terrier-helper 0.0.7\n",
      "\n"
     ]
    },
    {
     "name": "stdout",
     "output_type": "stream",
     "text": [
      "Better speed can be achieved with apex installed from https://www.github.com/nvidia/apex.\n"
     ]
    },
    {
     "name": "stderr",
     "output_type": "stream",
     "text": [
      "No etc/terrier.properties, using terrier.default.properties for bootstrap configuration.\n"
     ]
    }
   ],
   "source": [
    "import pandas as pd\n",
    "# Helpful for showing indexing information\n",
    "pd.set_option('display.max_colwidth', 150)\n",
    "\n",
    "import os\n",
    "import pyterrier as pt\n",
    "\n",
    "if not pt.started():\n",
    "    pt.init(tqdm='notebook')\n",
    "import onir_pt\n",
    "\n",
    "import math\n"
   ]
  },
  {
   "cell_type": "code",
   "execution_count": 10,
   "id": "b6856fe2",
   "metadata": {},
   "outputs": [],
   "source": [
    "# import pyterrier_doc2query"
   ]
  },
  {
   "cell_type": "code",
   "execution_count": 5,
   "id": "4dca3f1d",
   "metadata": {
    "scrolled": true
   },
   "outputs": [
    {
     "data": {
      "text/html": [
       "<div>\n",
       "<style scoped>\n",
       "    .dataframe tbody tr th:only-of-type {\n",
       "        vertical-align: middle;\n",
       "    }\n",
       "\n",
       "    .dataframe tbody tr th {\n",
       "        vertical-align: top;\n",
       "    }\n",
       "\n",
       "    .dataframe thead th {\n",
       "        text-align: right;\n",
       "    }\n",
       "</style>\n",
       "<table border=\"1\" class=\"dataframe\">\n",
       "  <thead>\n",
       "    <tr style=\"text-align: right;\">\n",
       "      <th></th>\n",
       "      <th>docno</th>\n",
       "      <th>title</th>\n",
       "      <th>synopsis</th>\n",
       "      <th>genre</th>\n",
       "      <th>aired</th>\n",
       "      <th>episodes</th>\n",
       "      <th>members</th>\n",
       "      <th>popularity</th>\n",
       "      <th>ranked</th>\n",
       "      <th>score</th>\n",
       "      <th>img_url</th>\n",
       "      <th>link</th>\n",
       "      <th>wiki_link</th>\n",
       "      <th>anime_name</th>\n",
       "      <th>wiki_intro</th>\n",
       "      <th>review</th>\n",
       "    </tr>\n",
       "  </thead>\n",
       "  <tbody>\n",
       "    <tr>\n",
       "      <th>0</th>\n",
       "      <td>28891</td>\n",
       "      <td>Haikyuu!! Second Season</td>\n",
       "      <td>Following their participation at the Inter-High, the Karasuno High School volleyball team attempts to refocus their efforts, aiming to conquer the...</td>\n",
       "      <td>['Comedy', 'Sports', 'Drama', 'School', 'Shounen']</td>\n",
       "      <td>Oct 4, 2015 to Mar 27, 2016</td>\n",
       "      <td>25.0</td>\n",
       "      <td>489888</td>\n",
       "      <td>141</td>\n",
       "      <td>25.0</td>\n",
       "      <td>8.82</td>\n",
       "      <td>https://cdn.myanimelist.net/images/anime/9/76662.jpg</td>\n",
       "      <td>https://myanimelist.net/anime/28891/Haikyuu_Second_Season</td>\n",
       "      <td>http://en.wikipedia.org/wiki/Haiky%C5%AB!!</td>\n",
       "      <td>Haikyū!!</td>\n",
       "      <td>Junior high school student, Shoyo Hinata, becomes obsessed with volleyball after catching a glimpse of Karasuno High School playing in Nationals o...</td>\n",
       "      <td>Overall: 10 \\r\\n \\r\\nPlot: 10 \\r\\n \\r\\nHaikyuu! is a sports genre anime, mainly tackling about Volleyball. In this kind of story, there's only one...</td>\n",
       "    </tr>\n",
       "  </tbody>\n",
       "</table>\n",
       "</div>"
      ],
      "text/plain": [
       "   docno                    title  \\\n",
       "0  28891  Haikyuu!! Second Season   \n",
       "\n",
       "                                                                                                                                                synopsis  \\\n",
       "0  Following their participation at the Inter-High, the Karasuno High School volleyball team attempts to refocus their efforts, aiming to conquer the...   \n",
       "\n",
       "                                                genre  \\\n",
       "0  ['Comedy', 'Sports', 'Drama', 'School', 'Shounen']   \n",
       "\n",
       "                         aired  episodes  members  popularity  ranked  score  \\\n",
       "0  Oct 4, 2015 to Mar 27, 2016      25.0   489888         141    25.0   8.82   \n",
       "\n",
       "                                                img_url  \\\n",
       "0  https://cdn.myanimelist.net/images/anime/9/76662.jpg   \n",
       "\n",
       "                                                        link  \\\n",
       "0  https://myanimelist.net/anime/28891/Haikyuu_Second_Season   \n",
       "\n",
       "                                    wiki_link anime_name  \\\n",
       "0  http://en.wikipedia.org/wiki/Haiky%C5%AB!!   Haikyū!!   \n",
       "\n",
       "                                                                                                                                              wiki_intro  \\\n",
       "0  Junior high school student, Shoyo Hinata, becomes obsessed with volleyball after catching a glimpse of Karasuno High School playing in Nationals o...   \n",
       "\n",
       "                                                                                                                                                  review  \n",
       "0  Overall: 10 \\r\\n \\r\\nPlot: 10 \\r\\n \\r\\nHaikyuu! is a sports genre anime, mainly tackling about Volleyball. In this kind of story, there's only one...  "
      ]
     },
     "execution_count": 5,
     "metadata": {},
     "output_type": "execute_result"
    }
   ],
   "source": [
    "df_anime=pd.read_csv('data_processed/anime_with_review.csv')\n",
    "df_anime=df_anime.rename(columns={'uid':'docno'})\n",
    "df_anime.head(1)"
   ]
  },
  {
   "cell_type": "code",
   "execution_count": 7,
   "id": "e00ab26a",
   "metadata": {},
   "outputs": [
    {
     "name": "stdout",
     "output_type": "stream",
     "text": [
      "<class 'pandas.core.frame.DataFrame'>\n",
      "RangeIndex: 4545 entries, 0 to 4544\n",
      "Data columns (total 16 columns):\n",
      " #   Column      Non-Null Count  Dtype  \n",
      "---  ------      --------------  -----  \n",
      " 0   docno       4545 non-null   int64  \n",
      " 1   title       4545 non-null   object \n",
      " 2   synopsis    4517 non-null   object \n",
      " 3   genre       4545 non-null   object \n",
      " 4   aired       4545 non-null   object \n",
      " 5   episodes    4527 non-null   float64\n",
      " 6   members     4545 non-null   int64  \n",
      " 7   popularity  4545 non-null   int64  \n",
      " 8   ranked      4451 non-null   float64\n",
      " 9   score       4545 non-null   float64\n",
      " 10  img_url     4545 non-null   object \n",
      " 11  link        4545 non-null   object \n",
      " 12  wiki_link   4545 non-null   object \n",
      " 13  anime_name  4545 non-null   object \n",
      " 14  wiki_intro  4545 non-null   object \n",
      " 15  review      4545 non-null   object \n",
      "dtypes: float64(3), int64(3), object(10)\n",
      "memory usage: 568.2+ KB\n"
     ]
    }
   ],
   "source": [
    "df_anime.info()"
   ]
  },
  {
   "cell_type": "code",
   "execution_count": 19,
   "id": "c18ef941",
   "metadata": {},
   "outputs": [],
   "source": [
    "df_anime['docno']=df_anime['docno'].astype(str)\n",
    "df_anime['title']=df_anime['title'].astype(str)\n",
    "df_anime['synosis']=df_anime['synopsis'].astype(str)\n",
    "df_anime['popularity']=df_anime['popularity'].astype(str)\n",
    "df_anime['ranked']=df_anime['ranked'].astype(str)\n",
    "df_anime['score']=df_anime['score'].astype(str)\n",
    "df_anime['episodes']=df_anime['episodes'].astype(str)\n",
    "df_anime['members']=df_anime['members'].astype(str)"
   ]
  },
  {
   "cell_type": "code",
   "execution_count": 21,
   "id": "50359085",
   "metadata": {},
   "outputs": [
    {
     "name": "stderr",
     "output_type": "stream",
     "text": [
      "Traceback (most recent call last):\n",
      "  File \"jnius/jnius_proxy.pxi\", line 50, in jnius.PythonJavaClass.invoke\n",
      "  File \"jnius/jnius_conversion.pxi\", line 76, in jnius.populate_args\n",
      "  File \"/home/zihuiliu/.local/lib/python3.9/site-packages/pyterrier/index.py\", line 713, in next\n",
      "    lastdoc = self.convertFn(text, meta)\n",
      "  File \"/home/zihuiliu/.local/lib/python3.9/site-packages/pyterrier/index.py\", line 625, in convertDoc\n",
      "    return TaggedDocument(StringReader(text_row), hashmap, Tokeniser.getTokeniser())\n",
      "  File \"jnius/jnius_export_class.pxi\", line 271, in jnius.JavaClass.__init__\n",
      "  File \"jnius/jnius_export_class.pxi\", line 364, in jnius.JavaClass.call_constructor\n",
      "  File \"jnius/jnius_conversion.pxi\", line 76, in jnius.populate_args\n",
      "  File \"jnius/jnius_utils.pxi\", line 205, in jnius.check_assignable_from_str\n",
      "TypeError: Invalid instance of 'java/lang/Float' passed for a 'java/lang/String'\n"
     ]
    },
    {
     "name": "stdout",
     "output_type": "stream",
     "text": [
      "12:13:53.001 [main] WARN org.terrier.structures.indexing.Indexer - skipping null document\n"
     ]
    },
    {
     "name": "stderr",
     "output_type": "stream",
     "text": [
      "Traceback (most recent call last):\n",
      "  File \"jnius/jnius_proxy.pxi\", line 50, in jnius.PythonJavaClass.invoke\n",
      "  File \"jnius/jnius_conversion.pxi\", line 76, in jnius.populate_args\n",
      "  File \"/home/zihuiliu/.local/lib/python3.9/site-packages/pyterrier/index.py\", line 713, in next\n",
      "    lastdoc = self.convertFn(text, meta)\n",
      "  File \"/home/zihuiliu/.local/lib/python3.9/site-packages/pyterrier/index.py\", line 625, in convertDoc\n",
      "    return TaggedDocument(StringReader(text_row), hashmap, Tokeniser.getTokeniser())\n",
      "  File \"jnius/jnius_export_class.pxi\", line 271, in jnius.JavaClass.__init__\n",
      "  File \"jnius/jnius_export_class.pxi\", line 364, in jnius.JavaClass.call_constructor\n",
      "  File \"jnius/jnius_conversion.pxi\", line 76, in jnius.populate_args\n",
      "  File \"jnius/jnius_utils.pxi\", line 205, in jnius.check_assignable_from_str\n",
      "TypeError: Invalid instance of 'java/lang/Float' passed for a 'java/lang/String'\n"
     ]
    },
    {
     "name": "stdout",
     "output_type": "stream",
     "text": [
      "12:13:53.008 [main] WARN org.terrier.structures.indexing.Indexer - skipping null document\n"
     ]
    },
    {
     "name": "stderr",
     "output_type": "stream",
     "text": [
      "Traceback (most recent call last):\n",
      "  File \"jnius/jnius_proxy.pxi\", line 50, in jnius.PythonJavaClass.invoke\n",
      "  File \"jnius/jnius_conversion.pxi\", line 76, in jnius.populate_args\n",
      "  File \"/home/zihuiliu/.local/lib/python3.9/site-packages/pyterrier/index.py\", line 713, in next\n",
      "    lastdoc = self.convertFn(text, meta)\n",
      "  File \"/home/zihuiliu/.local/lib/python3.9/site-packages/pyterrier/index.py\", line 625, in convertDoc\n",
      "    return TaggedDocument(StringReader(text_row), hashmap, Tokeniser.getTokeniser())\n",
      "  File \"jnius/jnius_export_class.pxi\", line 271, in jnius.JavaClass.__init__\n",
      "  File \"jnius/jnius_export_class.pxi\", line 364, in jnius.JavaClass.call_constructor\n",
      "  File \"jnius/jnius_conversion.pxi\", line 76, in jnius.populate_args\n",
      "  File \"jnius/jnius_utils.pxi\", line 205, in jnius.check_assignable_from_str\n",
      "TypeError: Invalid instance of 'java/lang/Float' passed for a 'java/lang/String'\n"
     ]
    },
    {
     "name": "stdout",
     "output_type": "stream",
     "text": [
      "12:13:53.200 [main] WARN org.terrier.structures.indexing.Indexer - skipping null document\n"
     ]
    },
    {
     "name": "stderr",
     "output_type": "stream",
     "text": [
      "Traceback (most recent call last):\n",
      "  File \"jnius/jnius_proxy.pxi\", line 50, in jnius.PythonJavaClass.invoke\n",
      "  File \"jnius/jnius_conversion.pxi\", line 76, in jnius.populate_args\n",
      "  File \"/home/zihuiliu/.local/lib/python3.9/site-packages/pyterrier/index.py\", line 713, in next\n",
      "    lastdoc = self.convertFn(text, meta)\n",
      "  File \"/home/zihuiliu/.local/lib/python3.9/site-packages/pyterrier/index.py\", line 625, in convertDoc\n",
      "    return TaggedDocument(StringReader(text_row), hashmap, Tokeniser.getTokeniser())\n",
      "  File \"jnius/jnius_export_class.pxi\", line 271, in jnius.JavaClass.__init__\n",
      "  File \"jnius/jnius_export_class.pxi\", line 364, in jnius.JavaClass.call_constructor\n",
      "  File \"jnius/jnius_conversion.pxi\", line 76, in jnius.populate_args\n",
      "  File \"jnius/jnius_utils.pxi\", line 205, in jnius.check_assignable_from_str\n",
      "TypeError: Invalid instance of 'java/lang/Float' passed for a 'java/lang/String'\n"
     ]
    },
    {
     "name": "stdout",
     "output_type": "stream",
     "text": [
      "12:13:53.209 [main] WARN org.terrier.structures.indexing.Indexer - skipping null document\n"
     ]
    },
    {
     "name": "stderr",
     "output_type": "stream",
     "text": [
      "Traceback (most recent call last):\n",
      "  File \"jnius/jnius_proxy.pxi\", line 50, in jnius.PythonJavaClass.invoke\n",
      "  File \"jnius/jnius_conversion.pxi\", line 76, in jnius.populate_args\n",
      "  File \"/home/zihuiliu/.local/lib/python3.9/site-packages/pyterrier/index.py\", line 713, in next\n",
      "    lastdoc = self.convertFn(text, meta)\n",
      "  File \"/home/zihuiliu/.local/lib/python3.9/site-packages/pyterrier/index.py\", line 625, in convertDoc\n",
      "    return TaggedDocument(StringReader(text_row), hashmap, Tokeniser.getTokeniser())\n",
      "  File \"jnius/jnius_export_class.pxi\", line 271, in jnius.JavaClass.__init__\n",
      "  File \"jnius/jnius_export_class.pxi\", line 364, in jnius.JavaClass.call_constructor\n",
      "  File \"jnius/jnius_conversion.pxi\", line 76, in jnius.populate_args\n",
      "  File \"jnius/jnius_utils.pxi\", line 205, in jnius.check_assignable_from_str\n",
      "TypeError: Invalid instance of 'java/lang/Float' passed for a 'java/lang/String'\n"
     ]
    },
    {
     "name": "stdout",
     "output_type": "stream",
     "text": [
      "12:13:53.292 [main] WARN org.terrier.structures.indexing.Indexer - skipping null document\n"
     ]
    },
    {
     "name": "stderr",
     "output_type": "stream",
     "text": [
      "Traceback (most recent call last):\n",
      "  File \"jnius/jnius_proxy.pxi\", line 50, in jnius.PythonJavaClass.invoke\n",
      "  File \"jnius/jnius_conversion.pxi\", line 76, in jnius.populate_args\n",
      "  File \"/home/zihuiliu/.local/lib/python3.9/site-packages/pyterrier/index.py\", line 713, in next\n",
      "    lastdoc = self.convertFn(text, meta)\n",
      "  File \"/home/zihuiliu/.local/lib/python3.9/site-packages/pyterrier/index.py\", line 625, in convertDoc\n",
      "    return TaggedDocument(StringReader(text_row), hashmap, Tokeniser.getTokeniser())\n",
      "  File \"jnius/jnius_export_class.pxi\", line 271, in jnius.JavaClass.__init__\n",
      "  File \"jnius/jnius_export_class.pxi\", line 364, in jnius.JavaClass.call_constructor\n",
      "  File \"jnius/jnius_conversion.pxi\", line 76, in jnius.populate_args\n",
      "  File \"jnius/jnius_utils.pxi\", line 205, in jnius.check_assignable_from_str\n",
      "TypeError: Invalid instance of 'java/lang/Float' passed for a 'java/lang/String'\n"
     ]
    },
    {
     "name": "stdout",
     "output_type": "stream",
     "text": [
      "12:13:53.317 [main] WARN org.terrier.structures.indexing.Indexer - skipping null document\n"
     ]
    },
    {
     "name": "stderr",
     "output_type": "stream",
     "text": [
      "Traceback (most recent call last):\n",
      "  File \"jnius/jnius_proxy.pxi\", line 50, in jnius.PythonJavaClass.invoke\n",
      "  File \"jnius/jnius_conversion.pxi\", line 76, in jnius.populate_args\n",
      "  File \"/home/zihuiliu/.local/lib/python3.9/site-packages/pyterrier/index.py\", line 713, in next\n",
      "    lastdoc = self.convertFn(text, meta)\n",
      "  File \"/home/zihuiliu/.local/lib/python3.9/site-packages/pyterrier/index.py\", line 625, in convertDoc\n",
      "    return TaggedDocument(StringReader(text_row), hashmap, Tokeniser.getTokeniser())\n",
      "  File \"jnius/jnius_export_class.pxi\", line 271, in jnius.JavaClass.__init__\n",
      "  File \"jnius/jnius_export_class.pxi\", line 364, in jnius.JavaClass.call_constructor\n",
      "  File \"jnius/jnius_conversion.pxi\", line 76, in jnius.populate_args\n",
      "  File \"jnius/jnius_utils.pxi\", line 205, in jnius.check_assignable_from_str\n",
      "TypeError: Invalid instance of 'java/lang/Float' passed for a 'java/lang/String'\n"
     ]
    },
    {
     "name": "stdout",
     "output_type": "stream",
     "text": [
      "12:13:53.390 [main] WARN org.terrier.structures.indexing.Indexer - skipping null document\n"
     ]
    },
    {
     "name": "stderr",
     "output_type": "stream",
     "text": [
      "Traceback (most recent call last):\n",
      "  File \"jnius/jnius_proxy.pxi\", line 50, in jnius.PythonJavaClass.invoke\n",
      "  File \"jnius/jnius_conversion.pxi\", line 76, in jnius.populate_args\n",
      "  File \"/home/zihuiliu/.local/lib/python3.9/site-packages/pyterrier/index.py\", line 713, in next\n",
      "    lastdoc = self.convertFn(text, meta)\n",
      "  File \"/home/zihuiliu/.local/lib/python3.9/site-packages/pyterrier/index.py\", line 625, in convertDoc\n",
      "    return TaggedDocument(StringReader(text_row), hashmap, Tokeniser.getTokeniser())\n",
      "  File \"jnius/jnius_export_class.pxi\", line 271, in jnius.JavaClass.__init__\n",
      "  File \"jnius/jnius_export_class.pxi\", line 364, in jnius.JavaClass.call_constructor\n",
      "  File \"jnius/jnius_conversion.pxi\", line 76, in jnius.populate_args\n",
      "  File \"jnius/jnius_utils.pxi\", line 205, in jnius.check_assignable_from_str\n",
      "TypeError: Invalid instance of 'java/lang/Float' passed for a 'java/lang/String'\n"
     ]
    },
    {
     "name": "stdout",
     "output_type": "stream",
     "text": [
      "12:13:53.452 [main] WARN org.terrier.structures.indexing.Indexer - skipping null document\n"
     ]
    },
    {
     "name": "stderr",
     "output_type": "stream",
     "text": [
      "Traceback (most recent call last):\n",
      "  File \"jnius/jnius_proxy.pxi\", line 50, in jnius.PythonJavaClass.invoke\n",
      "  File \"jnius/jnius_conversion.pxi\", line 76, in jnius.populate_args\n",
      "  File \"/home/zihuiliu/.local/lib/python3.9/site-packages/pyterrier/index.py\", line 713, in next\n",
      "    lastdoc = self.convertFn(text, meta)\n",
      "  File \"/home/zihuiliu/.local/lib/python3.9/site-packages/pyterrier/index.py\", line 625, in convertDoc\n",
      "    return TaggedDocument(StringReader(text_row), hashmap, Tokeniser.getTokeniser())\n",
      "  File \"jnius/jnius_export_class.pxi\", line 271, in jnius.JavaClass.__init__\n",
      "  File \"jnius/jnius_export_class.pxi\", line 364, in jnius.JavaClass.call_constructor\n",
      "  File \"jnius/jnius_conversion.pxi\", line 76, in jnius.populate_args\n",
      "  File \"jnius/jnius_utils.pxi\", line 205, in jnius.check_assignable_from_str\n",
      "TypeError: Invalid instance of 'java/lang/Float' passed for a 'java/lang/String'\n"
     ]
    },
    {
     "name": "stdout",
     "output_type": "stream",
     "text": [
      "12:13:53.488 [main] WARN org.terrier.structures.indexing.Indexer - skipping null document\n"
     ]
    },
    {
     "name": "stderr",
     "output_type": "stream",
     "text": [
      "Traceback (most recent call last):\n",
      "  File \"jnius/jnius_proxy.pxi\", line 50, in jnius.PythonJavaClass.invoke\n",
      "  File \"jnius/jnius_conversion.pxi\", line 76, in jnius.populate_args\n",
      "  File \"/home/zihuiliu/.local/lib/python3.9/site-packages/pyterrier/index.py\", line 713, in next\n",
      "    lastdoc = self.convertFn(text, meta)\n",
      "  File \"/home/zihuiliu/.local/lib/python3.9/site-packages/pyterrier/index.py\", line 625, in convertDoc\n",
      "    return TaggedDocument(StringReader(text_row), hashmap, Tokeniser.getTokeniser())\n",
      "  File \"jnius/jnius_export_class.pxi\", line 271, in jnius.JavaClass.__init__\n",
      "  File \"jnius/jnius_export_class.pxi\", line 364, in jnius.JavaClass.call_constructor\n",
      "  File \"jnius/jnius_conversion.pxi\", line 76, in jnius.populate_args\n",
      "  File \"jnius/jnius_utils.pxi\", line 205, in jnius.check_assignable_from_str\n",
      "TypeError: Invalid instance of 'java/lang/Float' passed for a 'java/lang/String'\n"
     ]
    },
    {
     "name": "stdout",
     "output_type": "stream",
     "text": [
      "12:13:53.867 [main] WARN org.terrier.structures.indexing.Indexer - skipping null document\n"
     ]
    },
    {
     "name": "stderr",
     "output_type": "stream",
     "text": [
      "Traceback (most recent call last):\n",
      "  File \"jnius/jnius_proxy.pxi\", line 50, in jnius.PythonJavaClass.invoke\n",
      "  File \"jnius/jnius_conversion.pxi\", line 76, in jnius.populate_args\n",
      "  File \"/home/zihuiliu/.local/lib/python3.9/site-packages/pyterrier/index.py\", line 713, in next\n",
      "    lastdoc = self.convertFn(text, meta)\n",
      "  File \"/home/zihuiliu/.local/lib/python3.9/site-packages/pyterrier/index.py\", line 625, in convertDoc\n",
      "    return TaggedDocument(StringReader(text_row), hashmap, Tokeniser.getTokeniser())\n",
      "  File \"jnius/jnius_export_class.pxi\", line 271, in jnius.JavaClass.__init__\n",
      "  File \"jnius/jnius_export_class.pxi\", line 364, in jnius.JavaClass.call_constructor\n",
      "  File \"jnius/jnius_conversion.pxi\", line 76, in jnius.populate_args\n",
      "  File \"jnius/jnius_utils.pxi\", line 205, in jnius.check_assignable_from_str\n",
      "TypeError: Invalid instance of 'java/lang/Float' passed for a 'java/lang/String'\n"
     ]
    },
    {
     "name": "stdout",
     "output_type": "stream",
     "text": [
      "12:13:53.886 [main] WARN org.terrier.structures.indexing.Indexer - skipping null document\n"
     ]
    },
    {
     "name": "stderr",
     "output_type": "stream",
     "text": [
      "Traceback (most recent call last):\n",
      "  File \"jnius/jnius_proxy.pxi\", line 50, in jnius.PythonJavaClass.invoke\n",
      "  File \"jnius/jnius_conversion.pxi\", line 76, in jnius.populate_args\n",
      "  File \"/home/zihuiliu/.local/lib/python3.9/site-packages/pyterrier/index.py\", line 713, in next\n",
      "    lastdoc = self.convertFn(text, meta)\n",
      "  File \"/home/zihuiliu/.local/lib/python3.9/site-packages/pyterrier/index.py\", line 625, in convertDoc\n",
      "    return TaggedDocument(StringReader(text_row), hashmap, Tokeniser.getTokeniser())\n",
      "  File \"jnius/jnius_export_class.pxi\", line 271, in jnius.JavaClass.__init__\n",
      "  File \"jnius/jnius_export_class.pxi\", line 364, in jnius.JavaClass.call_constructor\n",
      "  File \"jnius/jnius_conversion.pxi\", line 76, in jnius.populate_args\n",
      "  File \"jnius/jnius_utils.pxi\", line 205, in jnius.check_assignable_from_str\n",
      "TypeError: Invalid instance of 'java/lang/Float' passed for a 'java/lang/String'\n"
     ]
    },
    {
     "name": "stdout",
     "output_type": "stream",
     "text": [
      "12:13:53.967 [main] WARN org.terrier.structures.indexing.Indexer - skipping null document\n"
     ]
    },
    {
     "name": "stderr",
     "output_type": "stream",
     "text": [
      "Traceback (most recent call last):\n",
      "  File \"jnius/jnius_proxy.pxi\", line 50, in jnius.PythonJavaClass.invoke\n",
      "  File \"jnius/jnius_conversion.pxi\", line 76, in jnius.populate_args\n",
      "  File \"/home/zihuiliu/.local/lib/python3.9/site-packages/pyterrier/index.py\", line 713, in next\n",
      "    lastdoc = self.convertFn(text, meta)\n",
      "  File \"/home/zihuiliu/.local/lib/python3.9/site-packages/pyterrier/index.py\", line 625, in convertDoc\n",
      "    return TaggedDocument(StringReader(text_row), hashmap, Tokeniser.getTokeniser())\n",
      "  File \"jnius/jnius_export_class.pxi\", line 271, in jnius.JavaClass.__init__\n",
      "  File \"jnius/jnius_export_class.pxi\", line 364, in jnius.JavaClass.call_constructor\n",
      "  File \"jnius/jnius_conversion.pxi\", line 76, in jnius.populate_args\n",
      "  File \"jnius/jnius_utils.pxi\", line 205, in jnius.check_assignable_from_str\n",
      "TypeError: Invalid instance of 'java/lang/Float' passed for a 'java/lang/String'\n"
     ]
    },
    {
     "name": "stdout",
     "output_type": "stream",
     "text": [
      "12:13:54.021 [main] WARN org.terrier.structures.indexing.Indexer - skipping null document\n"
     ]
    },
    {
     "name": "stderr",
     "output_type": "stream",
     "text": [
      "Traceback (most recent call last):\n",
      "  File \"jnius/jnius_proxy.pxi\", line 50, in jnius.PythonJavaClass.invoke\n",
      "  File \"jnius/jnius_conversion.pxi\", line 76, in jnius.populate_args\n",
      "  File \"/home/zihuiliu/.local/lib/python3.9/site-packages/pyterrier/index.py\", line 713, in next\n",
      "    lastdoc = self.convertFn(text, meta)\n",
      "  File \"/home/zihuiliu/.local/lib/python3.9/site-packages/pyterrier/index.py\", line 625, in convertDoc\n",
      "    return TaggedDocument(StringReader(text_row), hashmap, Tokeniser.getTokeniser())\n",
      "  File \"jnius/jnius_export_class.pxi\", line 271, in jnius.JavaClass.__init__\n",
      "  File \"jnius/jnius_export_class.pxi\", line 364, in jnius.JavaClass.call_constructor\n",
      "  File \"jnius/jnius_conversion.pxi\", line 76, in jnius.populate_args\n",
      "  File \"jnius/jnius_utils.pxi\", line 205, in jnius.check_assignable_from_str\n",
      "TypeError: Invalid instance of 'java/lang/Float' passed for a 'java/lang/String'\n"
     ]
    },
    {
     "name": "stdout",
     "output_type": "stream",
     "text": [
      "12:13:54.152 [main] WARN org.terrier.structures.indexing.Indexer - skipping null document\n"
     ]
    },
    {
     "name": "stderr",
     "output_type": "stream",
     "text": [
      "Traceback (most recent call last):\n",
      "  File \"jnius/jnius_proxy.pxi\", line 50, in jnius.PythonJavaClass.invoke\n",
      "  File \"jnius/jnius_conversion.pxi\", line 76, in jnius.populate_args\n",
      "  File \"/home/zihuiliu/.local/lib/python3.9/site-packages/pyterrier/index.py\", line 713, in next\n",
      "    lastdoc = self.convertFn(text, meta)\n",
      "  File \"/home/zihuiliu/.local/lib/python3.9/site-packages/pyterrier/index.py\", line 625, in convertDoc\n",
      "    return TaggedDocument(StringReader(text_row), hashmap, Tokeniser.getTokeniser())\n",
      "  File \"jnius/jnius_export_class.pxi\", line 271, in jnius.JavaClass.__init__\n",
      "  File \"jnius/jnius_export_class.pxi\", line 364, in jnius.JavaClass.call_constructor\n",
      "  File \"jnius/jnius_conversion.pxi\", line 76, in jnius.populate_args\n",
      "  File \"jnius/jnius_utils.pxi\", line 205, in jnius.check_assignable_from_str\n",
      "TypeError: Invalid instance of 'java/lang/Float' passed for a 'java/lang/String'\n"
     ]
    },
    {
     "name": "stdout",
     "output_type": "stream",
     "text": [
      "12:13:54.327 [main] WARN org.terrier.structures.indexing.Indexer - skipping null document\n"
     ]
    },
    {
     "name": "stderr",
     "output_type": "stream",
     "text": [
      "Traceback (most recent call last):\n",
      "  File \"jnius/jnius_proxy.pxi\", line 50, in jnius.PythonJavaClass.invoke\n",
      "  File \"jnius/jnius_conversion.pxi\", line 76, in jnius.populate_args\n",
      "  File \"/home/zihuiliu/.local/lib/python3.9/site-packages/pyterrier/index.py\", line 713, in next\n",
      "    lastdoc = self.convertFn(text, meta)\n",
      "  File \"/home/zihuiliu/.local/lib/python3.9/site-packages/pyterrier/index.py\", line 625, in convertDoc\n",
      "    return TaggedDocument(StringReader(text_row), hashmap, Tokeniser.getTokeniser())\n",
      "  File \"jnius/jnius_export_class.pxi\", line 271, in jnius.JavaClass.__init__\n",
      "  File \"jnius/jnius_export_class.pxi\", line 364, in jnius.JavaClass.call_constructor\n",
      "  File \"jnius/jnius_conversion.pxi\", line 76, in jnius.populate_args\n",
      "  File \"jnius/jnius_utils.pxi\", line 205, in jnius.check_assignable_from_str\n",
      "TypeError: Invalid instance of 'java/lang/Float' passed for a 'java/lang/String'\n"
     ]
    },
    {
     "name": "stdout",
     "output_type": "stream",
     "text": [
      "12:13:54.735 [main] WARN org.terrier.structures.indexing.Indexer - skipping null document\n"
     ]
    },
    {
     "name": "stderr",
     "output_type": "stream",
     "text": [
      "Traceback (most recent call last):\n",
      "  File \"jnius/jnius_proxy.pxi\", line 50, in jnius.PythonJavaClass.invoke\n",
      "  File \"jnius/jnius_conversion.pxi\", line 76, in jnius.populate_args\n",
      "  File \"/home/zihuiliu/.local/lib/python3.9/site-packages/pyterrier/index.py\", line 713, in next\n",
      "    lastdoc = self.convertFn(text, meta)\n",
      "  File \"/home/zihuiliu/.local/lib/python3.9/site-packages/pyterrier/index.py\", line 625, in convertDoc\n",
      "    return TaggedDocument(StringReader(text_row), hashmap, Tokeniser.getTokeniser())\n",
      "  File \"jnius/jnius_export_class.pxi\", line 271, in jnius.JavaClass.__init__\n",
      "  File \"jnius/jnius_export_class.pxi\", line 364, in jnius.JavaClass.call_constructor\n",
      "  File \"jnius/jnius_conversion.pxi\", line 76, in jnius.populate_args\n",
      "  File \"jnius/jnius_utils.pxi\", line 205, in jnius.check_assignable_from_str\n",
      "TypeError: Invalid instance of 'java/lang/Float' passed for a 'java/lang/String'\n"
     ]
    },
    {
     "name": "stdout",
     "output_type": "stream",
     "text": [
      "12:13:55.011 [main] WARN org.terrier.structures.indexing.Indexer - skipping null document\n"
     ]
    },
    {
     "name": "stderr",
     "output_type": "stream",
     "text": [
      "Traceback (most recent call last):\n",
      "  File \"jnius/jnius_proxy.pxi\", line 50, in jnius.PythonJavaClass.invoke\n",
      "  File \"jnius/jnius_conversion.pxi\", line 76, in jnius.populate_args\n",
      "  File \"/home/zihuiliu/.local/lib/python3.9/site-packages/pyterrier/index.py\", line 713, in next\n",
      "    lastdoc = self.convertFn(text, meta)\n",
      "  File \"/home/zihuiliu/.local/lib/python3.9/site-packages/pyterrier/index.py\", line 625, in convertDoc\n",
      "    return TaggedDocument(StringReader(text_row), hashmap, Tokeniser.getTokeniser())\n",
      "  File \"jnius/jnius_export_class.pxi\", line 271, in jnius.JavaClass.__init__\n",
      "  File \"jnius/jnius_export_class.pxi\", line 364, in jnius.JavaClass.call_constructor\n",
      "  File \"jnius/jnius_conversion.pxi\", line 76, in jnius.populate_args\n",
      "  File \"jnius/jnius_utils.pxi\", line 205, in jnius.check_assignable_from_str\n",
      "TypeError: Invalid instance of 'java/lang/Float' passed for a 'java/lang/String'\n"
     ]
    },
    {
     "name": "stdout",
     "output_type": "stream",
     "text": [
      "12:13:55.058 [main] WARN org.terrier.structures.indexing.Indexer - skipping null document\n"
     ]
    },
    {
     "name": "stderr",
     "output_type": "stream",
     "text": [
      "Traceback (most recent call last):\n",
      "  File \"jnius/jnius_proxy.pxi\", line 50, in jnius.PythonJavaClass.invoke\n",
      "  File \"jnius/jnius_conversion.pxi\", line 76, in jnius.populate_args\n",
      "  File \"/home/zihuiliu/.local/lib/python3.9/site-packages/pyterrier/index.py\", line 713, in next\n",
      "    lastdoc = self.convertFn(text, meta)\n",
      "  File \"/home/zihuiliu/.local/lib/python3.9/site-packages/pyterrier/index.py\", line 625, in convertDoc\n",
      "    return TaggedDocument(StringReader(text_row), hashmap, Tokeniser.getTokeniser())\n",
      "  File \"jnius/jnius_export_class.pxi\", line 271, in jnius.JavaClass.__init__\n",
      "  File \"jnius/jnius_export_class.pxi\", line 364, in jnius.JavaClass.call_constructor\n",
      "  File \"jnius/jnius_conversion.pxi\", line 76, in jnius.populate_args\n",
      "  File \"jnius/jnius_utils.pxi\", line 205, in jnius.check_assignable_from_str\n",
      "TypeError: Invalid instance of 'java/lang/Float' passed for a 'java/lang/String'\n"
     ]
    },
    {
     "name": "stdout",
     "output_type": "stream",
     "text": [
      "12:13:55.167 [main] WARN org.terrier.structures.indexing.Indexer - skipping null document\n"
     ]
    },
    {
     "name": "stderr",
     "output_type": "stream",
     "text": [
      "Traceback (most recent call last):\n",
      "  File \"jnius/jnius_proxy.pxi\", line 50, in jnius.PythonJavaClass.invoke\n",
      "  File \"jnius/jnius_conversion.pxi\", line 76, in jnius.populate_args\n",
      "  File \"/home/zihuiliu/.local/lib/python3.9/site-packages/pyterrier/index.py\", line 713, in next\n",
      "    lastdoc = self.convertFn(text, meta)\n",
      "  File \"/home/zihuiliu/.local/lib/python3.9/site-packages/pyterrier/index.py\", line 625, in convertDoc\n",
      "    return TaggedDocument(StringReader(text_row), hashmap, Tokeniser.getTokeniser())\n",
      "  File \"jnius/jnius_export_class.pxi\", line 271, in jnius.JavaClass.__init__\n",
      "  File \"jnius/jnius_export_class.pxi\", line 364, in jnius.JavaClass.call_constructor\n",
      "  File \"jnius/jnius_conversion.pxi\", line 76, in jnius.populate_args\n",
      "  File \"jnius/jnius_utils.pxi\", line 205, in jnius.check_assignable_from_str\n",
      "TypeError: Invalid instance of 'java/lang/Float' passed for a 'java/lang/String'\n"
     ]
    },
    {
     "name": "stdout",
     "output_type": "stream",
     "text": [
      "12:13:55.579 [main] WARN org.terrier.structures.indexing.Indexer - skipping null document\n"
     ]
    },
    {
     "name": "stderr",
     "output_type": "stream",
     "text": [
      "Traceback (most recent call last):\n",
      "  File \"jnius/jnius_proxy.pxi\", line 50, in jnius.PythonJavaClass.invoke\n",
      "  File \"jnius/jnius_conversion.pxi\", line 76, in jnius.populate_args\n",
      "  File \"/home/zihuiliu/.local/lib/python3.9/site-packages/pyterrier/index.py\", line 713, in next\n",
      "    lastdoc = self.convertFn(text, meta)\n",
      "  File \"/home/zihuiliu/.local/lib/python3.9/site-packages/pyterrier/index.py\", line 625, in convertDoc\n",
      "    return TaggedDocument(StringReader(text_row), hashmap, Tokeniser.getTokeniser())\n",
      "  File \"jnius/jnius_export_class.pxi\", line 271, in jnius.JavaClass.__init__\n",
      "  File \"jnius/jnius_export_class.pxi\", line 364, in jnius.JavaClass.call_constructor\n",
      "  File \"jnius/jnius_conversion.pxi\", line 76, in jnius.populate_args\n",
      "  File \"jnius/jnius_utils.pxi\", line 205, in jnius.check_assignable_from_str\n",
      "TypeError: Invalid instance of 'java/lang/Float' passed for a 'java/lang/String'\n"
     ]
    },
    {
     "name": "stdout",
     "output_type": "stream",
     "text": [
      "12:13:55.638 [main] WARN org.terrier.structures.indexing.Indexer - skipping null document\n"
     ]
    },
    {
     "name": "stderr",
     "output_type": "stream",
     "text": [
      "Traceback (most recent call last):\n",
      "  File \"jnius/jnius_proxy.pxi\", line 50, in jnius.PythonJavaClass.invoke\n",
      "  File \"jnius/jnius_conversion.pxi\", line 76, in jnius.populate_args\n",
      "  File \"/home/zihuiliu/.local/lib/python3.9/site-packages/pyterrier/index.py\", line 713, in next\n",
      "    lastdoc = self.convertFn(text, meta)\n",
      "  File \"/home/zihuiliu/.local/lib/python3.9/site-packages/pyterrier/index.py\", line 625, in convertDoc\n",
      "    return TaggedDocument(StringReader(text_row), hashmap, Tokeniser.getTokeniser())\n",
      "  File \"jnius/jnius_export_class.pxi\", line 271, in jnius.JavaClass.__init__\n",
      "  File \"jnius/jnius_export_class.pxi\", line 364, in jnius.JavaClass.call_constructor\n",
      "  File \"jnius/jnius_conversion.pxi\", line 76, in jnius.populate_args\n",
      "  File \"jnius/jnius_utils.pxi\", line 205, in jnius.check_assignable_from_str\n",
      "TypeError: Invalid instance of 'java/lang/Float' passed for a 'java/lang/String'\n"
     ]
    },
    {
     "name": "stdout",
     "output_type": "stream",
     "text": [
      "12:13:55.861 [main] WARN org.terrier.structures.indexing.Indexer - skipping null document\n"
     ]
    },
    {
     "name": "stderr",
     "output_type": "stream",
     "text": [
      "Traceback (most recent call last):\n",
      "  File \"jnius/jnius_proxy.pxi\", line 50, in jnius.PythonJavaClass.invoke\n",
      "  File \"jnius/jnius_conversion.pxi\", line 76, in jnius.populate_args\n",
      "  File \"/home/zihuiliu/.local/lib/python3.9/site-packages/pyterrier/index.py\", line 713, in next\n",
      "    lastdoc = self.convertFn(text, meta)\n",
      "  File \"/home/zihuiliu/.local/lib/python3.9/site-packages/pyterrier/index.py\", line 625, in convertDoc\n",
      "    return TaggedDocument(StringReader(text_row), hashmap, Tokeniser.getTokeniser())\n",
      "  File \"jnius/jnius_export_class.pxi\", line 271, in jnius.JavaClass.__init__\n",
      "  File \"jnius/jnius_export_class.pxi\", line 364, in jnius.JavaClass.call_constructor\n",
      "  File \"jnius/jnius_conversion.pxi\", line 76, in jnius.populate_args\n",
      "  File \"jnius/jnius_utils.pxi\", line 205, in jnius.check_assignable_from_str\n",
      "TypeError: Invalid instance of 'java/lang/Float' passed for a 'java/lang/String'\n"
     ]
    },
    {
     "name": "stdout",
     "output_type": "stream",
     "text": [
      "12:13:56.367 [main] WARN org.terrier.structures.indexing.Indexer - skipping null document\n"
     ]
    },
    {
     "name": "stderr",
     "output_type": "stream",
     "text": [
      "Traceback (most recent call last):\n",
      "  File \"jnius/jnius_proxy.pxi\", line 50, in jnius.PythonJavaClass.invoke\n",
      "  File \"jnius/jnius_conversion.pxi\", line 76, in jnius.populate_args\n",
      "  File \"/home/zihuiliu/.local/lib/python3.9/site-packages/pyterrier/index.py\", line 713, in next\n",
      "    lastdoc = self.convertFn(text, meta)\n",
      "  File \"/home/zihuiliu/.local/lib/python3.9/site-packages/pyterrier/index.py\", line 625, in convertDoc\n",
      "    return TaggedDocument(StringReader(text_row), hashmap, Tokeniser.getTokeniser())\n",
      "  File \"jnius/jnius_export_class.pxi\", line 271, in jnius.JavaClass.__init__\n",
      "  File \"jnius/jnius_export_class.pxi\", line 364, in jnius.JavaClass.call_constructor\n",
      "  File \"jnius/jnius_conversion.pxi\", line 76, in jnius.populate_args\n",
      "  File \"jnius/jnius_utils.pxi\", line 205, in jnius.check_assignable_from_str\n",
      "TypeError: Invalid instance of 'java/lang/Float' passed for a 'java/lang/String'\n"
     ]
    },
    {
     "name": "stdout",
     "output_type": "stream",
     "text": [
      "12:13:56.539 [main] WARN org.terrier.structures.indexing.Indexer - skipping null document\n"
     ]
    },
    {
     "name": "stderr",
     "output_type": "stream",
     "text": [
      "Traceback (most recent call last):\n",
      "  File \"jnius/jnius_proxy.pxi\", line 50, in jnius.PythonJavaClass.invoke\n",
      "  File \"jnius/jnius_conversion.pxi\", line 76, in jnius.populate_args\n",
      "  File \"/home/zihuiliu/.local/lib/python3.9/site-packages/pyterrier/index.py\", line 713, in next\n",
      "    lastdoc = self.convertFn(text, meta)\n",
      "  File \"/home/zihuiliu/.local/lib/python3.9/site-packages/pyterrier/index.py\", line 625, in convertDoc\n",
      "    return TaggedDocument(StringReader(text_row), hashmap, Tokeniser.getTokeniser())\n",
      "  File \"jnius/jnius_export_class.pxi\", line 271, in jnius.JavaClass.__init__\n",
      "  File \"jnius/jnius_export_class.pxi\", line 364, in jnius.JavaClass.call_constructor\n",
      "  File \"jnius/jnius_conversion.pxi\", line 76, in jnius.populate_args\n",
      "  File \"jnius/jnius_utils.pxi\", line 205, in jnius.check_assignable_from_str\n",
      "TypeError: Invalid instance of 'java/lang/Float' passed for a 'java/lang/String'\n"
     ]
    },
    {
     "name": "stdout",
     "output_type": "stream",
     "text": [
      "12:13:57.206 [main] WARN org.terrier.structures.indexing.Indexer - skipping null document\n"
     ]
    },
    {
     "name": "stderr",
     "output_type": "stream",
     "text": [
      "Traceback (most recent call last):\n",
      "  File \"jnius/jnius_proxy.pxi\", line 50, in jnius.PythonJavaClass.invoke\n",
      "  File \"jnius/jnius_conversion.pxi\", line 76, in jnius.populate_args\n",
      "  File \"/home/zihuiliu/.local/lib/python3.9/site-packages/pyterrier/index.py\", line 713, in next\n",
      "    lastdoc = self.convertFn(text, meta)\n",
      "  File \"/home/zihuiliu/.local/lib/python3.9/site-packages/pyterrier/index.py\", line 625, in convertDoc\n",
      "    return TaggedDocument(StringReader(text_row), hashmap, Tokeniser.getTokeniser())\n",
      "  File \"jnius/jnius_export_class.pxi\", line 271, in jnius.JavaClass.__init__\n",
      "  File \"jnius/jnius_export_class.pxi\", line 364, in jnius.JavaClass.call_constructor\n",
      "  File \"jnius/jnius_conversion.pxi\", line 76, in jnius.populate_args\n",
      "  File \"jnius/jnius_utils.pxi\", line 205, in jnius.check_assignable_from_str\n",
      "TypeError: Invalid instance of 'java/lang/Float' passed for a 'java/lang/String'\n"
     ]
    },
    {
     "name": "stdout",
     "output_type": "stream",
     "text": [
      "12:13:57.482 [main] WARN org.terrier.structures.indexing.Indexer - skipping null document\n"
     ]
    },
    {
     "name": "stderr",
     "output_type": "stream",
     "text": [
      "Traceback (most recent call last):\n",
      "  File \"jnius/jnius_proxy.pxi\", line 50, in jnius.PythonJavaClass.invoke\n",
      "  File \"jnius/jnius_conversion.pxi\", line 76, in jnius.populate_args\n",
      "  File \"/home/zihuiliu/.local/lib/python3.9/site-packages/pyterrier/index.py\", line 713, in next\n",
      "    lastdoc = self.convertFn(text, meta)\n",
      "  File \"/home/zihuiliu/.local/lib/python3.9/site-packages/pyterrier/index.py\", line 625, in convertDoc\n",
      "    return TaggedDocument(StringReader(text_row), hashmap, Tokeniser.getTokeniser())\n",
      "  File \"jnius/jnius_export_class.pxi\", line 271, in jnius.JavaClass.__init__\n",
      "  File \"jnius/jnius_export_class.pxi\", line 364, in jnius.JavaClass.call_constructor\n",
      "  File \"jnius/jnius_conversion.pxi\", line 76, in jnius.populate_args\n",
      "  File \"jnius/jnius_utils.pxi\", line 205, in jnius.check_assignable_from_str\n",
      "TypeError: Invalid instance of 'java/lang/Float' passed for a 'java/lang/String'\n"
     ]
    },
    {
     "name": "stdout",
     "output_type": "stream",
     "text": [
      "12:13:57.515 [main] WARN org.terrier.structures.indexing.Indexer - skipping null document\n"
     ]
    },
    {
     "name": "stderr",
     "output_type": "stream",
     "text": [
      "Traceback (most recent call last):\n",
      "  File \"jnius/jnius_proxy.pxi\", line 50, in jnius.PythonJavaClass.invoke\n",
      "  File \"jnius/jnius_conversion.pxi\", line 76, in jnius.populate_args\n",
      "  File \"/home/zihuiliu/.local/lib/python3.9/site-packages/pyterrier/index.py\", line 713, in next\n",
      "    lastdoc = self.convertFn(text, meta)\n",
      "  File \"/home/zihuiliu/.local/lib/python3.9/site-packages/pyterrier/index.py\", line 625, in convertDoc\n",
      "    return TaggedDocument(StringReader(text_row), hashmap, Tokeniser.getTokeniser())\n",
      "  File \"jnius/jnius_export_class.pxi\", line 271, in jnius.JavaClass.__init__\n",
      "  File \"jnius/jnius_export_class.pxi\", line 364, in jnius.JavaClass.call_constructor\n",
      "  File \"jnius/jnius_conversion.pxi\", line 76, in jnius.populate_args\n",
      "  File \"jnius/jnius_utils.pxi\", line 205, in jnius.check_assignable_from_str\n",
      "TypeError: Invalid instance of 'java/lang/Float' passed for a 'java/lang/String'\n"
     ]
    },
    {
     "name": "stdout",
     "output_type": "stream",
     "text": [
      "12:13:57.551 [main] WARN org.terrier.structures.indexing.Indexer - skipping null document\n"
     ]
    }
   ],
   "source": [
    "\n",
    "pt_index_path = './pt_index_with_stemming'\n",
    "\n",
    "if not os.path.exists(pt_index_path + \"/data.properties\"):\n",
    "\n",
    "    indexer2 = pt.DFIndexer(pt_index_path,overwrite=True,blocks=True)\n",
    "    index_ref2 = indexer2.index(df_anime['synopsis'],df_anime['docno'],df_anime['title'],df_anime['synopsis'],df_anime['popularity'],df_anime['ranked'],df_anime['score'],df_anime['episodes'],df_anime['wiki_intro'],df_anime['review'])\n",
    "\n",
    "else:\n",
    "    # if you already have the index, create an IndexRef from the data in pt_index_path\n",
    "    # that we can use to load using the IndexFactory\n",
    "    # TODO\n",
    "    index_ref2 = pt.IndexRef.of(pt_index_path+\"/data.properties\")\n",
    "index2 = pt.IndexFactory.of(index_ref2)"
   ]
  },
  {
   "cell_type": "code",
   "execution_count": 17,
   "id": "029c9edc",
   "metadata": {},
   "outputs": [],
   "source": [
    "\n",
    "# indexer2 = pt.DFIndexer('./pt_index2',overwrite=True,blocks=True)\n",
    "# indexer2.setProperty(\"termpipelines\",\"EnglishSnowballStemmer\")\n",
    "# index_ref2 = indexer2.index(\n",
    "#     df_anime['synopsis'],df_anime['docno'],df_anime['synopsis'],df_anime['title'],df_anime['popularity'],df_anime['ranked'],df_anime['score'],\n",
    "#     df_anime['episodes'],df_anime['wiki_intro'],df_anime['review']\n",
    "# )\n",
    "# index2 = pt.IndexFactory.of(index_ref2)"
   ]
  },
  {
   "cell_type": "code",
   "execution_count": 22,
   "id": "5820cc43",
   "metadata": {},
   "outputs": [],
   "source": [
    "bm25_150 = pt.BatchRetrieve(index2, wmodel=\"BM25\")%150\n",
    "bm25=pt.BatchRetrieve(index2,wmodel='BM25')\n",
    "tf_idf = pt.BatchRetrieve(index2, wmodel=\"TF_IDF\")"
   ]
  },
  {
   "cell_type": "code",
   "execution_count": 23,
   "id": "4f72e32d",
   "metadata": {},
   "outputs": [],
   "source": [
    "query=pd.read_csv('data_processed/query_list.csv')\n",
    "query.reset_index(inplace=True)\n",
    "query.rename(columns={'Query':'query','index':'qid'},inplace=True)\n",
    "query['query']=query['query'].apply(lambda x:x.replace(',',\" \"))\n",
    "train_query=query[query['Train/Test']=='Train'].drop(columns=['Train/Test'])\n",
    "test_query=query[query['Train/Test']=='Test'].drop(columns=['Train/Test'])"
   ]
  },
  {
   "cell_type": "code",
   "execution_count": 24,
   "id": "9d4ca65f",
   "metadata": {},
   "outputs": [],
   "source": [
    "df_query=train_query.append(test_query)\n",
    "df_query=df_query.reset_index().drop(columns=['index'])\n",
    "df_query['query']=df_query['query'].apply(lambda x:x.replace(',',\" \"))"
   ]
  },
  {
   "cell_type": "code",
   "execution_count": 25,
   "id": "a6033a82",
   "metadata": {},
   "outputs": [
    {
     "name": "stdout",
     "output_type": "stream",
     "text": [
      "Number of documents: 4517\n",
      "Number of terms: 20551\n",
      "Number of postings: 214508\n",
      "Number of fields: 0\n",
      "Number of tokens: 255416\n",
      "Field names: []\n",
      "Positions:   true\n",
      "\n"
     ]
    }
   ],
   "source": [
    "print(index2.getCollectionStatistics().toString())"
   ]
  },
  {
   "cell_type": "code",
   "execution_count": 26,
   "id": "b5d52386",
   "metadata": {
    "scrolled": true
   },
   "outputs": [
    {
     "name": "stderr",
     "output_type": "stream",
     "text": [
      "/tmp/ipykernel_1333370/1490441622.py:2: SettingWithCopyWarning: \n",
      "A value is trying to be set on a copy of a slice from a DataFrame.\n",
      "Try using .loc[row_indexer,col_indexer] = value instead\n",
      "\n",
      "See the caveats in the documentation: https://pandas.pydata.org/pandas-docs/stable/user_guide/indexing.html#returning-a-view-versus-a-copy\n",
      "  df_query_train['qid']=df_query_train['qid'].astype('str')\n",
      "/tmp/ipykernel_1333370/1490441622.py:9: SettingWithCopyWarning: \n",
      "A value is trying to be set on a copy of a slice from a DataFrame.\n",
      "Try using .loc[row_indexer,col_indexer] = value instead\n",
      "\n",
      "See the caveats in the documentation: https://pandas.pydata.org/pandas-docs/stable/user_guide/indexing.html#returning-a-view-versus-a-copy\n",
      "  df_query_test['qid']=df_query_test['qid'].astype('str')\n"
     ]
    }
   ],
   "source": [
    "\n",
    "df_query_train=df_query[df_query['qid'].isin([0,1,2,3,4,5,6,7,8,9,20,21,22,23,24,25,26,27,28,29,30])]\n",
    "df_query_train['qid']=df_query_train['qid'].astype('str')\n",
    "df_label_train=pd.read_csv(\"labels.csv\")\n",
    "df_label_train['qid']=df_label_train['qid'].astype('str')\n",
    "df_label_train['docno']=df_label_train['docno'].astype('str')\n",
    "df_label_train['label']=df_label_train['label'].astype('int64')\n",
    "\n",
    "df_query_test=df_query[df_query['qid'].isin([10,11,12,13,14,15,16,17,18,19,31,32,33,34,35,36,37,38,39,40])]\n",
    "df_query_test['qid']=df_query_test['qid'].astype('str')\n",
    "df_label_test=pd.read_csv(\"labels_test.csv\")\n",
    "df_label_test['qid']=df_label_test['qid'].astype('str')\n",
    "df_label_test['docno']=df_label_test['docno'].astype('str')\n",
    "df_label_test['label']=df_label_test['label'].astype('int64')"
   ]
  },
  {
   "cell_type": "code",
   "execution_count": 19,
   "id": "1ce95fe9",
   "metadata": {},
   "outputs": [
    {
     "data": {
      "text/html": [
       "<div>\n",
       "<style scoped>\n",
       "    .dataframe tbody tr th:only-of-type {\n",
       "        vertical-align: middle;\n",
       "    }\n",
       "\n",
       "    .dataframe tbody tr th {\n",
       "        vertical-align: top;\n",
       "    }\n",
       "\n",
       "    .dataframe thead th {\n",
       "        text-align: right;\n",
       "    }\n",
       "</style>\n",
       "<table border=\"1\" class=\"dataframe\">\n",
       "  <thead>\n",
       "    <tr style=\"text-align: right;\">\n",
       "      <th></th>\n",
       "      <th>qid</th>\n",
       "      <th>docno</th>\n",
       "      <th>label</th>\n",
       "    </tr>\n",
       "  </thead>\n",
       "  <tbody>\n",
       "  </tbody>\n",
       "</table>\n",
       "</div>"
      ],
      "text/plain": [
       "Empty DataFrame\n",
       "Columns: [qid, docno, label]\n",
       "Index: []"
      ]
     },
     "execution_count": 19,
     "metadata": {},
     "output_type": "execute_result"
    }
   ],
   "source": [
    "df_label_train[df_label_train['label'].isna()]"
   ]
  },
  {
   "cell_type": "code",
   "execution_count": 27,
   "id": "68493970",
   "metadata": {},
   "outputs": [],
   "source": [
    "bm25 = pt.BatchRetrieve(index2, wmodel=\"BM25\")\n",
    "sdm = pt.rewrite.SDM()\n",
    "qe = pt.rewrite.Bo1QueryExpansion(index2)\n",
    "\n",
    "pipeline_sdm=sdm>>bm25\n",
    "pipeline_qe=bm25>>qe>>bm25"
   ]
  },
  {
   "cell_type": "markdown",
   "id": "17876dff",
   "metadata": {},
   "source": [
    "## Add re-rankers"
   ]
  },
  {
   "cell_type": "code",
   "execution_count": 28,
   "id": "7adafd5c",
   "metadata": {},
   "outputs": [
    {
     "name": "stdout",
     "output_type": "stream",
     "text": [
      "config file not found: config\n",
      "[2022-12-04 12:19:18,656][onir_pt][INFO] using cached checkpoint: /home/zihuiliu/data/onir/model_checkpoints/b7694d2fb4d4f8218e11734de239ad30\n",
      "[2022-12-04 12:19:18,699][WordvecHashVocab][DEBUG] [starting] reading cached at /home/zihuiliu/data/onir/vocab/wordvec_hash/fasttext-wiki-news-300d-1M.p\n",
      "[2022-12-04 12:19:34,904][WordvecHashVocab][DEBUG] [finished] reading cached at /home/zihuiliu/data/onir/vocab/wordvec_hash/fasttext-wiki-news-300d-1M.p [16.21s]\n",
      "[2022-12-04 12:19:40,235][onir_pt][INFO] using cached checkpoint: /home/zihuiliu/data/onir/model_checkpoints/1153203ea2abbdf7f760fa6956a83d83\n"
     ]
    }
   ],
   "source": [
    "import onir_pt\n",
    "\n",
    "knrm = onir_pt.reranker.from_checkpoint('https://macavaney.us/knrm.medmarco.tar.gz', text_field='wiki_intro', \n",
    "                                        expected_md5=\"d70b1d4f899690dae51161537e69ed5a\")\n",
    "vbert = onir_pt.reranker.from_checkpoint('https://macavaney.us/scibert-medmarco.tar.gz', \n",
    "                                         text_field='wiki_intro', expected_md5=\"854966d0b61543ffffa44cea627ab63b\")"
   ]
  },
  {
   "cell_type": "markdown",
   "id": "bb8fcc73",
   "metadata": {},
   "source": [
    "## Add Query Expansion"
   ]
  },
  {
   "cell_type": "code",
   "execution_count": 43,
   "id": "7b34f68e",
   "metadata": {},
   "outputs": [
    {
     "ename": "NameError",
     "evalue": "name 'pyterrier_doc2query' is not defined",
     "output_type": "error",
     "traceback": [
      "\u001b[0;31m---------------------------------------------------------------------------\u001b[0m",
      "\u001b[0;31mNameError\u001b[0m                                 Traceback (most recent call last)",
      "\u001b[0;32m/tmp/ipykernel_1953548/2474549462.py\u001b[0m in \u001b[0;36m<module>\u001b[0;34m\u001b[0m\n\u001b[1;32m      4\u001b[0m \u001b[0;34m\u001b[0m\u001b[0m\n\u001b[1;32m      5\u001b[0m \u001b[0;34m\u001b[0m\u001b[0m\n\u001b[0;32m----> 6\u001b[0;31m \u001b[0mdoc2query\u001b[0m \u001b[0;34m=\u001b[0m \u001b[0mpyterrier_doc2query\u001b[0m\u001b[0;34m.\u001b[0m\u001b[0mDoc2Query\u001b[0m\u001b[0;34m(\u001b[0m\u001b[0;34m'model.ckpt-1004000'\u001b[0m\u001b[0;34m,\u001b[0m \u001b[0mbatch_size\u001b[0m\u001b[0;34m=\u001b[0m\u001b[0;36m8\u001b[0m\u001b[0;34m)\u001b[0m\u001b[0;34m\u001b[0m\u001b[0;34m\u001b[0m\u001b[0m\n\u001b[0m",
      "\u001b[0;31mNameError\u001b[0m: name 'pyterrier_doc2query' is not defined"
     ]
    }
   ],
   "source": [
    "# if not os.path.exists(\"t5-base.zip\"):\n",
    "#   !wget https://git.uwaterloo.ca/jimmylin/doc2query-data/raw/master/T5-passage/t5-base.zip\n",
    "#   !unzip t5-base.zip\n",
    "\n",
    "\n",
    "# doc2query = pyterrier_doc2query.Doc2Query('model.ckpt-1004000', batch_size=8)"
   ]
  },
  {
   "cell_type": "code",
   "execution_count": 40,
   "id": "325980a5",
   "metadata": {},
   "outputs": [
    {
     "ename": "NameError",
     "evalue": "name 'pyterrier_doc2query' is not defined",
     "output_type": "error",
     "traceback": [
      "\u001b[0;31m---------------------------------------------------------------------------\u001b[0m",
      "\u001b[0;31mNameError\u001b[0m                                 Traceback (most recent call last)",
      "\u001b[0;32m/tmp/ipykernel_1953548/632816865.py\u001b[0m in \u001b[0;36m<module>\u001b[0;34m\u001b[0m\n\u001b[0;32m----> 1\u001b[0;31m indexer = ((pyterrier_doc2query.Doc2Query('model.ckpt-1004000', doc_attr='title', batch_size=8, append=True))\n\u001b[0m\u001b[1;32m      2\u001b[0m     \u001b[0;34m>>\u001b[0m \u001b[0mpt\u001b[0m\u001b[0;34m.\u001b[0m\u001b[0mapply\u001b[0m\u001b[0;34m.\u001b[0m\u001b[0mgeneric\u001b[0m\u001b[0;34m(\u001b[0m\u001b[0;32mlambda\u001b[0m \u001b[0mdf\u001b[0m\u001b[0;34m:\u001b[0m \u001b[0mdf\u001b[0m\u001b[0;34m.\u001b[0m\u001b[0mrename\u001b[0m\u001b[0;34m(\u001b[0m\u001b[0mcolumns\u001b[0m\u001b[0;34m=\u001b[0m\u001b[0;34m{\u001b[0m\u001b[0;34m'title'\u001b[0m\u001b[0;34m:\u001b[0m \u001b[0;34m'text'\u001b[0m\u001b[0;34m}\u001b[0m\u001b[0;34m)\u001b[0m\u001b[0;34m)\u001b[0m\u001b[0;34m\u001b[0m\u001b[0;34m\u001b[0m\u001b[0m\n\u001b[1;32m      3\u001b[0m     >> pt.IterDictIndexer(\"./doc2query_index_path\")) # index the expanded documents\n\u001b[1;32m      4\u001b[0m \u001b[0;34m\u001b[0m\u001b[0m\n\u001b[1;32m      5\u001b[0m \u001b[0mindexref_doc2query\u001b[0m \u001b[0;34m=\u001b[0m \u001b[0mindexer\u001b[0m\u001b[0;34m.\u001b[0m\u001b[0mindex\u001b[0m\u001b[0;34m(\u001b[0m\u001b[0mdf_anime\u001b[0m\u001b[0;34m[\u001b[0m\u001b[0;34m'synopsis'\u001b[0m\u001b[0;34m]\u001b[0m\u001b[0;34m,\u001b[0m\u001b[0mdf_anime\u001b[0m\u001b[0;34m[\u001b[0m\u001b[0;34m'docno'\u001b[0m\u001b[0;34m]\u001b[0m\u001b[0;34m,\u001b[0m\u001b[0mdf_anime\u001b[0m\u001b[0;34m[\u001b[0m\u001b[0;34m'title'\u001b[0m\u001b[0;34m]\u001b[0m\u001b[0;34m,\u001b[0m\u001b[0mdf_anime\u001b[0m\u001b[0;34m[\u001b[0m\u001b[0;34m'popularity'\u001b[0m\u001b[0;34m]\u001b[0m\u001b[0;34m,\u001b[0m\u001b[0mdf_anime\u001b[0m\u001b[0;34m[\u001b[0m\u001b[0;34m'ranked'\u001b[0m\u001b[0;34m]\u001b[0m\u001b[0;34m,\u001b[0m\u001b[0mdf_anime\u001b[0m\u001b[0;34m[\u001b[0m\u001b[0;34m'score'\u001b[0m\u001b[0;34m]\u001b[0m\u001b[0;34m,\u001b[0m\u001b[0mdf_anime\u001b[0m\u001b[0;34m[\u001b[0m\u001b[0;34m'episodes'\u001b[0m\u001b[0;34m]\u001b[0m\u001b[0;34m,\u001b[0m\u001b[0mdf_anime\u001b[0m\u001b[0;34m[\u001b[0m\u001b[0;34m'wiki_intro'\u001b[0m\u001b[0;34m]\u001b[0m\u001b[0;34m,\u001b[0m\u001b[0mdf_anime\u001b[0m\u001b[0;34m[\u001b[0m\u001b[0;34m'review'\u001b[0m\u001b[0;34m]\u001b[0m\u001b[0;34m)\u001b[0m\u001b[0;34m\u001b[0m\u001b[0;34m\u001b[0m\u001b[0m\n",
      "\u001b[0;31mNameError\u001b[0m: name 'pyterrier_doc2query' is not defined"
     ]
    }
   ],
   "source": [
    "\n",
    "# indexer = ((pyterrier_doc2query.Doc2Query('model.ckpt-1004000', doc_attr='title', batch_size=8, append=True))\n",
    "#     >> pt.apply.generic(lambda df: df.rename(columns={'title': 'text'}))\n",
    "#     >> pt.IterDictIndexer(\"./doc2query_index_path\")) # index the expanded documents\n",
    "\n",
    "# indexref_doc2query = indexer.index(df_anime['synopsis'],df_anime['docno'],df_anime['title'],df_anime['popularity'],df_anime['ranked'],df_anime['score'],df_anime['episodes'],df_anime['wiki_intro'],df_anime['review'])\n",
    "\n"
   ]
  },
  {
   "cell_type": "code",
   "execution_count": null,
   "id": "9e09c9c3",
   "metadata": {},
   "outputs": [],
   "source": [
    "# pipeline = pt.BatchRetrieve(doc2query_indexref) % 1 >> pt.text.get_text(dataset, 'title')"
   ]
  },
  {
   "cell_type": "markdown",
   "id": "41a8deef",
   "metadata": {},
   "source": [
    "# Learning to Rank"
   ]
  },
  {
   "cell_type": "code",
   "execution_count": 29,
   "id": "62062510",
   "metadata": {},
   "outputs": [],
   "source": [
    "RANK_CUTOFF = 20\n",
    "SEED=42\n",
    "\n",
    "from sklearn.model_selection import train_test_split\n",
    "\n",
    "# train_topics, val_topics = train_test_split(train_query, test_size=0.2, random_state=SEED)\n",
    "\n",
    "ltr_feats1 = (bm25 % RANK_CUTOFF) >> pt.text.get_text(index2, ['docno', 'title', 'synopsis' ,'popularity', 'wiki_intro', 'review']) >> (\n",
    "    pt.transformer.IdentityTransformer()\n",
    "    ** # sequential dependence\n",
    "    (sdm >> bm25)\n",
    "    ** # score of title (not originally indexed)\n",
    "    (pt.text.scorer(body_attr=\"title\", wmodel='TF_IDF')*5\n",
    "    +pt.text.scorer(body_attr=\"synopsis\",wmodel='BM25')*3+pt.text.scorer(body_attr=\"wiki_intro\",wmodel='BM25')*3\n",
    "    +pt.text.scorer(body_attr=\"review\",wmodel='BM25')) \n",
    "    **\n",
    "    (pt.apply.doc_score(lambda row: int(row[\"popularity\"])))\n",
    "    **\n",
    "    (pt.apply.doc_score(lambda row: 0 if row[\"wiki_intro\"]==\"none\" else 1))\n",
    "#     ** # has doi\n",
    "#     (pt.apply.doc_score(lambda row: int( row[\"doi\"] is not None and len(row[\"doi\"]) > 0) ))\n",
    "    ** # abstract coordinate match\n",
    "    pt.BatchRetrieve(index2, wmodel=\"CoordinateMatch\")\n",
    ")   "
   ]
  },
  {
   "cell_type": "code",
   "execution_count": 30,
   "id": "04b65918",
   "metadata": {},
   "outputs": [],
   "source": [
    "ltr_feats2 = (bm25 % RANK_CUTOFF) >> pt.text.get_text(index2, ['docno', 'title', 'synopsis','score', 'wiki_intro', 'review'])>> knrm >> (\n",
    "    pt.transformer.IdentityTransformer()\n",
    "    ** # score of title (not originally indexed)\n",
    "    (pt.text.scorer(body_attr=\"title\", wmodel='TF_IDF')*3\n",
    "    +pt.text.scorer(body_attr=\"synopsis\",wmodel='BM25')*2+pt.text.scorer(body_attr=\"wiki_intro\",wmodel='BM25')*2\n",
    "    +pt.text.scorer(body_attr=\"review\",wmodel='BM25')) \n",
    "    **\n",
    "    (pt.apply.doc_score(lambda row: int(row[\"score\"])))\n",
    "    **\n",
    "    (pt.apply.doc_score(lambda row: 0 if row[\"wiki_intro\"]==\"none\" else 1))\n",
    "#     ** # has doi\n",
    "#     (pt.apply.doc_score(lambda row: int( row[\"doi\"] is not None and len(row[\"doi\"]) > 0) ))\n",
    "    ** # abstract coordinate match\n",
    "    pt.BatchRetrieve(index2, wmodel=\"CoordinateMatch\")\n",
    ")"
   ]
  },
  {
   "cell_type": "code",
   "execution_count": 31,
   "id": "32b66ebf",
   "metadata": {},
   "outputs": [],
   "source": [
    "ltr_feats3 = (bm25 % RANK_CUTOFF) >> pt.text.get_text(index2, ['docno', 'title', 'synopsis','score', 'wiki_intro', 'review'])>> vbert >> (\n",
    "    pt.transformer.IdentityTransformer()\n",
    "    ** # score of title (not originally indexed)\n",
    "    (pt.text.scorer(body_attr=\"title\", wmodel='TF_IDF')*5\n",
    "    +pt.text.scorer(body_attr=\"synopsis\",wmodel='BM25')*3+pt.text.scorer(body_attr=\"wiki_intro\",wmodel='BM25')*3\n",
    "    +pt.text.scorer(body_attr=\"review\",wmodel='BM25')) \n",
    "    **\n",
    "    (pt.apply.doc_score(lambda row: int(row[\"score\"])))\n",
    "    **\n",
    "    (pt.apply.doc_score(lambda row: 0 if row[\"wiki_intro\"]==\"none\" else 1))\n",
    "    ** # abstract coordinate match\n",
    "    pt.BatchRetrieve(index2, wmodel=\"CoordinateMatch\")\n",
    ")"
   ]
  },
  {
   "cell_type": "code",
   "execution_count": 41,
   "id": "7c8dc40a",
   "metadata": {},
   "outputs": [],
   "source": [
    "ltr_feats4 = (bm25 % RANK_CUTOFF) >> pt.text.get_text(index2, ['docno', 'title', 'synopsis','score', 'wiki_intro', 'review','popularity'])>> knrm >> (\n",
    "    pt.transformer.IdentityTransformer()\n",
    "    ** # score of title (not originally indexed)\n",
    "    (pt.text.scorer(body_attr=\"title\", wmodel='TF_IDF')\n",
    "    +pt.text.scorer(body_attr=\"synopsis\",wmodel='BM25')+pt.text.scorer(body_attr=\"wiki_intro\",wmodel='BM25')\n",
    "    +pt.text.scorer(body_attr=\"review\",wmodel='BM25'))\n",
    "    **\n",
    "    (pt.apply.doc_score(lambda row: int(math.log((int)(row[\"popularity\"])))))\n",
    "    **\n",
    "    (pt.apply.doc_score(lambda row: 0 if row[\"wiki_intro\"]==\"none\" else 1))\n",
    "    ** # abstract coordinate match\n",
    "    pt.BatchRetrieve(index2, wmodel=\"CoordinateMatch\")\n",
    ")"
   ]
  },
  {
   "cell_type": "code",
   "execution_count": 42,
   "id": "38e5c242",
   "metadata": {},
   "outputs": [],
   "source": [
    "ltr_feats5 = (bm25 % RANK_CUTOFF) >> pt.text.get_text(index2, ['docno', 'title', 'synopsis','score', 'wiki_intro', 'review','popularity'])>> vbert >> (\n",
    "    pt.transformer.IdentityTransformer()\n",
    "    ** # score of title (not originally indexed)\n",
    "    (pt.text.scorer(body_attr=\"title\", wmodel='TF_IDF')\n",
    "    +pt.text.scorer(body_attr=\"synopsis\",wmodel='BM25')+pt.text.scorer(body_attr=\"wiki_intro\",wmodel='BM25')\n",
    "    +pt.text.scorer(body_attr=\"review\",wmodel='BM25'))\n",
    "    **\n",
    "    (pt.apply.doc_score(lambda row: int(math.log((int)(row[\"popularity\"])))))\n",
    "    **\n",
    "    (pt.apply.doc_score(lambda row: 0 if row[\"wiki_intro\"]==\"none\" else 1))\n",
    "    ** # abstract coordinate match\n",
    "    pt.BatchRetrieve(index2, wmodel=\"CoordinateMatch\")\n",
    ")"
   ]
  },
  {
   "cell_type": "code",
   "execution_count": 44,
   "id": "c554b3de",
   "metadata": {},
   "outputs": [
    {
     "name": "stdout",
     "output_type": "stream",
     "text": [
      "12:26:43.718 [main] WARN org.terrier.querying.ApplyTermPipeline - The index has no termpipelines configuration, and no control configuration is found. Defaulting to global termpipelines configuration of 'Stopwords,PorterStemmer'. Set a termpipelines control to remove this warning.\n",
      "12:26:44.019 [main] WARN org.terrier.querying.ApplyTermPipeline - The index has no termpipelines configuration, and no control configuration is found. Defaulting to global termpipelines configuration of 'Stopwords,PorterStemmer'. Set a termpipelines control to remove this warning.\n",
      "12:26:44.407 [main] WARN org.terrier.querying.ApplyTermPipeline - The index has no termpipelines configuration, and no control configuration is found. Defaulting to global termpipelines configuration of 'Stopwords,PorterStemmer'. Set a termpipelines control to remove this warning.\n",
      "12:26:45.359 [main] WARN org.terrier.querying.ApplyTermPipeline - The index has no termpipelines configuration, and no control configuration is found. Defaulting to global termpipelines configuration of 'Stopwords,PorterStemmer'. Set a termpipelines control to remove this warning.\n",
      "---------------------------\n",
      "Training starts...\n",
      "---------------------------\n",
      "[+] Random restart #1/5...\n",
      "[+] Random restart #3/5...\n",
      "[+] Random restart #4/5...\n",
      "[+] Random restart #5/5...\n",
      "[+] Random restart #2/5...\n",
      "Shuffle features and optimize!\n",
      "----------------------------------------\n",
      "   2|Feature         |   Weight|     NDCG\n",
      "----------------------------------------\n",
      "Shuffle features and optimize!\n",
      "----------------------------------------\n",
      "   4|Feature         |   Weight|     NDCG\n",
      "----------------------------------------\n",
      "Shuffle features and optimize!\n",
      "----------------------------------------\n",
      "   1|Feature         |   Weight|     NDCG\n",
      "----------------------------------------\n",
      "Shuffle features and optimize!\n",
      "----------------------------------------\n",
      "   0|Feature         |   Weight|     NDCG\n",
      "----------------------------------------\n",
      "Shuffle features and optimize!\n",
      "----------------------------------------\n",
      "   3|Feature         |   Weight|     NDCG\n",
      "----------------------------------------\n",
      "   4|5               |    0.000|    0.658\n",
      "   0|0               |    0.000|    0.503\n",
      "   2|5               |   -0.348|    0.502\n",
      "   1|5               |   -0.362|    0.667\n",
      "   2|5               |   -0.548|    0.503\n",
      "   4|3               |   -0.391|    0.664\n",
      "   4|3               |   -0.591|    0.665\n",
      "   2|5               |   -1.748|    0.503\n",
      "   4|3               |   -0.991|    0.665\n",
      "   1|5               |   -1.762|    0.667\n",
      "   3|5               |   -1.334|    0.502\n",
      "   2|5               |   -3.348|    0.503\n",
      "   4|3               |   -1.791|    0.665\n",
      "   1|5               |   -3.362|    0.668\n",
      "   4|3               |   -3.391|    0.666\n",
      "   0|0               |-1638.478|    0.512\n",
      "   0|0               |-3276.878|    0.516\n",
      "   4|3               |-3276.991|    0.666\n",
      "   0|0               |-6553.678|    0.517\n",
      "   0|0               |-13107.278|    0.525\n",
      "   0|0               |-26214.478|    0.529\n",
      "   0|0               |-52428.878|    0.533\n",
      "   2|5               |    1.352|    0.503\n",
      "   0|2               |   -0.000|    0.533\n",
      "   0|2               |   -0.000|    0.533\n",
      "   2|5               |   25.352|    0.505\n",
      "   3|5               |   25.766|    0.503\n",
      "   2|5               |   50.952|    0.508\n",
      "   3|5               |   51.366|    0.504\n",
      "   2|5               |  102.152|    0.515\n",
      "   3|5               |  102.566|    0.504\n",
      "   2|5               |  204.552|    0.532\n",
      "   3|5               |  204.966|    0.509\n",
      "   2|5               |  409.352|    0.554\n",
      "   3|5               |  409.766|    0.520\n",
      "   2|5               |  818.952|    0.573\n",
      "   3|5               |  819.366|    0.539\n",
      "   3|5               | 1638.566|    0.567\n",
      "   3|5               | 3276.966|    0.573\n",
      "   3|5               |13107.366|    0.573\n",
      "   0|2               |   -0.051|    0.533\n",
      "   0|2               |   -0.102|    0.535\n",
      "   0|2               |   -0.817|    0.544\n",
      "   0|2               |   -1.634|    0.548\n",
      "   2|4               |   -0.000|    0.573\n",
      "   0|2               |   -3.267|    0.548\n",
      "   0|3               |    0.000|    0.548\n",
      "   2|4               |   -0.001|    0.573\n",
      "   2|4               |   -0.001|    0.573\n",
      "   2|4               |   -0.002|    0.573\n",
      "   0|3               |    0.000|    0.548\n",
      "   2|4               |   -0.004|    0.573\n",
      "   2|4               |   -0.009|    0.573\n",
      "   4|0               |    0.002|    0.666\n",
      "   1|0               |    0.225|    0.668\n",
      "   2|4               |   -0.033|    0.575\n",
      "   2|4               |   -0.066|    0.582\n",
      "   2|4               |   -0.132|    0.589\n",
      "   0|3               |   -0.000|    0.551\n",
      "   2|4               |   -0.263|    0.593\n",
      "   1|0               |    3.538|    0.682\n",
      "   2|4               |   -0.526|    0.603\n",
      "   0|3               |   -0.000|    0.551\n",
      "   0|3               |   -0.000|    0.553\n",
      "   0|3               |   -0.001|    0.557\n",
      "   0|3               |   -0.002|    0.564\n",
      "   0|3               |   -0.003|    0.592\n",
      "   4|0               |   12.939|    0.667\n",
      "   0|3               |   -0.007|    0.603\n",
      "   0|3               |   -0.014|    0.623\n",
      "   0|3               |   -0.027|    0.639\n",
      "   0|3               |   -0.054|    0.651\n",
      "   2|0               |    0.000|    0.603\n",
      "   0|3               |   -0.108|    0.656\n",
      "   2|0               |    0.000|    0.603\n",
      "   0|3               |   -0.216|    0.657\n",
      "   0|3               |   -0.865|    0.658\n",
      "   3|0               |    0.000|    0.573\n",
      "   3|0               |    0.000|    0.573\n",
      "   3|0               |    0.001|    0.574\n",
      "   4|4               |   -0.000|    0.667\n",
      "   3|0               |    0.001|    0.576\n",
      "   3|0               |    0.003|    0.577\n",
      "   3|0               |    0.005|    0.588\n",
      "   3|0               |    0.011|    0.597\n",
      "   3|0               |    0.022|    0.625\n",
      "   3|0               |    0.043|    0.640\n",
      "   3|0               |    0.086|    0.653\n",
      "   0|1               |   -0.000|    0.658\n",
      "   3|0               |    0.173|    0.658\n",
      "   3|0               |    0.345|    0.672\n",
      "   3|0               |    0.691|    0.674\n",
      "   3|0               |    1.381|    0.675\n",
      "   4|4               |   -1.227|    0.667\n",
      "   4|4               |   -2.454|    0.667\n",
      "   3|3               |    0.000|    0.675\n",
      "   3|3               |    0.000|    0.675\n",
      "   3|3               |    0.000|    0.675\n",
      "   1|2               |    0.030|    0.683\n",
      "   2|0               |    0.002|    0.603\n",
      "   3|3               |   -0.000|    0.678\n",
      "   1|2               |    0.128|    0.684\n",
      "   2|0               |    0.004|    0.604\n",
      "   3|3               |   -0.000|    0.686\n",
      "   1|2               |    0.239|    0.686\n",
      "   2|0               |    0.007|    0.606\n",
      "   2|0               |    0.013|    0.610\n",
      "   2|0               |    0.026|    0.615\n",
      "   2|0               |    0.052|    0.621\n",
      "   2|0               |    0.105|    0.639\n",
      "   2|0               |    0.209|    0.657\n",
      "   2|0               |    0.418|    0.664\n",
      "   2|0               |    0.835|    0.673\n",
      "   2|0               |    1.671|    0.674\n",
      "   2|3               |    0.000|    0.674\n",
      "   0|1               |    0.807|    0.658\n",
      "   3|4               |   -0.000|    0.686\n",
      "   1|1               |    0.001|    0.686\n",
      "   2|3               |   -0.000|    0.685\n",
      "   4|2               |   -0.000|    0.667\n",
      "   1|1               |   -0.334|    0.690\n",
      "   3|4               |   -0.023|    0.686\n",
      "   3|4               |   -0.046|    0.686\n",
      "   3|4               |   -0.091|    0.686\n",
      "   2|2               |   -0.000|    0.685\n",
      "   0|5               |   -0.000|    0.658\n",
      "   2|2               |   -0.000|    0.685\n",
      "   2|2               |   -0.000|    0.685\n",
      "   2|2               |   -0.000|    0.685\n",
      "   2|2               |   -0.001|    0.685\n",
      "   3|4               |    0.366|    0.687\n",
      "   4|2               |    0.396|    0.670\n",
      "   4|2               |    0.792|    0.685\n",
      "   3|2               |    0.000|    0.687\n",
      "   0|5               |    0.246|    0.659\n",
      "   4|1               |   -0.000|    0.685\n",
      "   3|2               |   -0.000|    0.687\n",
      "   3|2               |   -0.000|    0.687\n",
      "   3|2               |   -0.000|    0.687\n",
      "   2|2               |    0.001|    0.687\n",
      "   3|2               |   -0.001|    0.687\n",
      "   2|2               |    0.001|    0.687\n",
      "   2|2               |    0.002|    0.688\n",
      "   4|1               |   -0.093|    0.685\n",
      "   4|1               |   -0.371|    0.688\n",
      "---------------------------\n",
      "Shuffle features and optimize!\n",
      "----------------------------------------\n",
      "   4|Feature         |   Weight|     NDCG\n",
      "----------------------------------------\n",
      "   1|4               |   -0.073|    0.690\n",
      "   1|4               |   -0.136|    0.691\n",
      "   3|2               |    0.002|    0.687\n",
      "   1|4               |   -0.263|    0.691\n",
      "   1|4               |   -0.516|    0.693\n",
      "   3|1               |    0.000|    0.687\n",
      "---------------------------\n",
      "Shuffle features and optimize!\n",
      "----------------------------------------\n",
      "   0|Feature         |   Weight|     NDCG\n",
      "----------------------------------------\n",
      "   3|1               |    0.000|    0.687\n",
      "---------------------------\n",
      "Shuffle features and optimize!\n",
      "----------------------------------------\n",
      "   1|Feature         |   Weight|     NDCG\n",
      "----------------------------------------\n",
      "   2|1               |   -0.000|    0.688\n",
      "   4|0               |    1.659|    0.690\n",
      "   2|1               |    0.002|    0.689\n",
      "   2|1               |    0.029|    0.689\n",
      "   3|1               |   -0.012|    0.688\n",
      "   3|1               |   -0.099|    0.690\n",
      "---------------------------\n",
      "Shuffle features and optimize!\n",
      "----------------------------------------\n",
      "   3|Feature         |   Weight|     NDCG\n",
      "----------------------------------------\n",
      "---------------------------\n",
      "Shuffle features and optimize!\n",
      "----------------------------------------\n",
      "   2|Feature         |   Weight|     NDCG\n",
      "----------------------------------------\n",
      "   3|5               |    0.229|    0.690\n",
      "   0|5               |   51.347|    0.660\n",
      "   0|0               |    0.000|    0.660\n",
      "   1|4               |   -0.393|    0.693\n",
      "   1|4               |   -0.493|    0.693\n",
      "   0|0               |   -0.056|    0.661\n",
      "   4|3               |   -0.003|    0.691\n",
      "   0|0               |    0.013|    0.661\n",
      "   0|0               |    0.026|    0.663\n",
      "   0|0               |    0.054|    0.663\n",
      "   0|0               |    0.876|    0.666\n",
      "   0|0               |    1.752|    0.668\n",
      "   0|0               |    7.013|    0.674\n",
      "   0|0               |   14.027|    0.680\n",
      "   3|3               |   -0.000|    0.690\n",
      "   2|4               |    0.225|    0.690\n",
      "   0|3               |   -0.000|    0.681\n",
      "   0|3               |   -0.000|    0.686\n",
      "   2|0               |    0.502|    0.690\n",
      "   4|1               |   -0.156|    0.691\n",
      "   3|1               |   -0.090|    0.691\n",
      "   0|1               |    0.047|    0.687\n",
      "   4|5               |   -0.050|    0.692\n",
      "   0|4               |    0.000|    0.687\n",
      "   2|1               |    0.047|    0.690\n",
      "   3|2               |    0.002|    0.691\n",
      "   4|5               |    0.150|    0.692\n",
      "   0|2               |   -0.000|    0.687\n",
      "   0|2               |   -0.000|    0.687\n",
      "   0|2               |   -0.012|    0.693\n",
      "---------------------------\n",
      "Shuffle features and optimize!\n",
      "----------------------------------------\n",
      "   0|Feature         |   Weight|     NDCG\n",
      "----------------------------------------\n",
      "   2|2               |    0.002|    0.690\n",
      "---------------------------\n",
      "Shuffle features and optimize!\n",
      "----------------------------------------\n",
      "   4|Feature         |   Weight|     NDCG\n",
      "----------------------------------------\n",
      "   0|5               |    0.084|    0.693\n",
      "   0|0               |    1.013|    0.694\n",
      "   0|1               |    0.036|    0.694\n",
      "   0|1               |    0.032|    0.694\n",
      "   0|4               |   -0.350|    0.695\n",
      "   0|4               |   -0.750|    0.697\n",
      "   0|2               |   -0.006|    0.697\n",
      "---------------------------\n",
      "Shuffle features and optimize!\n",
      "----------------------------------------\n",
      "   0|Feature         |   Weight|     NDCG\n",
      "----------------------------------------\n",
      "   0|4               |    0.322|    0.700\n",
      "   0|1               |    0.024|    0.700\n",
      "---------------------------\n",
      "Shuffle features and optimize!\n",
      "----------------------------------------\n",
      "   0|Feature         |   Weight|     NDCG\n",
      "----------------------------------------\n",
      "   0|5               |    0.048|    0.700\n",
      "---------------------------\n",
      "Finished successfully.\n"
     ]
    },
    {
     "name": "stdout",
     "output_type": "stream",
     "text": [
      "CPU times: user 18 s, sys: 1.61 s, total: 19.6 s\n",
      "Wall time: 17.5 s\n",
      "[2022-12-04 12:26:59,110][onir_pt][DEBUG] using GPU (deterministic)\n",
      "[2022-12-04 12:26:59,738][onir_pt][DEBUG] [starting] batches\n"
     ]
    },
    {
     "data": {
      "application/vnd.jupyter.widget-view+json": {
       "model_id": "",
       "version_major": 2,
       "version_minor": 0
      },
      "text/plain": [
       "batches:   0%|          | 0/105 [17ms<?, ?it/s]"
      ]
     },
     "metadata": {},
     "output_type": "display_data"
    },
    {
     "name": "stdout",
     "output_type": "stream",
     "text": [
      "[2022-12-04 12:27:00,015][onir_pt][DEBUG] [finished] batches: [275ms] [105it] [381.46it/s]\n",
      "12:27:00.156 [main] WARN org.terrier.querying.ApplyTermPipeline - The index has no termpipelines configuration, and no control configuration is found. Defaulting to global termpipelines configuration of 'Stopwords,PorterStemmer'. Set a termpipelines control to remove this warning.\n",
      "12:27:00.449 [main] WARN org.terrier.querying.ApplyTermPipeline - The index has no termpipelines configuration, and no control configuration is found. Defaulting to global termpipelines configuration of 'Stopwords,PorterStemmer'. Set a termpipelines control to remove this warning.\n",
      "12:27:00.840 [main] WARN org.terrier.querying.ApplyTermPipeline - The index has no termpipelines configuration, and no control configuration is found. Defaulting to global termpipelines configuration of 'Stopwords,PorterStemmer'. Set a termpipelines control to remove this warning.\n",
      "12:27:01.850 [main] WARN org.terrier.querying.ApplyTermPipeline - The index has no termpipelines configuration, and no control configuration is found. Defaulting to global termpipelines configuration of 'Stopwords,PorterStemmer'. Set a termpipelines control to remove this warning.\n",
      "---------------------------\n",
      "Training starts...\n",
      "---------------------------\n",
      "[+] Random restart #1/5...\n",
      "[+] Random restart #3/5...\n",
      "[+] Random restart #2/5...\n",
      "[+] Random restart #4/5...\n",
      "[+] Random restart #5/5...\n",
      "Shuffle features and optimize!\n",
      "----------------------------------------\n",
      "   0|Feature         |   Weight|     NDCG\n",
      "----------------------------------------\n",
      "Shuffle features and optimize!\n",
      "----------------------------------------\n",
      "   2|Feature         |   Weight|     NDCG\n",
      "----------------------------------------\n",
      "Shuffle features and optimize!\n",
      "----------------------------------------\n",
      "   3|Feature         |   Weight|     NDCG\n",
      "Shuffle features and optimize!\n",
      "----------------------------------------\n",
      "   1|Feature         |   Weight|     NDCG\n",
      "----------------------------------------\n",
      "----------------------------------------\n",
      "Shuffle features and optimize!\n",
      "----------------------------------------\n",
      "   4|Feature         |   Weight|     NDCG\n",
      "----------------------------------------\n",
      "   2|4               |    0.000|    0.557\n",
      "   1|4               |    0.000|    0.575\n",
      "   0|4               |   -0.217|    0.532\n",
      "   3|0               |    0.000|    0.605\n",
      "   4|4               |    0.000|    0.569\n",
      "   2|2               |    0.000|    0.557\n",
      "   1|3               |   -0.185|    0.575\n",
      "   2|2               |    0.057|    0.557\n",
      "   2|2               |   -0.037|    0.559\n",
      "   2|2               |   -0.789|    0.572\n",
      "   1|3               |  -12.885|    0.575\n",
      "   2|2               |   -1.648|    0.589\n",
      "   1|3               |  -25.685|    0.576\n",
      "   1|3               |  -51.285|    0.604\n",
      "   2|2               |   -6.803|    0.590\n",
      "   2|2               |  -27.422|    0.590\n",
      "   0|4               |    0.583|    0.534\n",
      "   3|3               |    1.049|    0.608\n",
      "   0|4               |    1.383|    0.535\n",
      "   4|4               |   -0.084|    0.569\n",
      "   0|4               |    6.183|    0.543\n",
      "   0|4               |   12.583|    0.566\n",
      "   0|4               |   25.383|    0.573\n",
      "   4|4               |    3.016|    0.580\n",
      "   0|4               |  204.583|    0.573\n",
      "   4|4               |    6.216|    0.600\n",
      "   4|4               |   12.616|    0.608\n",
      "   0|1               |    0.000|    0.587\n",
      "   3|4               |    0.000|    0.608\n",
      "   0|3               |    0.000|    0.587\n",
      "   1|0               |    0.001|    0.607\n",
      "   2|1               |   -0.005|    0.590\n",
      "   4|3               |    0.000|    0.608\n",
      "   4|3               |   -0.021|    0.608\n",
      "   0|3               |   -0.008|    0.587\n",
      "   0|3               |   -0.018|    0.589\n",
      "   4|3               |   -0.046|    0.609\n",
      "   0|3               |   -0.036|    0.618\n",
      "   2|1               |    0.780|    0.592\n",
      "   2|1               |    1.568|    0.608\n",
      "   2|1               |    3.144|    0.626\n",
      "   2|1               |    6.297|    0.638\n",
      "   0|2               |    0.000|    0.623\n",
      "   3|4               |   -0.028|    0.608\n",
      "   2|0               |    0.000|    0.639\n",
      "   3|4               |    0.172|    0.611\n",
      "   3|4               |    0.572|    0.612\n",
      "   3|4               |    1.372|    0.625\n",
      "   0|0               |   -0.001|    0.623\n",
      "   3|4               |    2.972|    0.641\n",
      "   3|4               |   12.572|    0.646\n",
      "   0|0               |   -0.006|    0.624\n",
      "   4|0               |    0.000|    0.609\n",
      "   4|0               |    0.014|    0.611\n",
      "   1|1               |    0.005|    0.608\n",
      "   1|1               |    0.008|    0.611\n",
      "   1|1               |    0.012|    0.613\n",
      "   1|1               |    0.022|    0.617\n",
      "   1|1               |    0.041|    0.628\n",
      "---------------------------\n",
      "Shuffle features and optimize!\n",
      "----------------------------------------\n",
      "   0|Feature         |   Weight|     NDCG\n",
      "----------------------------------------\n",
      "   1|2               |    0.000|    0.639\n",
      "---------------------------\n",
      "Shuffle features and optimize!\n",
      "----------------------------------------\n",
      "   1|Feature         |   Weight|     NDCG\n",
      "----------------------------------------\n",
      "   1|4               |    0.000|    0.639\n",
      "   4|1               |    0.000|    0.624\n",
      "   1|4               |    0.150|    0.648\n",
      "---------------------------\n",
      "Shuffle features and optimize!\n",
      "----------------------------------------\n",
      "   2|Feature         |   Weight|     NDCG\n",
      "----------------------------------------\n",
      "   1|0               |    0.000|    0.649\n",
      "   2|4               |   -0.150|    0.639\n",
      "---------------------------\n",
      "Shuffle features and optimize!\n",
      "----------------------------------------\n",
      "   4|Feature         |   Weight|     NDCG\n",
      "----------------------------------------\n",
      "   1|0               |   -0.000|    0.650\n",
      "---------------------------\n",
      "Shuffle features and optimize!\n",
      "----------------------------------------\n",
      "   3|Feature         |   Weight|     NDCG\n",
      "----------------------------------------\n",
      "   2|4               |    6.350|    0.642\n",
      "   2|4               |   12.750|    0.649\n",
      "   2|0               |    0.000|    0.649\n",
      "   0|0               |   -0.014|    0.624\n",
      "   0|1               |    0.050|    0.633\n",
      "   0|1               |    0.150|    0.644\n",
      "   2|1               |    0.066|    0.650\n",
      "   0|3               |    0.000|    0.645\n",
      "   0|3               |   -0.053|    0.645\n",
      "---------------------------\n",
      "Shuffle features and optimize!\n",
      "----------------------------------------\n",
      "   1|Feature         |   Weight|     NDCG\n",
      "----------------------------------------\n",
      "   4|1               |    0.050|    0.647\n",
      "   0|3               |    0.017|    0.646\n",
      "   0|3               |    0.161|    0.646\n",
      "---------------------------\n",
      "Shuffle features and optimize!\n",
      "----------------------------------------\n",
      "   0|Feature         |   Weight|     NDCG\n",
      "----------------------------------------\n",
      "   2|3               |   -0.002|    0.650\n",
      "   2|3               |   -0.035|    0.651\n",
      "   0|0               |   -0.010|    0.647\n",
      "   4|0               |    0.014|    0.650\n",
      "   4|0               |    0.015|    0.660\n",
      "---------------------------\n",
      "Shuffle features and optimize!\n",
      "----------------------------------------\n",
      "   4|Feature         |   Weight|     NDCG\n",
      "----------------------------------------\n",
      "---------------------------\n",
      "Shuffle features and optimize!\n",
      "----------------------------------------\n",
      "   2|Feature         |   Weight|     NDCG\n",
      "----------------------------------------\n",
      "   4|0               |    0.015|    0.662\n",
      "   1|0               |   -0.000|    0.650\n",
      "   0|3               |    0.092|    0.647\n",
      "   2|1               |    0.061|    0.651\n",
      "   0|2               |    0.000|    0.647\n",
      "   2|3               |   -0.039|    0.651\n",
      "   4|3               |   -0.049|    0.662\n",
      "   0|4               |    2.321|    0.658\n",
      "   4|3               |   -0.058|    0.662\n",
      "---------------------------\n",
      "Shuffle features and optimize!\n",
      "----------------------------------------\n",
      "   0|Feature         |   Weight|     NDCG\n",
      "----------------------------------------\n",
      "   0|0               |   -0.006|    0.659\n",
      "---------------------------\n",
      "Shuffle features and optimize!\n",
      "----------------------------------------\n",
      "   4|Feature         |   Weight|     NDCG\n",
      "----------------------------------------\n",
      "   0|0               |   -0.004|    0.661\n",
      "   2|4               |    1.041|    0.655\n",
      "---------------------------\n",
      "Shuffle features and optimize!\n",
      "----------------------------------------\n",
      "   2|Feature         |   Weight|     NDCG\n",
      "----------------------------------------\n",
      "   4|3               |   -0.060|    0.662\n",
      "   0|4               |    1.060|    0.662\n",
      "   2|1               |    0.055|    0.656\n",
      "---------------------------\n",
      "Shuffle features and optimize!\n",
      "----------------------------------------\n",
      "   0|Feature         |   Weight|     NDCG\n",
      "----------------------------------------\n",
      "   2|3               |   -0.046|    0.656\n",
      "   0|4               |    0.972|    0.662\n",
      "   0|3               |    0.033|    0.662\n",
      "---------------------------\n",
      "Finished successfully.\n"
     ]
    },
    {
     "name": "stdout",
     "output_type": "stream",
     "text": [
      "CPU times: user 17.3 s, sys: 1.03 s, total: 18.3 s\n",
      "Wall time: 16.3 s\n",
      "[2022-12-04 12:27:15,419][onir_pt][DEBUG] using GPU (deterministic)\n",
      "[2022-12-04 12:27:15,425][onir_pt][DEBUG] [starting] batches\n"
     ]
    },
    {
     "data": {
      "application/vnd.jupyter.widget-view+json": {
       "model_id": "",
       "version_major": 2,
       "version_minor": 0
      },
      "text/plain": [
       "batches:   0%|          | 0/105 [14ms<?, ?it/s]"
      ]
     },
     "metadata": {},
     "output_type": "display_data"
    },
    {
     "name": "stdout",
     "output_type": "stream",
     "text": [
      "[2022-12-04 12:27:22,601][onir_pt][DEBUG] [finished] batches: [7.18s] [105it] [14.63it/s]\n",
      "12:27:22.742 [main] WARN org.terrier.querying.ApplyTermPipeline - The index has no termpipelines configuration, and no control configuration is found. Defaulting to global termpipelines configuration of 'Stopwords,PorterStemmer'. Set a termpipelines control to remove this warning.\n",
      "12:27:23.047 [main] WARN org.terrier.querying.ApplyTermPipeline - The index has no termpipelines configuration, and no control configuration is found. Defaulting to global termpipelines configuration of 'Stopwords,PorterStemmer'. Set a termpipelines control to remove this warning.\n",
      "12:27:23.503 [main] WARN org.terrier.querying.ApplyTermPipeline - The index has no termpipelines configuration, and no control configuration is found. Defaulting to global termpipelines configuration of 'Stopwords,PorterStemmer'. Set a termpipelines control to remove this warning.\n",
      "12:27:24.538 [main] WARN org.terrier.querying.ApplyTermPipeline - The index has no termpipelines configuration, and no control configuration is found. Defaulting to global termpipelines configuration of 'Stopwords,PorterStemmer'. Set a termpipelines control to remove this warning.\n",
      "---------------------------\n",
      "Training starts...\n",
      "---------------------------\n",
      "[+] Random restart #1/5...\n",
      "[+] Random restart #3/5...\n",
      "[+] Random restart #2/5...\n",
      "[+] Random restart #4/5...\n",
      "[+] Random restart #5/5...\n",
      "Shuffle features and optimize!\n",
      "----------------------------------------\n",
      "   0|Feature         |   Weight|     NDCG\n",
      "----------------------------------------\n",
      "Shuffle features and optimize!\n",
      "----------------------------------------\n",
      "   1|Feature         |   Weight|     NDCG\n",
      "----------------------------------------\n",
      "Shuffle features and optimize!\n",
      "----------------------------------------\n",
      "   3|Feature         |   Weight|     NDCG\n",
      "----------------------------------------\n",
      "Shuffle features and optimize!\n",
      "----------------------------------------\n",
      "   2|Feature         |   Weight|     NDCG\n",
      "----------------------------------------\n",
      "Shuffle features and optimize!\n",
      "----------------------------------------\n",
      "   4|Feature         |   Weight|     NDCG\n",
      "----------------------------------------\n",
      "   1|4               |    0.000|    0.629\n",
      "   0|4               |   -0.217|    0.543\n",
      "   2|4               |    0.000|    0.532\n",
      "   4|4               |    0.000|    0.550\n",
      "   3|0               |   -0.160|    0.622\n",
      "   0|4               |   -0.317|    0.544\n",
      "   1|3               |   -0.185|    0.629\n",
      "   1|3               |   -0.285|    0.629\n",
      "   3|0               |   -0.460|    0.626\n",
      "   1|3               |   -0.485|    0.631\n",
      "   4|3               |   -1.028|    0.554\n",
      "   1|3               |   -1.685|    0.632\n",
      "   4|3               |   -1.828|    0.568\n",
      "   1|3               |   -3.285|    0.633\n",
      "   4|3               |   -3.428|    0.572\n",
      "   4|3               |   -6.628|    0.574\n",
      "   4|3               |  -13.028|    0.575\n",
      "   4|3               |  -25.828|    0.575\n",
      "   0|1               |    0.000|    0.553\n",
      "   4|0               |    0.000|    0.575\n",
      "   2|4               |    0.422|    0.533\n",
      "   3|3               |   -0.553|    0.626\n",
      "   4|0               |    0.006|    0.580\n",
      "   0|3               |   -0.584|    0.560\n",
      "   2|4               |    1.222|    0.550\n",
      "   3|3               |   -1.353|    0.631\n",
      "   0|3               |   -1.384|    0.574\n",
      "   0|3               |   -2.984|    0.574\n",
      "   1|0               |   -0.048|    0.633\n",
      "   2|4               |    6.022|    0.565\n",
      "   3|3               |   -6.153|    0.636\n",
      "   2|4               |   12.422|    0.578\n",
      "   1|0               |   -0.446|    0.642\n",
      "   0|3               | -204.584|    0.574\n",
      "   2|4               |  409.222|    0.578\n",
      "   2|2               |    0.000|    0.579\n",
      "   2|1               |    0.000|    0.598\n",
      "   3|4               |   -0.031|    0.636\n",
      "   1|1               |    0.025|    0.645\n",
      "   4|1               |    0.000|    0.588\n",
      "   3|4               |   -0.034|    0.636\n",
      "   4|2               |    0.000|    0.600\n",
      "---------------------------\n",
      "Shuffle features and optimize!\n",
      "----------------------------------------\n",
      "   4|Feature         |   Weight|     NDCG\n",
      "----------------------------------------\n",
      "   2|0               |    0.001|    0.598\n",
      "   3|4               |   -0.052|    0.638\n",
      "   2|0               |    0.001|    0.599\n",
      "   0|2               |    0.002|    0.574\n",
      "   1|2               |    0.063|    0.645\n",
      "   0|2               |    0.002|    0.575\n",
      "   2|0               |    0.001|    0.599\n",
      "   0|2               |    0.003|    0.578\n",
      "   4|4               |    0.050|    0.602\n",
      "   3|2               |   -0.026|    0.638\n",
      "   2|0               |    0.001|    0.600\n",
      "   0|2               |    0.004|    0.579\n",
      "   4|4               |    0.150|    0.602\n",
      "   2|0               |    0.002|    0.600\n",
      "   0|2               |    0.006|    0.580\n",
      "   2|0               |    0.002|    0.600\n",
      "   0|2               |    0.011|    0.580\n",
      "   4|4               |    0.750|    0.604\n",
      "   4|4               |    1.550|    0.621\n",
      "   2|0               |    1.591|    0.603\n",
      "   2|0               |    3.181|    0.607\n",
      "   2|3               |    0.000|    0.607\n",
      "   0|0               |   -0.002|    0.580\n",
      "   0|0               |   -0.004|    0.580\n",
      "   2|3               |   -0.001|    0.607\n",
      "   2|3               |   -0.002|    0.607\n",
      "   0|0               |   -0.183|    0.580\n",
      "   2|3               |   -0.005|    0.607\n",
      "   0|0               |   -0.366|    0.580\n",
      "   2|3               |   -0.010|    0.607\n",
      "   2|3               |   -0.020|    0.607\n",
      "   2|3               |   -0.039|    0.607\n",
      "   2|3               |   -0.079|    0.608\n",
      "   2|3               |   -0.158|    0.609\n",
      "   2|3               |   -0.315|    0.613\n",
      "---------------------------\n",
      "Shuffle features and optimize!\n",
      "----------------------------------------\n",
      "   1|Feature         |   Weight|     NDCG\n",
      "----------------------------------------\n",
      "   1|4               |    0.000|    0.645\n",
      "---------------------------\n",
      "Shuffle features and optimize!\n",
      "----------------------------------------\n",
      "   2|Feature         |   Weight|     NDCG\n",
      "----------------------------------------\n",
      "   0|0               |    0.000|    0.586\n",
      "   0|0               |    0.002|    0.586\n",
      "   0|0               |    0.005|    0.588\n",
      "   0|0               |    0.045|    0.596\n",
      "   0|0               |    0.090|    0.597\n",
      "   0|0               |    0.181|    0.600\n",
      "   1|4               |    0.050|    0.646\n",
      "---------------------------\n",
      "Shuffle features and optimize!\n",
      "----------------------------------------\n",
      "   0|Feature         |   Weight|     NDCG\n",
      "----------------------------------------\n",
      "   1|4               |    0.150|    0.647\n",
      "   0|4               |    0.000|    0.600\n",
      "   3|1               |    0.024|    0.640\n",
      "   2|4               |    0.232|    0.615\n",
      "   1|0               |   -0.334|    0.647\n",
      "---------------------------\n",
      "Shuffle features and optimize!\n",
      "----------------------------------------\n",
      "   3|Feature         |   Weight|     NDCG\n",
      "----------------------------------------\n",
      "   2|0               |    0.501|    0.616\n",
      "   0|4               |   -0.000|    0.606\n",
      "   0|4               |    0.594|    0.612\n",
      "   0|4               |    1.189|    0.621\n",
      "   3|0               |   -0.040|    0.640\n",
      "   3|0               |   -0.031|    0.641\n",
      "   0|2               |   -0.009|    0.622\n",
      "   0|2               |   -0.022|    0.628\n",
      "   1|2               |    0.000|    0.647\n",
      "   4|1               |    0.050|    0.641\n",
      "   0|0               |    0.059|    0.628\n",
      "   2|1               |    0.050|    0.626\n",
      "   2|1               |    0.150|    0.632\n",
      "   3|2               |   -0.106|    0.642\n",
      "   4|0               |    0.002|    0.641\n",
      "   1|2               |    0.063|    0.648\n",
      "   4|0               |    0.009|    0.641\n",
      "   2|2               |    0.050|    0.632\n",
      "   4|0               |    0.016|    0.644\n",
      "---------------------------\n",
      "Shuffle features and optimize!\n",
      "----------------------------------------\n",
      "   4|Feature         |   Weight|     NDCG\n",
      "----------------------------------------\n",
      "   4|0               |    0.015|    0.644\n",
      "   4|0               |    0.013|    0.644\n",
      "   3|4               |    0.000|    0.643\n",
      "   0|1               |    0.050|    0.643\n",
      "   2|3               |   -0.249|    0.632\n",
      "   2|3               |   -0.549|    0.635\n",
      "   2|3               |   -1.749|    0.636\n",
      "---------------------------\n",
      "Shuffle features and optimize!\n",
      "----------------------------------------\n",
      "   2|Feature         |   Weight|     NDCG\n",
      "----------------------------------------\n",
      "   0|3               |   -0.411|    0.644\n",
      "   3|3               |   -0.793|    0.644\n",
      "   3|3               |   -0.693|    0.647\n",
      "   0|3               |   -0.311|    0.646\n",
      "---------------------------\n",
      "Shuffle features and optimize!\n",
      "----------------------------------------\n",
      "   3|Feature         |   Weight|     NDCG\n",
      "----------------------------------------\n",
      "   3|4               |    0.000|    0.647\n",
      "   2|0               |    0.221|    0.637\n",
      "---------------------------\n",
      "Shuffle features and optimize!\n",
      "----------------------------------------\n",
      "   1|Feature         |   Weight|     NDCG\n",
      "----------------------------------------\n",
      "---------------------------\n",
      "Shuffle features and optimize!\n",
      "----------------------------------------\n",
      "   0|Feature         |   Weight|     NDCG\n",
      "----------------------------------------\n",
      "   3|4               |    0.150|    0.650\n",
      "   2|1               |    0.039|    0.638\n",
      "   2|1               |    0.030|    0.639\n",
      "   2|2               |   -0.444|    0.645\n",
      "   4|4               |    0.722|    0.645\n",
      "   4|4               |    1.322|    0.649\n",
      "   2|3               |   -0.516|    0.647\n",
      "   2|3               |   -0.616|    0.648\n",
      "   4|1               |    0.023|    0.663\n",
      "   2|4               |    0.114|    0.652\n",
      "---------------------------\n",
      "Shuffle features and optimize!\n",
      "----------------------------------------\n",
      "   2|Feature         |   Weight|     NDCG\n",
      "----------------------------------------\n",
      "---------------------------\n",
      "Shuffle features and optimize!\n",
      "----------------------------------------\n",
      "   4|Feature         |   Weight|     NDCG\n",
      "----------------------------------------\n",
      "   4|4               |    0.809|    0.664\n",
      "   0|2               |   -0.018|    0.646\n",
      "   3|0               |   -0.036|    0.650\n",
      "   3|0               |   -0.042|    0.651\n",
      "   3|0               |   -0.054|    0.652\n",
      "---------------------------\n",
      "Shuffle features and optimize!\n",
      "----------------------------------------\n",
      "   3|Feature         |   Weight|     NDCG\n",
      "----------------------------------------\n",
      "   2|1               |    0.024|    0.654\n",
      "   0|4               |    0.893|    0.646\n",
      "   0|4               |    1.293|    0.651\n",
      "   3|4               |    0.177|    0.653\n",
      "   0|4               |    2.093|    0.654\n",
      "---------------------------\n",
      "Shuffle features and optimize!\n",
      "----------------------------------------\n",
      "   0|Feature         |   Weight|     NDCG\n",
      "----------------------------------------\n",
      "   2|0               |    0.171|    0.658\n",
      "   4|0               |    0.010|    0.664\n",
      "   0|4               |    0.671|    0.661\n",
      "   0|2               |   -0.009|    0.661\n",
      "   0|2               |   -0.010|    0.663\n",
      "   0|2               |   -0.011|    0.663\n",
      "   3|2               |   -0.103|    0.654\n",
      "---------------------------\n",
      "Shuffle features and optimize!\n",
      "----------------------------------------\n",
      "   2|Feature         |   Weight|     NDCG\n",
      "----------------------------------------\n",
      "   2|4               |    0.151|    0.658\n",
      "   3|0               |   -0.048|    0.654\n",
      "   2|0               |    0.106|    0.659\n",
      "---------------------------\n",
      "Shuffle features and optimize!\n",
      "----------------------------------------\n",
      "   0|Feature         |   Weight|     NDCG\n",
      "----------------------------------------\n",
      "---------------------------\n",
      "Shuffle features and optimize!\n",
      "----------------------------------------\n",
      "   3|Feature         |   Weight|     NDCG\n",
      "----------------------------------------\n",
      "   0|4               |    0.837|    0.664\n",
      "   2|1               |    0.021|    0.663\n",
      "---------------------------\n",
      "Shuffle features and optimize!\n",
      "----------------------------------------\n",
      "   2|Feature         |   Weight|     NDCG\n",
      "----------------------------------------\n",
      "   0|2               |   -0.010|    0.664\n",
      "---------------------------\n",
      "Finished successfully.\n"
     ]
    },
    {
     "name": "stdout",
     "output_type": "stream",
     "text": [
      "CPU times: user 23.8 s, sys: 710 ms, total: 24.5 s\n",
      "Wall time: 22.8 s\n",
      "[2022-12-04 12:27:38,140][onir_pt][DEBUG] using GPU (deterministic)\n",
      "[2022-12-04 12:27:38,143][onir_pt][DEBUG] [starting] batches\n"
     ]
    },
    {
     "data": {
      "application/vnd.jupyter.widget-view+json": {
       "model_id": "",
       "version_major": 2,
       "version_minor": 0
      },
      "text/plain": [
       "batches:   0%|          | 0/105 [15ms<?, ?it/s]"
      ]
     },
     "metadata": {},
     "output_type": "display_data"
    },
    {
     "name": "stdout",
     "output_type": "stream",
     "text": [
      "[2022-12-04 12:27:38,361][onir_pt][DEBUG] [finished] batches: [217ms] [105it] [483.42it/s]\n",
      "12:27:38.497 [main] WARN org.terrier.querying.ApplyTermPipeline - The index has no termpipelines configuration, and no control configuration is found. Defaulting to global termpipelines configuration of 'Stopwords,PorterStemmer'. Set a termpipelines control to remove this warning.\n",
      "12:27:38.792 [main] WARN org.terrier.querying.ApplyTermPipeline - The index has no termpipelines configuration, and no control configuration is found. Defaulting to global termpipelines configuration of 'Stopwords,PorterStemmer'. Set a termpipelines control to remove this warning.\n",
      "12:27:39.171 [main] WARN org.terrier.querying.ApplyTermPipeline - The index has no termpipelines configuration, and no control configuration is found. Defaulting to global termpipelines configuration of 'Stopwords,PorterStemmer'. Set a termpipelines control to remove this warning.\n",
      "12:27:40.164 [main] WARN org.terrier.querying.ApplyTermPipeline - The index has no termpipelines configuration, and no control configuration is found. Defaulting to global termpipelines configuration of 'Stopwords,PorterStemmer'. Set a termpipelines control to remove this warning.\n",
      "---------------------------\n",
      "Training starts...\n",
      "---------------------------\n",
      "[+] Random restart #1/5...\n",
      "[+] Random restart #3/5...\n",
      "[+] Random restart #4/5...\n",
      "[+] Random restart #2/5...\n",
      "[+] Random restart #5/5...\n",
      "Shuffle features and optimize!\n",
      "----------------------------------------\n",
      "   0|Feature         |   Weight|     NDCG\n",
      "----------------------------------------\n",
      "Shuffle features and optimize!\n",
      "----------------------------------------\n",
      "   2|Feature         |   Weight|     NDCG\n",
      "----------------------------------------\n",
      "Shuffle features and optimize!\n",
      "----------------------------------------\n",
      "   3|Feature         |   Weight|     NDCG\n",
      "----------------------------------------\n",
      "Shuffle features and optimize!\n",
      "----------------------------------------\n",
      "   4|Feature         |   Weight|     NDCG\n",
      "----------------------------------------\n",
      "   0|4               |    0.000|    0.577\n",
      "   2|4               |    0.000|    0.555\n",
      "Shuffle features and optimize!\n",
      "----------------------------------------\n",
      "   1|Feature         |   Weight|     NDCG\n",
      "----------------------------------------\n",
      "   3|0               |    0.000|    0.634\n",
      "   4|4               |    0.000|    0.565\n",
      "   1|4               |    0.000|    0.566\n",
      "   3|3               |    0.249|    0.634\n",
      "   1|3               |    0.000|    0.566\n",
      "   3|3               |    0.149|    0.635\n",
      "   2|4               |   -1.078|    0.555\n",
      "   1|3               |   -0.285|    0.567\n",
      "   2|4               |   -1.878|    0.556\n",
      "   3|3               |   -0.451|    0.639\n",
      "   3|3               |   -1.251|    0.649\n",
      "   4|3               |   -3.428|    0.565\n",
      "   1|3               |   -1.685|    0.573\n",
      "   1|3               |   -3.285|    0.589\n",
      "   4|3               |  -13.028|    0.573\n",
      "   4|3               |  -25.828|    0.582\n",
      "   2|2               |    0.000|    0.556\n",
      "   3|4               |    0.000|    0.656\n",
      "   4|0               |    0.008|    0.583\n",
      "   3|2               |   -0.101|    0.659\n",
      "   1|0               |    0.008|    0.590\n",
      "   3|2               |   -0.110|    0.660\n",
      "   0|1               |    0.441|    0.604\n",
      "   2|2               |   -0.010|    0.557\n",
      "   3|2               |   -0.130|    0.660\n",
      "   0|1               |    1.241|    0.619\n",
      "   1|0               |    0.006|    0.592\n",
      "   4|0               |    0.002|    0.583\n",
      "   0|1               |    2.841|    0.621\n",
      "   4|0               |   -0.005|    0.603\n",
      "   2|2               |   -0.095|    0.560\n",
      "   3|2               |   -0.245|    0.663\n",
      "   0|1               |    6.041|    0.628\n",
      "   3|2               |   -0.399|    0.665\n",
      "   2|2               |   -0.434|    0.566\n",
      "   3|2               |   -0.706|    0.666\n",
      "   2|2               |   -0.887|    0.577\n",
      "   3|2               |   -1.321|    0.667\n",
      "   2|2               |   -1.792|    0.599\n",
      "   2|2               |   -3.603|    0.629\n",
      "   2|2               |   -7.224|    0.644\n",
      "   2|2               |  -14.466|    0.646\n",
      "   2|2               |  -28.951|    0.655\n",
      "   2|2               |  -57.920|    0.655\n",
      "   4|1               |    0.000|    0.608\n",
      "   3|1               |    0.060|    0.669\n",
      "   1|1               |    0.036|    0.592\n",
      "   3|1               |    0.054|    0.670\n",
      "   1|1               |    0.032|    0.595\n",
      "   3|1               |    0.041|    0.671\n",
      "   4|2               |   -0.033|    0.616\n",
      "   0|3               |   -0.310|    0.629\n",
      "   4|2               |   -0.054|    0.623\n",
      "   0|3               |   -0.648|    0.632\n",
      "   4|2               |   -0.096|    0.627\n",
      "   4|2               |   -0.180|    0.629\n",
      "   4|2               |   -0.347|    0.632\n",
      "   4|2               |   -0.682|    0.647\n",
      "   4|2               |   -1.352|    0.657\n",
      "   0|2               |    0.000|    0.633\n",
      "   2|1               |   -0.001|    0.655\n",
      "---------------------------\n",
      "Shuffle features and optimize!\n",
      "----------------------------------------\n",
      "   3|Feature         |   Weight|     NDCG\n",
      "----------------------------------------\n",
      "---------------------------\n",
      "Shuffle features and optimize!\n",
      "----------------------------------------\n",
      "   4|Feature         |   Weight|     NDCG\n",
      "----------------------------------------\n",
      "   1|2               |    0.000|    0.630\n",
      "---------------------------\n",
      "Shuffle features and optimize!\n",
      "----------------------------------------\n",
      "   1|Feature         |   Weight|     NDCG\n",
      "----------------------------------------\n",
      "   4|4               |   -0.050|    0.659\n",
      "   1|4               |    0.000|    0.630\n",
      "   1|4               |   -0.050|    0.633\n",
      "   0|2               |   -0.016|    0.633\n",
      "   2|1               |    0.002|    0.656\n",
      "   0|2               |   -0.062|    0.635\n",
      "   2|1               |    0.005|    0.658\n",
      "   0|2               |   -0.154|    0.639\n",
      "   2|1               |    0.011|    0.665\n",
      "   0|2               |   -0.339|    0.648\n",
      "   0|2               |   -0.708|    0.664\n",
      "   0|2               |   -1.446|    0.666\n",
      "   2|1               |    0.099|    0.666\n",
      "   2|1               |    0.199|    0.676\n",
      "   0|2               |   -5.876|    0.669\n",
      "   2|0               |    0.000|    0.676\n",
      "   0|0               |    0.000|    0.673\n",
      "---------------------------\n",
      "Shuffle features and optimize!\n",
      "----------------------------------------\n",
      "   0|Feature         |   Weight|     NDCG\n",
      "----------------------------------------\n",
      "   0|4               |    0.000|    0.673\n",
      "   2|0               |    0.002|    0.678\n",
      "   4|3               |   -0.450|    0.662\n",
      "   0|4               |   -0.350|    0.678\n",
      "   2|0               |   -0.001|    0.678\n",
      "   0|4               |   -0.750|    0.679\n",
      "   0|2               |   -0.542|    0.679\n",
      "   2|3               |   -0.046|    0.678\n",
      "   2|3               |   -0.093|    0.679\n",
      "---------------------------\n",
      "Shuffle features and optimize!\n",
      "----------------------------------------\n",
      "   2|Feature         |   Weight|     NDCG\n",
      "----------------------------------------\n",
      "   3|2               |   -0.457|    0.673\n",
      "   2|4               |   -0.013|    0.679\n",
      "   1|2               |   -0.050|    0.639\n",
      "   1|2               |   -0.150|    0.654\n",
      "   1|2               |   -0.350|    0.665\n",
      "   1|2               |   -1.550|    0.665\n",
      "   1|2               |  -12.750|    0.665\n",
      "   1|1               |    0.003|    0.666\n",
      "   2|4               |    0.051|    0.685\n",
      "   4|1               |    0.050|    0.670\n",
      "   2|0               |   -0.001|    0.686\n",
      "   4|1               |    0.150|    0.671\n",
      "   2|0               |   -0.001|    0.686\n",
      "   3|1               |    0.126|    0.679\n",
      "   1|1               |    0.037|    0.669\n",
      "   1|1               |    0.071|    0.671\n",
      "   1|1               |    0.139|    0.678\n",
      "   3|4               |    0.000|    0.679\n",
      "   3|4               |   -0.050|    0.679\n",
      "   4|0               |   -0.002|    0.671\n",
      "   4|0               |   -0.003|    0.673\n",
      "   1|3               |   -0.067|    0.678\n",
      "   1|3               |   -0.102|    0.679\n",
      "   1|3               |   -0.148|    0.679\n",
      "---------------------------\n",
      "Shuffle features and optimize!\n",
      "----------------------------------------\n",
      "   4|Feature         |   Weight|     NDCG\n",
      "----------------------------------------\n",
      "   0|1               |    0.046|    0.680\n",
      "   0|1               |    0.060|    0.681\n",
      "   0|3               |   -0.033|    0.681\n",
      "---------------------------\n",
      "Shuffle features and optimize!\n",
      "----------------------------------------\n",
      "   1|Feature         |   Weight|     NDCG\n",
      "----------------------------------------\n",
      "   0|3               |   -0.042|    0.681\n",
      "   1|4               |    0.000|    0.679\n",
      "   0|3               |   -0.055|    0.682\n",
      "   0|3               |   -0.080|    0.682\n",
      "   4|0               |    0.006|    0.677\n",
      "---------------------------\n",
      "Shuffle features and optimize!\n",
      "----------------------------------------\n",
      "   0|Feature         |   Weight|     NDCG\n",
      "----------------------------------------\n",
      "   4|2               |   -0.504|    0.677\n",
      "   4|2               |   -0.604|    0.678\n",
      "---------------------------\n",
      "Shuffle features and optimize!\n",
      "----------------------------------------\n",
      "   3|Feature         |   Weight|     NDCG\n",
      "----------------------------------------\n",
      "   3|4               |   -0.050|    0.679\n",
      "   2|3               |   -0.111|    0.687\n",
      "---------------------------\n",
      "Shuffle features and optimize!\n",
      "----------------------------------------\n",
      "   2|Feature         |   Weight|     NDCG\n",
      "----------------------------------------\n",
      "   2|0               |   -0.002|    0.688\n",
      "   0|3               |   -0.080|    0.682\n",
      "   0|3               |   -0.088|    0.682\n",
      "   0|3               |   -0.103|    0.683\n",
      "   0|3               |    0.408|    0.683\n",
      "   4|3               |   -0.373|    0.678\n",
      "   1|2               |   -0.701|    0.679\n",
      "   1|2               |   -0.601|    0.680\n",
      "---------------------------\n",
      "Shuffle features and optimize!\n",
      "----------------------------------------\n",
      "   4|Feature         |   Weight|     NDCG\n",
      "----------------------------------------\n",
      "   0|4               |   -0.238|    0.683\n",
      "   0|4               |   -0.138|    0.685\n",
      "---------------------------\n",
      "Shuffle features and optimize!\n",
      "----------------------------------------\n",
      "   0|Feature         |   Weight|     NDCG\n",
      "----------------------------------------\n",
      "   2|4               |    0.050|    0.688\n",
      "   2|4               |    0.122|    0.688\n",
      "   4|0               |    0.001|    0.679\n",
      "   0|1               |    0.057|    0.687\n",
      "   0|3               |    0.308|    0.687\n",
      "   0|3               |    0.208|    0.688\n",
      "---------------------------\n",
      "Shuffle features and optimize!\n",
      "----------------------------------------\n",
      "   0|Feature         |   Weight|     NDCG\n",
      "----------------------------------------\n",
      "---------------------------\n",
      "Finished successfully.\n"
     ]
    },
    {
     "name": "stdout",
     "output_type": "stream",
     "text": [
      "CPU times: user 16.7 s, sys: 506 ms, total: 17.2 s\n",
      "Wall time: 15.5 s\n",
      "[2022-12-04 12:27:53,752][onir_pt][DEBUG] using GPU (deterministic)\n",
      "[2022-12-04 12:27:53,757][onir_pt][DEBUG] [starting] batches\n"
     ]
    },
    {
     "data": {
      "application/vnd.jupyter.widget-view+json": {
       "model_id": "",
       "version_major": 2,
       "version_minor": 0
      },
      "text/plain": [
       "batches:   0%|          | 0/105 [14ms<?, ?it/s]"
      ]
     },
     "metadata": {},
     "output_type": "display_data"
    },
    {
     "name": "stdout",
     "output_type": "stream",
     "text": [
      "[2022-12-04 12:28:00,929][onir_pt][DEBUG] [finished] batches: [7.17s] [105it] [14.64it/s]\n",
      "12:28:01.068 [main] WARN org.terrier.querying.ApplyTermPipeline - The index has no termpipelines configuration, and no control configuration is found. Defaulting to global termpipelines configuration of 'Stopwords,PorterStemmer'. Set a termpipelines control to remove this warning.\n",
      "12:28:01.397 [main] WARN org.terrier.querying.ApplyTermPipeline - The index has no termpipelines configuration, and no control configuration is found. Defaulting to global termpipelines configuration of 'Stopwords,PorterStemmer'. Set a termpipelines control to remove this warning.\n",
      "12:28:01.847 [main] WARN org.terrier.querying.ApplyTermPipeline - The index has no termpipelines configuration, and no control configuration is found. Defaulting to global termpipelines configuration of 'Stopwords,PorterStemmer'. Set a termpipelines control to remove this warning.\n",
      "12:28:02.962 [main] WARN org.terrier.querying.ApplyTermPipeline - The index has no termpipelines configuration, and no control configuration is found. Defaulting to global termpipelines configuration of 'Stopwords,PorterStemmer'. Set a termpipelines control to remove this warning.\n",
      "---------------------------\n",
      "Training starts...\n",
      "---------------------------\n",
      "[+] Random restart #1/5...\n",
      "[+] Random restart #3/5...\n",
      "[+] Random restart #2/5...\n",
      "[+] Random restart #4/5...\n",
      "[+] Random restart #5/5...\n",
      "Shuffle features and optimize!\n",
      "----------------------------------------\n",
      "   0|Feature         |   Weight|     NDCG\n",
      "----------------------------------------\n",
      "Shuffle features and optimize!\n",
      "----------------------------------------\n",
      "   2|Feature         |   Weight|     NDCG\n",
      "----------------------------------------\n",
      "Shuffle features and optimize!\n",
      "----------------------------------------\n",
      "   1|Feature         |   Weight|     NDCG\n",
      "----------------------------------------\n",
      "Shuffle features and optimize!\n",
      "----------------------------------------\n",
      "Shuffle features and optimize!\n",
      "----------------------------------------\n",
      "   4|Feature         |   Weight|     NDCG\n",
      "----------------------------------------\n",
      "   3|Feature         |   Weight|     NDCG\n",
      "----------------------------------------\n",
      "   1|4               |    0.000|    0.574\n",
      "   4|4               |    0.000|    0.589\n",
      "   3|0               |    0.000|    0.634\n",
      "   2|4               |   -0.378|    0.533\n",
      "   1|3               |    0.000|    0.574\n",
      "   3|0               |   -0.160|    0.634\n",
      "   1|3               |   -0.185|    0.579\n",
      "   4|3               |   -0.328|    0.590\n",
      "   3|0               |   -0.260|    0.635\n",
      "   1|3               |   -0.285|    0.580\n",
      "   1|3               |   -0.485|    0.591\n",
      "   1|3               |   -0.885|    0.600\n",
      "   2|2               |    0.000|    0.536\n",
      "   0|4               |   -0.117|    0.529\n",
      "   2|1               |    0.000|    0.581\n",
      "   1|0               |    0.014|    0.600\n",
      "   3|3               |   -0.118|    0.637\n",
      "   0|4               |    1.383|    0.532\n",
      "   3|3               |   -0.518|    0.647\n",
      "   0|4               |    2.983|    0.541\n",
      "   0|4               |    6.183|    0.566\n",
      "   0|4               |   12.583|    0.566\n",
      "   0|4               |  102.183|    0.566\n",
      "   0|1               |    0.000|    0.573\n",
      "   0|3               |    0.000|    0.578\n",
      "   1|0               |    0.024|    0.601\n",
      "   0|2               |    0.002|    0.578\n",
      "   1|0               |    0.028|    0.601\n",
      "   2|0               |    0.613|    0.581\n",
      "   0|2               |    0.002|    0.578\n",
      "   0|2               |    0.002|    0.579\n",
      "   2|0               |    1.213|    0.584\n",
      "   2|0               |    2.013|    0.586\n",
      "   0|2               |   -0.001|    0.643\n",
      "   2|0               |   26.013|    0.589\n",
      "   2|0               |   51.613|    0.589\n",
      "   2|0               |  102.813|    0.589\n",
      "   0|2               |   -0.521|    0.654\n",
      "   2|0               |  205.213|    0.589\n",
      "   0|2               |   -1.044|    0.657\n",
      "   2|0               |  410.013|    0.589\n",
      "   3|4               |   -0.138|    0.648\n",
      "   4|0               |    0.272|    0.590\n",
      "   3|4               |   -0.038|    0.650\n",
      "   4|0               |    0.572|    0.593\n",
      "   3|4               |    0.562|    0.662\n",
      "   0|0               |   -0.001|    0.657\n",
      "   0|0               |   -0.006|    0.657\n",
      "   2|3               |   -0.003|    0.590\n",
      "   0|0               |   -0.021|    0.658\n",
      "   2|3               |   -0.048|    0.590\n",
      "   2|3               |   -0.096|    0.590\n",
      "   2|3               |   -0.191|    0.591\n",
      "   2|3               |   -0.383|    0.591\n",
      "   2|3               |   -0.766|    0.599\n",
      "   2|3               |   -1.532|    0.600\n",
      "   2|3               |   -3.065|    0.602\n",
      "   2|3               |   -6.130|    0.606\n",
      "   2|3               |  -49.044|    0.606\n",
      "   3|2               |   -0.072|    0.662\n",
      "   4|1               |    0.000|    0.632\n",
      "   3|2               |   -0.079|    0.662\n",
      "---------------------------\n",
      "Shuffle features and optimize!\n",
      "----------------------------------------\n",
      "   2|Feature         |   Weight|     NDCG\n",
      "----------------------------------------\n",
      "---------------------------\n",
      "Shuffle features and optimize!\n",
      "----------------------------------------\n",
      "   0|Feature         |   Weight|     NDCG\n",
      "----------------------------------------\n",
      "   3|2               |   -0.093|    0.663\n",
      "   4|2               |   -0.320|    0.637\n",
      "   3|2               |   -0.121|    0.665\n",
      "   4|2               |   -0.420|    0.645\n",
      "   3|2               |   -0.176|    0.671\n",
      "   1|1               |    0.155|    0.607\n",
      "   2|4               |   -0.000|    0.606\n",
      "   4|2               |   -0.620|    0.649\n",
      "   1|1               |    0.226|    0.608\n",
      "   4|2               |   -1.020|    0.659\n",
      "   3|2               |   -0.506|    0.674\n",
      "   1|1               |    0.367|    0.609\n",
      "   3|2               |   -0.947|    0.679\n",
      "   1|1               |    0.650|    0.609\n",
      "   1|1               |    1.217|    0.611\n",
      "   1|1               |    2.349|    0.625\n",
      "   1|1               |    4.614|    0.625\n",
      "   1|1               |    9.145|    0.626\n",
      "   1|1               |   18.205|    0.627\n",
      "   1|1               |   36.326|    0.627\n",
      "   1|1               |   72.569|    0.627\n",
      "   1|1               |  145.054|    0.627\n",
      "   1|1               | 9278.135|    0.627\n",
      "---------------------------\n",
      "Shuffle features and optimize!\n",
      "----------------------------------------\n",
      "   4|Feature         |   Weight|     NDCG\n",
      "----------------------------------------\n",
      "   4|4               |   -0.050|    0.660\n",
      "   1|2               |   -0.017|    0.627\n",
      "   1|2               |   -0.034|    0.628\n",
      "   1|2               |   -0.067|    0.628\n",
      "   1|2               |   -0.269|    0.635\n",
      "   1|2               |   -0.539|    0.642\n",
      "   1|2               |   -1.078|    0.659\n",
      "   1|2               |   -2.156|    0.666\n",
      "   1|2               |   -4.312|    0.676\n",
      "   2|4               |    1.125|    0.621\n",
      "---------------------------\n",
      "Shuffle features and optimize!\n",
      "----------------------------------------\n",
      "   1|Feature         |   Weight|     NDCG\n",
      "----------------------------------------\n",
      "   1|4               |   -0.050|    0.677\n",
      "---------------------------\n",
      "Shuffle features and optimize!\n",
      "----------------------------------------\n",
      "   3|Feature         |   Weight|     NDCG\n",
      "----------------------------------------\n",
      "   1|4               |    0.050|    0.677\n",
      "   1|0               |    0.000|    0.677\n",
      "   0|0               |   -0.024|    0.658\n",
      "   1|0               |   -0.029|    0.677\n",
      "   1|0               |   -0.057|    0.677\n",
      "   1|0               |   -0.114|    0.681\n",
      "   1|0               |   -0.229|    0.684\n",
      "   2|1               |    0.050|    0.639\n",
      "   2|1               |    0.150|    0.646\n",
      "   2|2               |   -0.050|    0.658\n",
      "   2|2               |   -0.150|    0.666\n",
      "   2|2               |   -0.350|    0.668\n",
      "   2|2               |   -0.750|    0.670\n",
      "   2|2               |   -1.550|    0.673\n",
      "   4|1               |    0.050|    0.671\n",
      "   0|1               |    0.050|    0.680\n",
      "   4|0               |    0.195|    0.672\n",
      "   0|3               |   -0.050|    0.681\n",
      "   0|3               |   -0.150|    0.684\n",
      "   0|3               |   -0.350|    0.687\n",
      "---------------------------\n",
      "Shuffle features and optimize!\n",
      "----------------------------------------\n",
      "   2|Feature         |   Weight|     NDCG\n",
      "----------------------------------------\n",
      "   1|3               |    0.000|    0.684\n",
      "   2|0               |    0.000|    0.673\n",
      "   1|3               |   -0.000|    0.684\n",
      "---------------------------\n",
      "Shuffle features and optimize!\n",
      "----------------------------------------\n",
      "   0|Feature         |   Weight|     NDCG\n",
      "----------------------------------------\n",
      "   0|0               |   -0.017|    0.688\n",
      "   0|0               |   -0.019|    0.688\n",
      "   2|0               |   -0.002|    0.673\n",
      "   0|0               |   -0.042|    0.689\n",
      "   2|0               |   -0.017|    0.674\n",
      "   1|3               |   -0.002|    0.684\n",
      "   1|3               |   -0.003|    0.684\n",
      "   1|3               |   -0.013|    0.684\n",
      "   1|3               |   -0.026|    0.684\n",
      "---------------------------\n",
      "Shuffle features and optimize!\n",
      "----------------------------------------\n",
      "   4|Feature         |   Weight|     NDCG\n",
      "----------------------------------------\n",
      "   3|4               |    0.568|    0.683\n",
      "---------------------------\n",
      "Shuffle features and optimize!\n",
      "----------------------------------------\n",
      "   1|Feature         |   Weight|     NDCG\n",
      "----------------------------------------\n",
      "   3|3               |   -0.266|    0.685\n",
      "   2|1               |    0.053|    0.676\n",
      "   2|1               |    0.058|    0.677\n",
      "   0|1               |    0.036|    0.689\n",
      "   0|1               |    0.040|    0.690\n",
      "   2|1               |    0.129|    0.678\n",
      "---------------------------\n",
      "Shuffle features and optimize!\n",
      "----------------------------------------\n",
      "   3|Feature         |   Weight|     NDCG\n",
      "----------------------------------------\n",
      "   3|4               |    0.316|    0.689\n",
      "   0|3               |   -0.301|    0.690\n",
      "   1|4               |    0.278|    0.685\n",
      "   1|3               |   -0.021|    0.686\n",
      "   3|3               |   -0.293|    0.690\n",
      "   4|2               |   -0.407|    0.675\n",
      "   4|4               |   -0.065|    0.675\n",
      "   4|4               |   -0.143|    0.675\n",
      "   4|4               |   -0.233|    0.676\n",
      "   4|4               |   -0.413|    0.678\n",
      "   2|4               |    0.115|    0.679\n",
      "   2|4               |    0.015|    0.684\n",
      "   4|1               |    0.046|    0.679\n",
      "---------------------------\n",
      "Shuffle features and optimize!\n",
      "----------------------------------------\n",
      "   2|Feature         |   Weight|     NDCG\n",
      "----------------------------------------\n",
      "   4|3               |   -0.172|    0.681\n",
      "   3|1               |    0.040|    0.691\n",
      "---------------------------\n",
      "Shuffle features and optimize!\n",
      "----------------------------------------\n",
      "   0|Feature         |   Weight|     NDCG\n",
      "----------------------------------------\n",
      "---------------------------\n",
      "Shuffle features and optimize!\n",
      "----------------------------------------\n",
      "   4|Feature         |   Weight|     NDCG\n",
      "----------------------------------------\n",
      "   2|4               |    0.020|    0.684\n",
      "   0|0               |   -0.041|    0.690\n",
      "   2|4               |    0.024|    0.684\n",
      "   0|0               |   -0.045|    0.690\n",
      "   2|4               |    0.031|    0.684\n",
      "   0|0               |   -0.068|    0.691\n",
      "   4|4               |   -0.239|    0.681\n",
      "---------------------------\n",
      "Shuffle features and optimize!\n",
      "----------------------------------------\n",
      "   3|Feature         |   Weight|     NDCG\n",
      "----------------------------------------\n",
      "   2|0               |   -0.019|    0.684\n",
      "   2|0               |   -0.025|    0.684\n",
      "   4|0               |    0.000|    0.684\n",
      "   3|1               |    0.038|    0.691\n",
      "   3|1               |    0.042|    0.691\n",
      "   3|3               |   -0.227|    0.692\n",
      "---------------------------\n",
      "Shuffle features and optimize!\n",
      "----------------------------------------\n",
      "   4|Feature         |   Weight|     NDCG\n",
      "----------------------------------------\n",
      "   4|4               |   -0.256|    0.685\n",
      "   4|3               |   -0.070|    0.685\n",
      "---------------------------\n",
      "Finished successfully.\n"
     ]
    },
    {
     "name": "stdout",
     "output_type": "stream",
     "text": [
      "CPU times: user 24.1 s, sys: 624 ms, total: 24.8 s\n",
      "Wall time: 22.9 s\n"
     ]
    }
   ],
   "source": [
    "import fastrank\n",
    "\n",
    "train_request1 = fastrank.TrainRequest.coordinate_ascent()\n",
    "params = train_request1.params\n",
    "params.init_random = True\n",
    "params.normalize = True\n",
    "params.seed = 1234567\n",
    "\n",
    "ca_pipe1 = ltr_feats1 >> pt.ltr.apply_learned_model(train_request1, form='fastrank')\n",
    "ca_pipe2 = ltr_feats2 >> pt.ltr.apply_learned_model(train_request1, form='fastrank')\n",
    "ca_pipe3 = ltr_feats3 >> pt.ltr.apply_learned_model(train_request1, form='fastrank')\n",
    "ca_pipe4 = ltr_feats4 >> pt.ltr.apply_learned_model(train_request1, form='fastrank')\n",
    "ca_pipe5 = ltr_feats5 >> pt.ltr.apply_learned_model(train_request1, form='fastrank')\n",
    "\n",
    "%time ca_pipe1.fit(train_query, df_label_train)\n",
    "\n",
    "%time ca_pipe2.fit(train_query, df_label_train)\n",
    "\n",
    "%time ca_pipe3.fit(train_query, df_label_train)\n",
    "%time ca_pipe4.fit(train_query, df_label_train)\n",
    "%time ca_pipe5.fit(train_query, df_label_train)\n"
   ]
  },
  {
   "cell_type": "code",
   "execution_count": 45,
   "id": "8707e3fa",
   "metadata": {},
   "outputs": [
    {
     "name": "stdout",
     "output_type": "stream",
     "text": [
      "12:29:08.443 [main] WARN org.terrier.querying.ApplyTermPipeline - The index has no termpipelines configuration, and no control configuration is found. Defaulting to global termpipelines configuration of 'Stopwords,PorterStemmer'. Set a termpipelines control to remove this warning.\n",
      "12:29:08.728 [main] WARN org.terrier.querying.ApplyTermPipeline - The index has no termpipelines configuration, and no control configuration is found. Defaulting to global termpipelines configuration of 'Stopwords,PorterStemmer'. Set a termpipelines control to remove this warning.\n",
      "12:29:09.105 [main] WARN org.terrier.querying.ApplyTermPipeline - The index has no termpipelines configuration, and no control configuration is found. Defaulting to global termpipelines configuration of 'Stopwords,PorterStemmer'. Set a termpipelines control to remove this warning.\n",
      "12:29:10.102 [main] WARN org.terrier.querying.ApplyTermPipeline - The index has no termpipelines configuration, and no control configuration is found. Defaulting to global termpipelines configuration of 'Stopwords,PorterStemmer'. Set a termpipelines control to remove this warning.\n"
     ]
    },
    {
     "name": "stderr",
     "output_type": "stream",
     "text": [
      "[Parallel(n_jobs=2)]: Using backend ThreadingBackend with 2 concurrent workers.\n",
      "[Parallel(n_jobs=2)]: Done  46 tasks      | elapsed:    0.1s\n",
      "[Parallel(n_jobs=2)]: Done 196 tasks      | elapsed:    0.2s\n",
      "[Parallel(n_jobs=2)]: Done 400 out of 400 | elapsed:    0.5s finished\n"
     ]
    },
    {
     "name": "stdout",
     "output_type": "stream",
     "text": [
      "CPU times: user 18.4 s, sys: 488 ms, total: 18.9 s\n",
      "Wall time: 16.2 s\n",
      "[2022-12-04 12:29:24,102][onir_pt][DEBUG] using GPU (deterministic)\n",
      "[2022-12-04 12:29:24,105][onir_pt][DEBUG] [starting] batches\n"
     ]
    },
    {
     "data": {
      "application/vnd.jupyter.widget-view+json": {
       "model_id": "",
       "version_major": 2,
       "version_minor": 0
      },
      "text/plain": [
       "batches:   0%|          | 0/105 [15ms<?, ?it/s]"
      ]
     },
     "metadata": {},
     "output_type": "display_data"
    },
    {
     "name": "stdout",
     "output_type": "stream",
     "text": [
      "[2022-12-04 12:29:24,321][onir_pt][DEBUG] [finished] batches: [215ms] [105it] [488.10it/s]\n",
      "12:29:24.455 [main] WARN org.terrier.querying.ApplyTermPipeline - The index has no termpipelines configuration, and no control configuration is found. Defaulting to global termpipelines configuration of 'Stopwords,PorterStemmer'. Set a termpipelines control to remove this warning.\n",
      "12:29:24.740 [main] WARN org.terrier.querying.ApplyTermPipeline - The index has no termpipelines configuration, and no control configuration is found. Defaulting to global termpipelines configuration of 'Stopwords,PorterStemmer'. Set a termpipelines control to remove this warning.\n",
      "12:29:25.118 [main] WARN org.terrier.querying.ApplyTermPipeline - The index has no termpipelines configuration, and no control configuration is found. Defaulting to global termpipelines configuration of 'Stopwords,PorterStemmer'. Set a termpipelines control to remove this warning.\n",
      "12:29:26.133 [main] WARN org.terrier.querying.ApplyTermPipeline - The index has no termpipelines configuration, and no control configuration is found. Defaulting to global termpipelines configuration of 'Stopwords,PorterStemmer'. Set a termpipelines control to remove this warning.\n"
     ]
    },
    {
     "name": "stderr",
     "output_type": "stream",
     "text": [
      "[Parallel(n_jobs=2)]: Using backend ThreadingBackend with 2 concurrent workers.\n",
      "[Parallel(n_jobs=2)]: Done  46 tasks      | elapsed:    0.1s\n",
      "[Parallel(n_jobs=2)]: Done 196 tasks      | elapsed:    0.2s\n",
      "[Parallel(n_jobs=2)]: Done 400 out of 400 | elapsed:    0.4s finished\n"
     ]
    },
    {
     "name": "stdout",
     "output_type": "stream",
     "text": [
      "CPU times: user 17.6 s, sys: 406 ms, total: 18 s\n",
      "Wall time: 16 s\n",
      "[2022-12-04 12:29:40,180][onir_pt][DEBUG] using GPU (deterministic)\n",
      "[2022-12-04 12:29:40,185][onir_pt][DEBUG] [starting] batches\n"
     ]
    },
    {
     "data": {
      "application/vnd.jupyter.widget-view+json": {
       "model_id": "",
       "version_major": 2,
       "version_minor": 0
      },
      "text/plain": [
       "batches:   0%|          | 0/105 [14ms<?, ?it/s]"
      ]
     },
     "metadata": {},
     "output_type": "display_data"
    },
    {
     "name": "stdout",
     "output_type": "stream",
     "text": [
      "[2022-12-04 12:29:47,352][onir_pt][DEBUG] [finished] batches: [7.17s] [105it] [14.65it/s]\n",
      "12:29:47.490 [main] WARN org.terrier.querying.ApplyTermPipeline - The index has no termpipelines configuration, and no control configuration is found. Defaulting to global termpipelines configuration of 'Stopwords,PorterStemmer'. Set a termpipelines control to remove this warning.\n",
      "12:29:47.772 [main] WARN org.terrier.querying.ApplyTermPipeline - The index has no termpipelines configuration, and no control configuration is found. Defaulting to global termpipelines configuration of 'Stopwords,PorterStemmer'. Set a termpipelines control to remove this warning.\n",
      "12:29:48.150 [main] WARN org.terrier.querying.ApplyTermPipeline - The index has no termpipelines configuration, and no control configuration is found. Defaulting to global termpipelines configuration of 'Stopwords,PorterStemmer'. Set a termpipelines control to remove this warning.\n",
      "12:29:49.144 [main] WARN org.terrier.querying.ApplyTermPipeline - The index has no termpipelines configuration, and no control configuration is found. Defaulting to global termpipelines configuration of 'Stopwords,PorterStemmer'. Set a termpipelines control to remove this warning.\n"
     ]
    },
    {
     "name": "stderr",
     "output_type": "stream",
     "text": [
      "[Parallel(n_jobs=2)]: Using backend ThreadingBackend with 2 concurrent workers.\n",
      "[Parallel(n_jobs=2)]: Done  46 tasks      | elapsed:    0.1s\n",
      "[Parallel(n_jobs=2)]: Done 196 tasks      | elapsed:    0.2s\n",
      "[Parallel(n_jobs=2)]: Done 400 out of 400 | elapsed:    0.4s finished\n"
     ]
    },
    {
     "name": "stdout",
     "output_type": "stream",
     "text": [
      "CPU times: user 24.2 s, sys: 572 ms, total: 24.8 s\n",
      "Wall time: 23 s\n",
      "[2022-12-04 12:30:03,320][onir_pt][DEBUG] using GPU (deterministic)\n",
      "[2022-12-04 12:30:03,322][onir_pt][DEBUG] [starting] batches\n"
     ]
    },
    {
     "data": {
      "application/vnd.jupyter.widget-view+json": {
       "model_id": "",
       "version_major": 2,
       "version_minor": 0
      },
      "text/plain": [
       "batches:   0%|          | 0/105 [14ms<?, ?it/s]"
      ]
     },
     "metadata": {},
     "output_type": "display_data"
    },
    {
     "name": "stdout",
     "output_type": "stream",
     "text": [
      "[2022-12-04 12:30:03,536][onir_pt][DEBUG] [finished] batches: [213ms] [105it] [492.89it/s]\n",
      "12:30:03.670 [main] WARN org.terrier.querying.ApplyTermPipeline - The index has no termpipelines configuration, and no control configuration is found. Defaulting to global termpipelines configuration of 'Stopwords,PorterStemmer'. Set a termpipelines control to remove this warning.\n",
      "12:30:03.962 [main] WARN org.terrier.querying.ApplyTermPipeline - The index has no termpipelines configuration, and no control configuration is found. Defaulting to global termpipelines configuration of 'Stopwords,PorterStemmer'. Set a termpipelines control to remove this warning.\n",
      "12:30:04.337 [main] WARN org.terrier.querying.ApplyTermPipeline - The index has no termpipelines configuration, and no control configuration is found. Defaulting to global termpipelines configuration of 'Stopwords,PorterStemmer'. Set a termpipelines control to remove this warning.\n",
      "12:30:05.309 [main] WARN org.terrier.querying.ApplyTermPipeline - The index has no termpipelines configuration, and no control configuration is found. Defaulting to global termpipelines configuration of 'Stopwords,PorterStemmer'. Set a termpipelines control to remove this warning.\n"
     ]
    },
    {
     "name": "stderr",
     "output_type": "stream",
     "text": [
      "[Parallel(n_jobs=2)]: Using backend ThreadingBackend with 2 concurrent workers.\n",
      "[Parallel(n_jobs=2)]: Done  46 tasks      | elapsed:    0.1s\n",
      "[Parallel(n_jobs=2)]: Done 196 tasks      | elapsed:    0.2s\n",
      "[Parallel(n_jobs=2)]: Done 400 out of 400 | elapsed:    0.4s finished\n"
     ]
    },
    {
     "name": "stdout",
     "output_type": "stream",
     "text": [
      "CPU times: user 17.5 s, sys: 769 ms, total: 18.2 s\n",
      "Wall time: 16.2 s\n",
      "[2022-12-04 12:30:19,689][onir_pt][DEBUG] using GPU (deterministic)\n",
      "[2022-12-04 12:30:19,694][onir_pt][DEBUG] [starting] batches\n"
     ]
    },
    {
     "data": {
      "application/vnd.jupyter.widget-view+json": {
       "model_id": "",
       "version_major": 2,
       "version_minor": 0
      },
      "text/plain": [
       "batches:   0%|          | 0/105 [14ms<?, ?it/s]"
      ]
     },
     "metadata": {},
     "output_type": "display_data"
    },
    {
     "name": "stdout",
     "output_type": "stream",
     "text": [
      "[2022-12-04 12:30:26,874][onir_pt][DEBUG] [finished] batches: [7.18s] [105it] [14.63it/s]\n",
      "12:30:27.010 [main] WARN org.terrier.querying.ApplyTermPipeline - The index has no termpipelines configuration, and no control configuration is found. Defaulting to global termpipelines configuration of 'Stopwords,PorterStemmer'. Set a termpipelines control to remove this warning.\n",
      "12:30:27.305 [main] WARN org.terrier.querying.ApplyTermPipeline - The index has no termpipelines configuration, and no control configuration is found. Defaulting to global termpipelines configuration of 'Stopwords,PorterStemmer'. Set a termpipelines control to remove this warning.\n",
      "12:30:27.684 [main] WARN org.terrier.querying.ApplyTermPipeline - The index has no termpipelines configuration, and no control configuration is found. Defaulting to global termpipelines configuration of 'Stopwords,PorterStemmer'. Set a termpipelines control to remove this warning.\n",
      "12:30:28.661 [main] WARN org.terrier.querying.ApplyTermPipeline - The index has no termpipelines configuration, and no control configuration is found. Defaulting to global termpipelines configuration of 'Stopwords,PorterStemmer'. Set a termpipelines control to remove this warning.\n"
     ]
    },
    {
     "name": "stderr",
     "output_type": "stream",
     "text": [
      "[Parallel(n_jobs=2)]: Using backend ThreadingBackend with 2 concurrent workers.\n",
      "[Parallel(n_jobs=2)]: Done  46 tasks      | elapsed:    0.1s\n",
      "[Parallel(n_jobs=2)]: Done 196 tasks      | elapsed:    0.2s\n",
      "[Parallel(n_jobs=2)]: Done 400 out of 400 | elapsed:    0.4s finished\n"
     ]
    },
    {
     "name": "stdout",
     "output_type": "stream",
     "text": [
      "CPU times: user 24.4 s, sys: 838 ms, total: 25.2 s\n",
      "Wall time: 23.3 s\n"
     ]
    }
   ],
   "source": [
    "from sklearn.ensemble import RandomForestRegressor\n",
    "\n",
    "rf1 = RandomForestRegressor(n_estimators=400, verbose=1, random_state=SEED, n_jobs=2)\n",
    "rf2 = RandomForestRegressor(n_estimators=400, verbose=1, random_state=SEED, n_jobs=2)\n",
    "rf3 = RandomForestRegressor(n_estimators=400, verbose=1, random_state=SEED, n_jobs=2)\n",
    "rf4 = RandomForestRegressor(n_estimators=400, verbose=1, random_state=SEED, n_jobs=2)\n",
    "rf5 = RandomForestRegressor(n_estimators=400, verbose=1, random_state=SEED, n_jobs=2)\n",
    "rf_pipe1 = ltr_feats1 >> pt.ltr.apply_learned_model(rf1)\n",
    "rf_pipe2 = ltr_feats2 >> pt.ltr.apply_learned_model(rf2)\n",
    "rf_pipe3 = ltr_feats3 >> pt.ltr.apply_learned_model(rf3)\n",
    "rf_pipe4 = ltr_feats4 >> pt.ltr.apply_learned_model(rf3)\n",
    "rf_pipe5 = ltr_feats5 >> pt.ltr.apply_learned_model(rf3)\n",
    "%time rf_pipe1.fit(train_query, df_label_train)\n",
    "%time rf_pipe2.fit(train_query, df_label_train)\n",
    "%time rf_pipe3.fit(train_query, df_label_train)\n",
    "%time rf_pipe4.fit(train_query, df_label_train)\n",
    "%time rf_pipe5.fit(train_query, df_label_train)"
   ]
  },
  {
   "cell_type": "code",
   "execution_count": 46,
   "id": "319fcea7",
   "metadata": {},
   "outputs": [
    {
     "name": "stdout",
     "output_type": "stream",
     "text": [
      "12:30:43.261 [main] WARN org.terrier.querying.ApplyTermPipeline - The index has no termpipelines configuration, and no control configuration is found. Defaulting to global termpipelines configuration of 'Stopwords,PorterStemmer'. Set a termpipelines control to remove this warning.\n",
      "12:30:43.480 [main] WARN org.terrier.querying.ApplyTermPipeline - The index has no termpipelines configuration, and no control configuration is found. Defaulting to global termpipelines configuration of 'Stopwords,PorterStemmer'. Set a termpipelines control to remove this warning.\n",
      "12:30:43.761 [main] WARN org.terrier.querying.ApplyTermPipeline - The index has no termpipelines configuration, and no control configuration is found. Defaulting to global termpipelines configuration of 'Stopwords,PorterStemmer'. Set a termpipelines control to remove this warning.\n",
      "12:30:44.481 [main] WARN org.terrier.querying.ApplyTermPipeline - The index has no termpipelines configuration, and no control configuration is found. Defaulting to global termpipelines configuration of 'Stopwords,PorterStemmer'. Set a termpipelines control to remove this warning.\n",
      "12:30:47.926 [main] WARN org.terrier.querying.ApplyTermPipeline - The index has no termpipelines configuration, and no control configuration is found. Defaulting to global termpipelines configuration of 'Stopwords,PorterStemmer'. Set a termpipelines control to remove this warning.\n",
      "12:30:48.021 [main] WARN org.terrier.querying.ApplyTermPipeline - The index has no termpipelines configuration, and no control configuration is found. Defaulting to global termpipelines configuration of 'Stopwords,PorterStemmer'. Set a termpipelines control to remove this warning.\n",
      "12:30:48.138 [main] WARN org.terrier.querying.ApplyTermPipeline - The index has no termpipelines configuration, and no control configuration is found. Defaulting to global termpipelines configuration of 'Stopwords,PorterStemmer'. Set a termpipelines control to remove this warning.\n",
      "12:30:48.431 [main] WARN org.terrier.querying.ApplyTermPipeline - The index has no termpipelines configuration, and no control configuration is found. Defaulting to global termpipelines configuration of 'Stopwords,PorterStemmer'. Set a termpipelines control to remove this warning.\n"
     ]
    },
    {
     "name": "stderr",
     "output_type": "stream",
     "text": [
      "/home/zihuiliu/.local/lib/python3.9/site-packages/lightgbm/sklearn.py:641: UserWarning: Found 'eval_at' in params. Will use it instead of 'eval_at' argument\n",
      "  _log_warning(f\"Found '{alias}' in params. Will use it instead of 'eval_at' argument\")\n",
      "/home/zihuiliu/.local/lib/python3.9/site-packages/lightgbm/sklearn.py:641: UserWarning: Found 'ndcg_eval_at' in params. Will use it instead of 'eval_at' argument\n",
      "  _log_warning(f\"Found '{alias}' in params. Will use it instead of 'eval_at' argument\")\n",
      "/home/zihuiliu/.local/lib/python3.9/site-packages/lightgbm/sklearn.py:641: UserWarning: Found 'ndcg_at' in params. Will use it instead of 'eval_at' argument\n",
      "  _log_warning(f\"Found '{alias}' in params. Will use it instead of 'eval_at' argument\")\n",
      "/home/zihuiliu/.local/lib/python3.9/site-packages/lightgbm/engine.py:143: UserWarning: Found `num_iterations` in params. Will use it instead of argument\n",
      "  _log_warning(f\"Found `{alias}` in params. Will use it instead of argument\")\n"
     ]
    },
    {
     "name": "stdout",
     "output_type": "stream",
     "text": [
      "[LightGBM] [Warning] Unknown parameter: silent\n",
      "[LightGBM] [Warning] early_stopping_round is set=5, early_stopping_rounds=5 will be ignored. Current value: early_stopping_round=5\n",
      "[LightGBM] [Warning] min_data_in_leaf is set=1, min_child_samples=20 will be ignored. Current value: min_data_in_leaf=1\n",
      "[LightGBM] [Warning] min_sum_hessian_in_leaf is set=1, min_child_weight=0.001 will be ignored. Current value: min_sum_hessian_in_leaf=1\n",
      "[LightGBM] [Warning] Unknown parameter: silent\n",
      "[LightGBM] [Warning] min_data_in_leaf is set=1, min_child_samples=20 will be ignored. Current value: min_data_in_leaf=1\n",
      "[LightGBM] [Warning] min_sum_hessian_in_leaf is set=1, min_child_weight=0.001 will be ignored. Current value: min_sum_hessian_in_leaf=1\n",
      "[LightGBM] [Warning] Auto-choosing col-wise multi-threading, the overhead of testing was 0.000494 seconds.\n",
      "You can set `force_col_wise=true` to remove the overhead.\n",
      "[LightGBM] [Info] Total Bins 436\n",
      "[LightGBM] [Info] Number of data points in the train set: 320, number of used features: 6\n",
      "[LightGBM] [Warning] Unknown parameter: silent\n",
      "[LightGBM] [Warning] early_stopping_round is set=5, early_stopping_rounds=5 will be ignored. Current value: early_stopping_round=5\n",
      "[LightGBM] [Warning] min_data_in_leaf is set=1, min_child_samples=20 will be ignored. Current value: min_data_in_leaf=1\n",
      "[LightGBM] [Warning] min_sum_hessian_in_leaf is set=1, min_child_weight=0.001 will be ignored. Current value: min_sum_hessian_in_leaf=1\n",
      "[LightGBM] [Warning] No further splits with positive gain, best gain: -inf\n",
      "Training until validation scores don't improve for 5 rounds\n",
      "[LightGBM] [Warning] No further splits with positive gain, best gain: -inf\n",
      "[LightGBM] [Warning] No further splits with positive gain, best gain: -inf\n",
      "[LightGBM] [Warning] No further splits with positive gain, best gain: -inf\n",
      "[LightGBM] [Warning] No further splits with positive gain, best gain: -inf\n",
      "[LightGBM] [Warning] No further splits with positive gain, best gain: -inf\n",
      "[LightGBM] [Warning] No further splits with positive gain, best gain: -inf\n",
      "[LightGBM] [Warning] No further splits with positive gain, best gain: -inf\n",
      "[LightGBM] [Warning] No further splits with positive gain, best gain: -inf\n",
      "[LightGBM] [Warning] No further splits with positive gain, best gain: -inf\n",
      "[LightGBM] [Warning] No further splits with positive gain, best gain: -inf\n",
      "Early stopping, best iteration is:\n",
      "[7]\tvalid_0's ndcg@10: 0.705145\n",
      "CPU times: user 21.9 s, sys: 492 ms, total: 22.4 s\n",
      "Wall time: 16.1 s\n",
      "[2022-12-04 12:30:59,643][onir_pt][DEBUG] using GPU (deterministic)\n",
      "[2022-12-04 12:30:59,647][onir_pt][DEBUG] [starting] batches\n"
     ]
    },
    {
     "data": {
      "application/vnd.jupyter.widget-view+json": {
       "model_id": "",
       "version_major": 2,
       "version_minor": 0
      },
      "text/plain": [
       "batches:   0%|          | 0/80 [17ms<?, ?it/s]"
      ]
     },
     "metadata": {},
     "output_type": "display_data"
    },
    {
     "name": "stdout",
     "output_type": "stream",
     "text": [
      "[2022-12-04 12:30:59,820][onir_pt][DEBUG] [finished] batches: [171ms] [80it] [466.84it/s]\n",
      "12:30:59.931 [main] WARN org.terrier.querying.ApplyTermPipeline - The index has no termpipelines configuration, and no control configuration is found. Defaulting to global termpipelines configuration of 'Stopwords,PorterStemmer'. Set a termpipelines control to remove this warning.\n",
      "12:31:00.153 [main] WARN org.terrier.querying.ApplyTermPipeline - The index has no termpipelines configuration, and no control configuration is found. Defaulting to global termpipelines configuration of 'Stopwords,PorterStemmer'. Set a termpipelines control to remove this warning.\n",
      "12:31:00.436 [main] WARN org.terrier.querying.ApplyTermPipeline - The index has no termpipelines configuration, and no control configuration is found. Defaulting to global termpipelines configuration of 'Stopwords,PorterStemmer'. Set a termpipelines control to remove this warning.\n",
      "12:31:01.167 [main] WARN org.terrier.querying.ApplyTermPipeline - The index has no termpipelines configuration, and no control configuration is found. Defaulting to global termpipelines configuration of 'Stopwords,PorterStemmer'. Set a termpipelines control to remove this warning.\n",
      "[2022-12-04 12:31:05,323][onir_pt][DEBUG] using GPU (deterministic)\n",
      "[2022-12-04 12:31:05,328][onir_pt][DEBUG] [starting] batches\n"
     ]
    },
    {
     "data": {
      "application/vnd.jupyter.widget-view+json": {
       "model_id": "",
       "version_major": 2,
       "version_minor": 0
      },
      "text/plain": [
       "batches:   0%|          | 0/25 [16ms<?, ?it/s]"
      ]
     },
     "metadata": {},
     "output_type": "display_data"
    },
    {
     "name": "stdout",
     "output_type": "stream",
     "text": [
      "[2022-12-04 12:31:05,418][onir_pt][DEBUG] [finished] batches: [88ms] [25it] [283.77it/s]\n",
      "12:31:05.469 [main] WARN org.terrier.querying.ApplyTermPipeline - The index has no termpipelines configuration, and no control configuration is found. Defaulting to global termpipelines configuration of 'Stopwords,PorterStemmer'. Set a termpipelines control to remove this warning.\n",
      "12:31:05.563 [main] WARN org.terrier.querying.ApplyTermPipeline - The index has no termpipelines configuration, and no control configuration is found. Defaulting to global termpipelines configuration of 'Stopwords,PorterStemmer'. Set a termpipelines control to remove this warning.\n",
      "12:31:05.679 [main] WARN org.terrier.querying.ApplyTermPipeline - The index has no termpipelines configuration, and no control configuration is found. Defaulting to global termpipelines configuration of 'Stopwords,PorterStemmer'. Set a termpipelines control to remove this warning.\n",
      "12:31:05.970 [main] WARN org.terrier.querying.ApplyTermPipeline - The index has no termpipelines configuration, and no control configuration is found. Defaulting to global termpipelines configuration of 'Stopwords,PorterStemmer'. Set a termpipelines control to remove this warning.\n"
     ]
    },
    {
     "name": "stderr",
     "output_type": "stream",
     "text": [
      "/home/zihuiliu/.local/lib/python3.9/site-packages/lightgbm/sklearn.py:641: UserWarning: Found 'eval_at' in params. Will use it instead of 'eval_at' argument\n",
      "  _log_warning(f\"Found '{alias}' in params. Will use it instead of 'eval_at' argument\")\n",
      "/home/zihuiliu/.local/lib/python3.9/site-packages/lightgbm/sklearn.py:641: UserWarning: Found 'ndcg_eval_at' in params. Will use it instead of 'eval_at' argument\n",
      "  _log_warning(f\"Found '{alias}' in params. Will use it instead of 'eval_at' argument\")\n",
      "/home/zihuiliu/.local/lib/python3.9/site-packages/lightgbm/sklearn.py:641: UserWarning: Found 'ndcg_at' in params. Will use it instead of 'eval_at' argument\n",
      "  _log_warning(f\"Found '{alias}' in params. Will use it instead of 'eval_at' argument\")\n",
      "/home/zihuiliu/.local/lib/python3.9/site-packages/lightgbm/engine.py:143: UserWarning: Found `num_iterations` in params. Will use it instead of argument\n",
      "  _log_warning(f\"Found `{alias}` in params. Will use it instead of argument\")\n"
     ]
    },
    {
     "name": "stdout",
     "output_type": "stream",
     "text": [
      "[LightGBM] [Warning] Unknown parameter: silent\n",
      "[LightGBM] [Warning] early_stopping_round is set=5, early_stopping_rounds=5 will be ignored. Current value: early_stopping_round=5\n",
      "[LightGBM] [Warning] min_data_in_leaf is set=1, min_child_samples=20 will be ignored. Current value: min_data_in_leaf=1\n",
      "[LightGBM] [Warning] min_sum_hessian_in_leaf is set=1, min_child_weight=0.001 will be ignored. Current value: min_sum_hessian_in_leaf=1\n",
      "[LightGBM] [Warning] Unknown parameter: silent\n",
      "[LightGBM] [Warning] min_data_in_leaf is set=1, min_child_samples=20 will be ignored. Current value: min_data_in_leaf=1\n",
      "[LightGBM] [Warning] min_sum_hessian_in_leaf is set=1, min_child_weight=0.001 will be ignored. Current value: min_sum_hessian_in_leaf=1\n",
      "[LightGBM] [Warning] Auto-choosing col-wise multi-threading, the overhead of testing was 0.000147 seconds.\n",
      "You can set `force_col_wise=true` to remove the overhead.\n",
      "[LightGBM] [Info] Total Bins 294\n",
      "[LightGBM] [Info] Number of data points in the train set: 320, number of used features: 5\n",
      "[LightGBM] [Warning] Unknown parameter: silent\n",
      "[LightGBM] [Warning] early_stopping_round is set=5, early_stopping_rounds=5 will be ignored. Current value: early_stopping_round=5\n",
      "[LightGBM] [Warning] min_data_in_leaf is set=1, min_child_samples=20 will be ignored. Current value: min_data_in_leaf=1\n",
      "[LightGBM] [Warning] min_sum_hessian_in_leaf is set=1, min_child_weight=0.001 will be ignored. Current value: min_sum_hessian_in_leaf=1\n",
      "[LightGBM] [Warning] No further splits with positive gain, best gain: -inf\n",
      "Training until validation scores don't improve for 5 rounds\n",
      "[LightGBM] [Warning] No further splits with positive gain, best gain: -inf\n",
      "[LightGBM] [Warning] No further splits with positive gain, best gain: -inf\n",
      "[LightGBM] [Warning] No further splits with positive gain, best gain: -inf\n",
      "[LightGBM] [Warning] No further splits with positive gain, best gain: -inf\n",
      "[LightGBM] [Warning] No further splits with positive gain, best gain: -inf\n",
      "[LightGBM] [Warning] No further splits with positive gain, best gain: -inf\n",
      "[LightGBM] [Warning] No further splits with positive gain, best gain: -inf\n",
      "Early stopping, best iteration is:\n",
      "[4]\tvalid_0's ndcg@10: 0.703896\n",
      "CPU times: user 21 s, sys: 2.44 s, total: 23.4 s\n",
      "Wall time: 17.2 s\n",
      "[2022-12-04 12:31:16,110][onir_pt][DEBUG] using GPU (deterministic)\n",
      "[2022-12-04 12:31:16,115][onir_pt][DEBUG] [starting] batches\n"
     ]
    },
    {
     "data": {
      "application/vnd.jupyter.widget-view+json": {
       "model_id": "",
       "version_major": 2,
       "version_minor": 0
      },
      "text/plain": [
       "batches:   0%|          | 0/80 [14ms<?, ?it/s]"
      ]
     },
     "metadata": {},
     "output_type": "display_data"
    },
    {
     "name": "stdout",
     "output_type": "stream",
     "text": [
      "[2022-12-04 12:31:21,210][onir_pt][DEBUG] [finished] batches: [5.09s] [80it] [15.71it/s]\n",
      "12:31:21.318 [main] WARN org.terrier.querying.ApplyTermPipeline - The index has no termpipelines configuration, and no control configuration is found. Defaulting to global termpipelines configuration of 'Stopwords,PorterStemmer'. Set a termpipelines control to remove this warning.\n",
      "12:31:21.535 [main] WARN org.terrier.querying.ApplyTermPipeline - The index has no termpipelines configuration, and no control configuration is found. Defaulting to global termpipelines configuration of 'Stopwords,PorterStemmer'. Set a termpipelines control to remove this warning.\n",
      "12:31:21.814 [main] WARN org.terrier.querying.ApplyTermPipeline - The index has no termpipelines configuration, and no control configuration is found. Defaulting to global termpipelines configuration of 'Stopwords,PorterStemmer'. Set a termpipelines control to remove this warning.\n",
      "12:31:22.537 [main] WARN org.terrier.querying.ApplyTermPipeline - The index has no termpipelines configuration, and no control configuration is found. Defaulting to global termpipelines configuration of 'Stopwords,PorterStemmer'. Set a termpipelines control to remove this warning.\n",
      "[2022-12-04 12:31:25,783][onir_pt][DEBUG] using GPU (deterministic)\n",
      "[2022-12-04 12:31:25,787][onir_pt][DEBUG] [starting] batches\n"
     ]
    },
    {
     "data": {
      "application/vnd.jupyter.widget-view+json": {
       "model_id": "",
       "version_major": 2,
       "version_minor": 0
      },
      "text/plain": [
       "batches:   0%|          | 0/25 [14ms<?, ?it/s]"
      ]
     },
     "metadata": {},
     "output_type": "display_data"
    },
    {
     "name": "stdout",
     "output_type": "stream",
     "text": [
      "[2022-12-04 12:31:27,911][onir_pt][DEBUG] [finished] batches: [2.12s] [25it] [11.78it/s]\n",
      "12:31:27.957 [main] WARN org.terrier.querying.ApplyTermPipeline - The index has no termpipelines configuration, and no control configuration is found. Defaulting to global termpipelines configuration of 'Stopwords,PorterStemmer'. Set a termpipelines control to remove this warning.\n",
      "12:31:28.049 [main] WARN org.terrier.querying.ApplyTermPipeline - The index has no termpipelines configuration, and no control configuration is found. Defaulting to global termpipelines configuration of 'Stopwords,PorterStemmer'. Set a termpipelines control to remove this warning.\n",
      "12:31:28.164 [main] WARN org.terrier.querying.ApplyTermPipeline - The index has no termpipelines configuration, and no control configuration is found. Defaulting to global termpipelines configuration of 'Stopwords,PorterStemmer'. Set a termpipelines control to remove this warning.\n",
      "12:31:28.456 [main] WARN org.terrier.querying.ApplyTermPipeline - The index has no termpipelines configuration, and no control configuration is found. Defaulting to global termpipelines configuration of 'Stopwords,PorterStemmer'. Set a termpipelines control to remove this warning.\n"
     ]
    },
    {
     "name": "stderr",
     "output_type": "stream",
     "text": [
      "/home/zihuiliu/.local/lib/python3.9/site-packages/lightgbm/sklearn.py:641: UserWarning: Found 'eval_at' in params. Will use it instead of 'eval_at' argument\n",
      "  _log_warning(f\"Found '{alias}' in params. Will use it instead of 'eval_at' argument\")\n",
      "/home/zihuiliu/.local/lib/python3.9/site-packages/lightgbm/sklearn.py:641: UserWarning: Found 'ndcg_eval_at' in params. Will use it instead of 'eval_at' argument\n",
      "  _log_warning(f\"Found '{alias}' in params. Will use it instead of 'eval_at' argument\")\n",
      "/home/zihuiliu/.local/lib/python3.9/site-packages/lightgbm/sklearn.py:641: UserWarning: Found 'ndcg_at' in params. Will use it instead of 'eval_at' argument\n",
      "  _log_warning(f\"Found '{alias}' in params. Will use it instead of 'eval_at' argument\")\n",
      "/home/zihuiliu/.local/lib/python3.9/site-packages/lightgbm/engine.py:143: UserWarning: Found `num_iterations` in params. Will use it instead of argument\n",
      "  _log_warning(f\"Found `{alias}` in params. Will use it instead of argument\")\n"
     ]
    },
    {
     "name": "stdout",
     "output_type": "stream",
     "text": [
      "[LightGBM] [Warning] Unknown parameter: silent\n",
      "[LightGBM] [Warning] early_stopping_round is set=5, early_stopping_rounds=5 will be ignored. Current value: early_stopping_round=5\n",
      "[LightGBM] [Warning] min_data_in_leaf is set=1, min_child_samples=20 will be ignored. Current value: min_data_in_leaf=1\n",
      "[LightGBM] [Warning] min_sum_hessian_in_leaf is set=1, min_child_weight=0.001 will be ignored. Current value: min_sum_hessian_in_leaf=1\n",
      "[LightGBM] [Warning] Unknown parameter: silent\n",
      "[LightGBM] [Warning] min_data_in_leaf is set=1, min_child_samples=20 will be ignored. Current value: min_data_in_leaf=1\n",
      "[LightGBM] [Warning] min_sum_hessian_in_leaf is set=1, min_child_weight=0.001 will be ignored. Current value: min_sum_hessian_in_leaf=1\n",
      "[LightGBM] [Warning] Auto-choosing col-wise multi-threading, the overhead of testing was 0.000148 seconds.\n",
      "You can set `force_col_wise=true` to remove the overhead.\n",
      "[LightGBM] [Info] Total Bins 226\n",
      "[LightGBM] [Info] Number of data points in the train set: 320, number of used features: 5\n",
      "[LightGBM] [Warning] Unknown parameter: silent\n",
      "[LightGBM] [Warning] early_stopping_round is set=5, early_stopping_rounds=5 will be ignored. Current value: early_stopping_round=5\n",
      "[LightGBM] [Warning] min_data_in_leaf is set=1, min_child_samples=20 will be ignored. Current value: min_data_in_leaf=1\n",
      "[LightGBM] [Warning] min_sum_hessian_in_leaf is set=1, min_child_weight=0.001 will be ignored. Current value: min_sum_hessian_in_leaf=1\n",
      "[LightGBM] [Warning] No further splits with positive gain, best gain: -inf\n",
      "Training until validation scores don't improve for 5 rounds\n",
      "[LightGBM] [Warning] No further splits with positive gain, best gain: -inf\n",
      "[LightGBM] [Warning] No further splits with positive gain, best gain: -inf\n",
      "[LightGBM] [Warning] No further splits with positive gain, best gain: -inf\n",
      "[LightGBM] [Warning] No further splits with positive gain, best gain: -inf\n",
      "[LightGBM] [Warning] No further splits with positive gain, best gain: -inf\n",
      "[LightGBM] [Warning] No further splits with positive gain, best gain: -inf\n",
      "[LightGBM] [Warning] No further splits with positive gain, best gain: -inf\n",
      "[LightGBM] [Warning] No further splits with positive gain, best gain: -inf\n",
      "[LightGBM] [Warning] No further splits with positive gain, best gain: -inf\n",
      "[LightGBM] [Warning] No further splits with positive gain, best gain: -inf\n",
      "[LightGBM] [Warning] No further splits with positive gain, best gain: -inf\n",
      "[LightGBM] [Warning] No further splits with positive gain, best gain: -inf\n",
      "[LightGBM] [Warning] No further splits with positive gain, best gain: -inf\n",
      "[LightGBM] [Warning] No further splits with positive gain, best gain: -inf\n",
      "[LightGBM] [Warning] No further splits with positive gain, best gain: -inf\n",
      "[LightGBM] [Warning] No further splits with positive gain, best gain: -inf\n",
      "Early stopping, best iteration is:\n",
      "[13]\tvalid_0's ndcg@10: 0.738568\n",
      "CPU times: user 27.6 s, sys: 476 ms, total: 28.1 s\n",
      "Wall time: 22.5 s\n",
      "[2022-12-04 12:31:39,021][onir_pt][DEBUG] using GPU (deterministic)\n",
      "[2022-12-04 12:31:39,025][onir_pt][DEBUG] [starting] batches\n"
     ]
    },
    {
     "data": {
      "application/vnd.jupyter.widget-view+json": {
       "model_id": "",
       "version_major": 2,
       "version_minor": 0
      },
      "text/plain": [
       "batches:   0%|          | 0/80 [16ms<?, ?it/s]"
      ]
     },
     "metadata": {},
     "output_type": "display_data"
    },
    {
     "name": "stdout",
     "output_type": "stream",
     "text": [
      "[2022-12-04 12:31:39,205][onir_pt][DEBUG] [finished] batches: [178ms] [80it] [448.37it/s]\n",
      "12:31:39.316 [main] WARN org.terrier.querying.ApplyTermPipeline - The index has no termpipelines configuration, and no control configuration is found. Defaulting to global termpipelines configuration of 'Stopwords,PorterStemmer'. Set a termpipelines control to remove this warning.\n",
      "12:31:39.540 [main] WARN org.terrier.querying.ApplyTermPipeline - The index has no termpipelines configuration, and no control configuration is found. Defaulting to global termpipelines configuration of 'Stopwords,PorterStemmer'. Set a termpipelines control to remove this warning.\n",
      "12:31:39.822 [main] WARN org.terrier.querying.ApplyTermPipeline - The index has no termpipelines configuration, and no control configuration is found. Defaulting to global termpipelines configuration of 'Stopwords,PorterStemmer'. Set a termpipelines control to remove this warning.\n",
      "12:31:40.543 [main] WARN org.terrier.querying.ApplyTermPipeline - The index has no termpipelines configuration, and no control configuration is found. Defaulting to global termpipelines configuration of 'Stopwords,PorterStemmer'. Set a termpipelines control to remove this warning.\n",
      "[2022-12-04 12:31:43,887][onir_pt][DEBUG] using GPU (deterministic)\n",
      "[2022-12-04 12:31:43,889][onir_pt][DEBUG] [starting] batches\n"
     ]
    },
    {
     "data": {
      "application/vnd.jupyter.widget-view+json": {
       "model_id": "",
       "version_major": 2,
       "version_minor": 0
      },
      "text/plain": [
       "batches:   0%|          | 0/25 [14ms<?, ?it/s]"
      ]
     },
     "metadata": {},
     "output_type": "display_data"
    },
    {
     "name": "stdout",
     "output_type": "stream",
     "text": [
      "[2022-12-04 12:31:43,961][onir_pt][DEBUG] [finished] batches: [71ms] [25it] [354.59it/s]\n",
      "12:31:44.005 [main] WARN org.terrier.querying.ApplyTermPipeline - The index has no termpipelines configuration, and no control configuration is found. Defaulting to global termpipelines configuration of 'Stopwords,PorterStemmer'. Set a termpipelines control to remove this warning.\n",
      "12:31:44.097 [main] WARN org.terrier.querying.ApplyTermPipeline - The index has no termpipelines configuration, and no control configuration is found. Defaulting to global termpipelines configuration of 'Stopwords,PorterStemmer'. Set a termpipelines control to remove this warning.\n",
      "12:31:44.216 [main] WARN org.terrier.querying.ApplyTermPipeline - The index has no termpipelines configuration, and no control configuration is found. Defaulting to global termpipelines configuration of 'Stopwords,PorterStemmer'. Set a termpipelines control to remove this warning.\n",
      "12:31:44.519 [main] WARN org.terrier.querying.ApplyTermPipeline - The index has no termpipelines configuration, and no control configuration is found. Defaulting to global termpipelines configuration of 'Stopwords,PorterStemmer'. Set a termpipelines control to remove this warning.\n"
     ]
    },
    {
     "name": "stderr",
     "output_type": "stream",
     "text": [
      "/home/zihuiliu/.local/lib/python3.9/site-packages/lightgbm/sklearn.py:641: UserWarning: Found 'eval_at' in params. Will use it instead of 'eval_at' argument\n",
      "  _log_warning(f\"Found '{alias}' in params. Will use it instead of 'eval_at' argument\")\n",
      "/home/zihuiliu/.local/lib/python3.9/site-packages/lightgbm/sklearn.py:641: UserWarning: Found 'ndcg_eval_at' in params. Will use it instead of 'eval_at' argument\n",
      "  _log_warning(f\"Found '{alias}' in params. Will use it instead of 'eval_at' argument\")\n",
      "/home/zihuiliu/.local/lib/python3.9/site-packages/lightgbm/sklearn.py:641: UserWarning: Found 'ndcg_at' in params. Will use it instead of 'eval_at' argument\n",
      "  _log_warning(f\"Found '{alias}' in params. Will use it instead of 'eval_at' argument\")\n",
      "/home/zihuiliu/.local/lib/python3.9/site-packages/lightgbm/engine.py:143: UserWarning: Found `num_iterations` in params. Will use it instead of argument\n",
      "  _log_warning(f\"Found `{alias}` in params. Will use it instead of argument\")\n"
     ]
    },
    {
     "name": "stdout",
     "output_type": "stream",
     "text": [
      "[LightGBM] [Warning] Unknown parameter: silent\n",
      "[LightGBM] [Warning] early_stopping_round is set=5, early_stopping_rounds=5 will be ignored. Current value: early_stopping_round=5\n",
      "[LightGBM] [Warning] min_data_in_leaf is set=1, min_child_samples=20 will be ignored. Current value: min_data_in_leaf=1\n",
      "[LightGBM] [Warning] min_sum_hessian_in_leaf is set=1, min_child_weight=0.001 will be ignored. Current value: min_sum_hessian_in_leaf=1\n",
      "[LightGBM] [Warning] Unknown parameter: silent\n",
      "[LightGBM] [Warning] min_data_in_leaf is set=1, min_child_samples=20 will be ignored. Current value: min_data_in_leaf=1\n",
      "[LightGBM] [Warning] min_sum_hessian_in_leaf is set=1, min_child_weight=0.001 will be ignored. Current value: min_sum_hessian_in_leaf=1\n",
      "[LightGBM] [Warning] Auto-choosing col-wise multi-threading, the overhead of testing was 0.000142 seconds.\n",
      "You can set `force_col_wise=true` to remove the overhead.\n",
      "[LightGBM] [Info] Total Bins 227\n",
      "[LightGBM] [Info] Number of data points in the train set: 320, number of used features: 5\n",
      "[LightGBM] [Warning] Unknown parameter: silent\n",
      "[LightGBM] [Warning] early_stopping_round is set=5, early_stopping_rounds=5 will be ignored. Current value: early_stopping_round=5\n",
      "[LightGBM] [Warning] min_data_in_leaf is set=1, min_child_samples=20 will be ignored. Current value: min_data_in_leaf=1\n",
      "[LightGBM] [Warning] min_sum_hessian_in_leaf is set=1, min_child_weight=0.001 will be ignored. Current value: min_sum_hessian_in_leaf=1\n",
      "[LightGBM] [Warning] No further splits with positive gain, best gain: -inf\n",
      "Training until validation scores don't improve for 5 rounds\n",
      "[LightGBM] [Warning] No further splits with positive gain, best gain: -inf\n",
      "[LightGBM] [Warning] No further splits with positive gain, best gain: -inf\n",
      "[LightGBM] [Warning] No further splits with positive gain, best gain: -inf\n",
      "[LightGBM] [Warning] No further splits with positive gain, best gain: -inf\n",
      "Early stopping, best iteration is:\n",
      "[1]\tvalid_0's ndcg@10: 0.637298\n",
      "CPU times: user 19.5 s, sys: 1.29 s, total: 20.8 s\n",
      "Wall time: 16.1 s\n",
      "[2022-12-04 12:31:54,989][onir_pt][DEBUG] using GPU (deterministic)\n",
      "[2022-12-04 12:31:54,997][onir_pt][DEBUG] [starting] batches\n"
     ]
    },
    {
     "data": {
      "application/vnd.jupyter.widget-view+json": {
       "model_id": "",
       "version_major": 2,
       "version_minor": 0
      },
      "text/plain": [
       "batches:   0%|          | 0/80 [15ms<?, ?it/s]"
      ]
     },
     "metadata": {},
     "output_type": "display_data"
    },
    {
     "name": "stdout",
     "output_type": "stream",
     "text": [
      "[2022-12-04 12:32:00,079][onir_pt][DEBUG] [finished] batches: [5.08s] [80it] [15.75it/s]\n",
      "12:32:00.190 [main] WARN org.terrier.querying.ApplyTermPipeline - The index has no termpipelines configuration, and no control configuration is found. Defaulting to global termpipelines configuration of 'Stopwords,PorterStemmer'. Set a termpipelines control to remove this warning.\n",
      "12:32:00.418 [main] WARN org.terrier.querying.ApplyTermPipeline - The index has no termpipelines configuration, and no control configuration is found. Defaulting to global termpipelines configuration of 'Stopwords,PorterStemmer'. Set a termpipelines control to remove this warning.\n",
      "12:32:00.705 [main] WARN org.terrier.querying.ApplyTermPipeline - The index has no termpipelines configuration, and no control configuration is found. Defaulting to global termpipelines configuration of 'Stopwords,PorterStemmer'. Set a termpipelines control to remove this warning.\n",
      "12:32:01.454 [main] WARN org.terrier.querying.ApplyTermPipeline - The index has no termpipelines configuration, and no control configuration is found. Defaulting to global termpipelines configuration of 'Stopwords,PorterStemmer'. Set a termpipelines control to remove this warning.\n",
      "[2022-12-04 12:32:05,099][onir_pt][DEBUG] using GPU (deterministic)\n",
      "[2022-12-04 12:32:05,104][onir_pt][DEBUG] [starting] batches\n"
     ]
    },
    {
     "data": {
      "application/vnd.jupyter.widget-view+json": {
       "model_id": "",
       "version_major": 2,
       "version_minor": 0
      },
      "text/plain": [
       "batches:   0%|          | 0/25 [14ms<?, ?it/s]"
      ]
     },
     "metadata": {},
     "output_type": "display_data"
    },
    {
     "name": "stdout",
     "output_type": "stream",
     "text": [
      "[2022-12-04 12:32:07,212][onir_pt][DEBUG] [finished] batches: [2.11s] [25it] [11.87it/s]\n",
      "12:32:07.261 [main] WARN org.terrier.querying.ApplyTermPipeline - The index has no termpipelines configuration, and no control configuration is found. Defaulting to global termpipelines configuration of 'Stopwords,PorterStemmer'. Set a termpipelines control to remove this warning.\n",
      "12:32:07.355 [main] WARN org.terrier.querying.ApplyTermPipeline - The index has no termpipelines configuration, and no control configuration is found. Defaulting to global termpipelines configuration of 'Stopwords,PorterStemmer'. Set a termpipelines control to remove this warning.\n",
      "12:32:07.473 [main] WARN org.terrier.querying.ApplyTermPipeline - The index has no termpipelines configuration, and no control configuration is found. Defaulting to global termpipelines configuration of 'Stopwords,PorterStemmer'. Set a termpipelines control to remove this warning.\n",
      "12:32:07.761 [main] WARN org.terrier.querying.ApplyTermPipeline - The index has no termpipelines configuration, and no control configuration is found. Defaulting to global termpipelines configuration of 'Stopwords,PorterStemmer'. Set a termpipelines control to remove this warning.\n"
     ]
    },
    {
     "name": "stderr",
     "output_type": "stream",
     "text": [
      "/home/zihuiliu/.local/lib/python3.9/site-packages/lightgbm/sklearn.py:641: UserWarning: Found 'eval_at' in params. Will use it instead of 'eval_at' argument\n",
      "  _log_warning(f\"Found '{alias}' in params. Will use it instead of 'eval_at' argument\")\n",
      "/home/zihuiliu/.local/lib/python3.9/site-packages/lightgbm/sklearn.py:641: UserWarning: Found 'ndcg_eval_at' in params. Will use it instead of 'eval_at' argument\n",
      "  _log_warning(f\"Found '{alias}' in params. Will use it instead of 'eval_at' argument\")\n",
      "/home/zihuiliu/.local/lib/python3.9/site-packages/lightgbm/sklearn.py:641: UserWarning: Found 'ndcg_at' in params. Will use it instead of 'eval_at' argument\n",
      "  _log_warning(f\"Found '{alias}' in params. Will use it instead of 'eval_at' argument\")\n",
      "/home/zihuiliu/.local/lib/python3.9/site-packages/lightgbm/engine.py:143: UserWarning: Found `num_iterations` in params. Will use it instead of argument\n",
      "  _log_warning(f\"Found `{alias}` in params. Will use it instead of argument\")\n"
     ]
    },
    {
     "name": "stdout",
     "output_type": "stream",
     "text": [
      "[LightGBM] [Warning] Unknown parameter: silent\n",
      "[LightGBM] [Warning] early_stopping_round is set=5, early_stopping_rounds=5 will be ignored. Current value: early_stopping_round=5\n",
      "[LightGBM] [Warning] min_data_in_leaf is set=1, min_child_samples=20 will be ignored. Current value: min_data_in_leaf=1\n",
      "[LightGBM] [Warning] min_sum_hessian_in_leaf is set=1, min_child_weight=0.001 will be ignored. Current value: min_sum_hessian_in_leaf=1\n",
      "[LightGBM] [Warning] Unknown parameter: silent\n",
      "[LightGBM] [Warning] min_data_in_leaf is set=1, min_child_samples=20 will be ignored. Current value: min_data_in_leaf=1\n",
      "[LightGBM] [Warning] min_sum_hessian_in_leaf is set=1, min_child_weight=0.001 will be ignored. Current value: min_sum_hessian_in_leaf=1\n",
      "[LightGBM] [Warning] Auto-choosing col-wise multi-threading, the overhead of testing was 0.000146 seconds.\n",
      "You can set `force_col_wise=true` to remove the overhead.\n",
      "[LightGBM] [Info] Total Bins 229\n",
      "[LightGBM] [Info] Number of data points in the train set: 320, number of used features: 5\n",
      "[LightGBM] [Warning] Unknown parameter: silent\n",
      "[LightGBM] [Warning] early_stopping_round is set=5, early_stopping_rounds=5 will be ignored. Current value: early_stopping_round=5\n",
      "[LightGBM] [Warning] min_data_in_leaf is set=1, min_child_samples=20 will be ignored. Current value: min_data_in_leaf=1\n",
      "[LightGBM] [Warning] min_sum_hessian_in_leaf is set=1, min_child_weight=0.001 will be ignored. Current value: min_sum_hessian_in_leaf=1\n",
      "[LightGBM] [Warning] No further splits with positive gain, best gain: -inf\n",
      "Training until validation scores don't improve for 5 rounds\n",
      "[LightGBM] [Warning] No further splits with positive gain, best gain: -inf\n",
      "[LightGBM] [Warning] No further splits with positive gain, best gain: -inf\n",
      "[LightGBM] [Warning] No further splits with positive gain, best gain: -inf\n",
      "[LightGBM] [Warning] No further splits with positive gain, best gain: -inf\n",
      "Early stopping, best iteration is:\n",
      "[1]\tvalid_0's ndcg@10: 0.707345\n",
      "CPU times: user 29.6 s, sys: 1.05 s, total: 30.6 s\n",
      "Wall time: 23.2 s\n"
     ]
    }
   ],
   "source": [
    "\n",
    "\n",
    "import lightgbm as lgb\n",
    "\n",
    "\n",
    "train_topics, val_topics = train_test_split(train_query, test_size=0.2, random_state=SEED)\n",
    "\n",
    "# this configures LightGBM as LambdaMART\n",
    "lmart_l1 = lgb.LGBMRanker(\n",
    "    task=\"train\",\n",
    "    silent=False,\n",
    "    min_data_in_leaf=1,\n",
    "    min_sum_hessian_in_leaf=1,\n",
    "    max_bin=255,\n",
    "    num_leaves=31,\n",
    "    objective=\"lambdarank\",\n",
    "    metric=\"ndcg\",\n",
    "    ndcg_eval_at=[10],\n",
    "    ndcg_at=[10],\n",
    "    eval_at=[10],\n",
    "    learning_rate= .1,\n",
    "    importance_type=\"gain\",\n",
    "    num_iterations=100,\n",
    "    early_stopping_rounds=5\n",
    ")\n",
    "# this configures LightGBM as LambdaMART\n",
    "lmart_l2 = lgb.LGBMRanker(\n",
    "    task=\"train\",\n",
    "    silent=False,\n",
    "    min_data_in_leaf=1,\n",
    "    min_sum_hessian_in_leaf=1,\n",
    "    max_bin=255,\n",
    "    num_leaves=31,\n",
    "    objective=\"lambdarank\",\n",
    "    metric=\"ndcg\",\n",
    "    ndcg_eval_at=[10],\n",
    "    ndcg_at=[10],\n",
    "    eval_at=[10],\n",
    "    learning_rate= .1,\n",
    "    importance_type=\"gain\",\n",
    "    num_iterations=100,\n",
    "    early_stopping_rounds=5\n",
    ")\n",
    "lmart_l3 = lgb.LGBMRanker(\n",
    "    task=\"train\",\n",
    "    silent=False,\n",
    "    min_data_in_leaf=1,\n",
    "    min_sum_hessian_in_leaf=1,\n",
    "    max_bin=255,\n",
    "    num_leaves=31,\n",
    "    objective=\"lambdarank\",\n",
    "    metric=\"ndcg\",\n",
    "    ndcg_eval_at=[10],\n",
    "    ndcg_at=[10],\n",
    "    eval_at=[10],\n",
    "    learning_rate= .1,\n",
    "    importance_type=\"gain\",\n",
    "    num_iterations=100,\n",
    "    early_stopping_rounds=5\n",
    ")\n",
    "lmart_l4 = lgb.LGBMRanker(\n",
    "    task=\"train\",\n",
    "    silent=False,\n",
    "    min_data_in_leaf=1,\n",
    "    min_sum_hessian_in_leaf=1,\n",
    "    max_bin=255,\n",
    "    num_leaves=31,\n",
    "    objective=\"lambdarank\",\n",
    "    metric=\"ndcg\",\n",
    "    ndcg_eval_at=[10],\n",
    "    ndcg_at=[10],\n",
    "    eval_at=[10],\n",
    "    learning_rate= .1,\n",
    "    importance_type=\"gain\",\n",
    "    num_iterations=100,\n",
    "    early_stopping_rounds=5\n",
    ")\n",
    "lmart_l5 = lgb.LGBMRanker(\n",
    "    task=\"train\",\n",
    "    silent=False,\n",
    "    min_data_in_leaf=1,\n",
    "    min_sum_hessian_in_leaf=1,\n",
    "    max_bin=255,\n",
    "    num_leaves=31,\n",
    "    objective=\"lambdarank\",\n",
    "    metric=\"ndcg\",\n",
    "    ndcg_eval_at=[10],\n",
    "    ndcg_at=[10],\n",
    "    eval_at=[10],\n",
    "    learning_rate= .1,\n",
    "    importance_type=\"gain\",\n",
    "    num_iterations=100,\n",
    "    early_stopping_rounds=5\n",
    ")\n",
    "lmart_x_pipe1 = ltr_feats1 >> pt.ltr.apply_learned_model(lmart_l1, form=\"ltr\", fit_kwargs={'eval_at':[10]})\n",
    "\n",
    "lmart_x_pipe2 = ltr_feats2 >> pt.ltr.apply_learned_model(lmart_l2, form=\"ltr\", fit_kwargs={'eval_at':[10]})\n",
    "\n",
    "lmart_x_pipe3 = ltr_feats3 >> pt.ltr.apply_learned_model(lmart_l3, form=\"ltr\", fit_kwargs={'eval_at':[10]})\n",
    "\n",
    "lmart_x_pipe4 = ltr_feats4 >> pt.ltr.apply_learned_model(lmart_l3, form=\"ltr\", fit_kwargs={'eval_at':[10]})\n",
    "\n",
    "lmart_x_pipe5 = ltr_feats5 >> pt.ltr.apply_learned_model(lmart_l3, form=\"ltr\", fit_kwargs={'eval_at':[10]})\n",
    "\n",
    "%time lmart_x_pipe1.fit(train_topics, df_label_train, val_topics, df_label_train)\n",
    "\n",
    "%time lmart_x_pipe2.fit(train_topics, df_label_train, val_topics, df_label_train)\n",
    "\n",
    "%time lmart_x_pipe3.fit(train_topics, df_label_train, val_topics, df_label_train)\n",
    "\n",
    "%time lmart_x_pipe4.fit(train_topics, df_label_train, val_topics, df_label_train)\n",
    "\n",
    "%time lmart_x_pipe5.fit(train_topics, df_label_train, val_topics, df_label_train)\n",
    "\n"
   ]
  },
  {
   "cell_type": "markdown",
   "id": "25f74184",
   "metadata": {},
   "source": [
    "## Evaluate baseline"
   ]
  },
  {
   "cell_type": "markdown",
   "id": "4426cb3b",
   "metadata": {},
   "source": [
    "### Naive random baseline"
   ]
  },
  {
   "cell_type": "code",
   "execution_count": 47,
   "id": "54c4c3fe",
   "metadata": {},
   "outputs": [],
   "source": [
    "import random\n",
    "\n",
    "def random_weighting(keyFreq, posting, entryStats, collStats):\n",
    "    '''\n",
    "    Computes the Pivoted Normalization score of this document for a given query\n",
    "    \n",
    "    :param keyFrequency(float): the weight of the term in the query, usually 1 except during PRF.\n",
    "    :param posting(Posting): access to the information about the occurrence of the term in the current document (frequency, document length etc).\n",
    "    :param entryStats(EntryStatistics): access to the information about the occurrence of the term in the whole index (document frequency, etc.).\n",
    "    :param collStats(CollectionStatistics): access to the information about the index as a whole (number of documents, etc).\n",
    "    :return: the Pivoted Normalization score of this document for the given query\n",
    "    '''\n",
    "    return random.random()\n",
    "random_model=pt.BatchRetrieve(index2,wmodel=random_weighting)"
   ]
  },
  {
   "cell_type": "code",
   "execution_count": 51,
   "id": "f4f8e4fe",
   "metadata": {},
   "outputs": [
    {
     "name": "stdout",
     "output_type": "stream",
     "text": [
      "12:34:17.092 [main] WARN org.terrier.querying.ApplyTermPipeline - The index has no termpipelines configuration, and no control configuration is found. Defaulting to global termpipelines configuration of 'Stopwords,PorterStemmer'. Set a termpipelines control to remove this warning.\n",
      "12:34:17.370 [main] WARN org.terrier.querying.ApplyTermPipeline - The index has no termpipelines configuration, and no control configuration is found. Defaulting to global termpipelines configuration of 'Stopwords,PorterStemmer'. Set a termpipelines control to remove this warning.\n",
      "12:34:17.737 [main] WARN org.terrier.querying.ApplyTermPipeline - The index has no termpipelines configuration, and no control configuration is found. Defaulting to global termpipelines configuration of 'Stopwords,PorterStemmer'. Set a termpipelines control to remove this warning.\n",
      "12:34:18.661 [main] WARN org.terrier.querying.ApplyTermPipeline - The index has no termpipelines configuration, and no control configuration is found. Defaulting to global termpipelines configuration of 'Stopwords,PorterStemmer'. Set a termpipelines control to remove this warning.\n",
      "12:34:32.373 [main] WARN org.terrier.querying.ApplyTermPipeline - The index has no termpipelines configuration, and no control configuration is found. Defaulting to global termpipelines configuration of 'Stopwords,PorterStemmer'. Set a termpipelines control to remove this warning.\n",
      "12:34:32.650 [main] WARN org.terrier.querying.ApplyTermPipeline - The index has no termpipelines configuration, and no control configuration is found. Defaulting to global termpipelines configuration of 'Stopwords,PorterStemmer'. Set a termpipelines control to remove this warning.\n",
      "12:34:33.013 [main] WARN org.terrier.querying.ApplyTermPipeline - The index has no termpipelines configuration, and no control configuration is found. Defaulting to global termpipelines configuration of 'Stopwords,PorterStemmer'. Set a termpipelines control to remove this warning.\n",
      "12:34:33.929 [main] WARN org.terrier.querying.ApplyTermPipeline - The index has no termpipelines configuration, and no control configuration is found. Defaulting to global termpipelines configuration of 'Stopwords,PorterStemmer'. Set a termpipelines control to remove this warning.\n"
     ]
    },
    {
     "name": "stderr",
     "output_type": "stream",
     "text": [
      "[Parallel(n_jobs=2)]: Using backend ThreadingBackend with 2 concurrent workers.\n",
      "[Parallel(n_jobs=2)]: Done  46 tasks      | elapsed:    0.0s\n",
      "[Parallel(n_jobs=2)]: Done 196 tasks      | elapsed:    0.0s\n",
      "[Parallel(n_jobs=2)]: Done 400 out of 400 | elapsed:    0.1s finished\n"
     ]
    },
    {
     "name": "stdout",
     "output_type": "stream",
     "text": [
      "12:34:48.099 [main] WARN org.terrier.querying.ApplyTermPipeline - The index has no termpipelines configuration, and no control configuration is found. Defaulting to global termpipelines configuration of 'Stopwords,PorterStemmer'. Set a termpipelines control to remove this warning.\n",
      "12:34:48.377 [main] WARN org.terrier.querying.ApplyTermPipeline - The index has no termpipelines configuration, and no control configuration is found. Defaulting to global termpipelines configuration of 'Stopwords,PorterStemmer'. Set a termpipelines control to remove this warning.\n",
      "12:34:48.740 [main] WARN org.terrier.querying.ApplyTermPipeline - The index has no termpipelines configuration, and no control configuration is found. Defaulting to global termpipelines configuration of 'Stopwords,PorterStemmer'. Set a termpipelines control to remove this warning.\n",
      "12:34:49.727 [main] WARN org.terrier.querying.ApplyTermPipeline - The index has no termpipelines configuration, and no control configuration is found. Defaulting to global termpipelines configuration of 'Stopwords,PorterStemmer'. Set a termpipelines control to remove this warning.\n"
     ]
    },
    {
     "name": "stderr",
     "output_type": "stream",
     "text": [
      "/home/zihuiliu/.local/lib/python3.9/site-packages/lightgbm/sklearn.py:641: UserWarning: Found 'eval_at' in params. Will use it instead of 'eval_at' argument\n",
      "  _log_warning(f\"Found '{alias}' in params. Will use it instead of 'eval_at' argument\")\n",
      "/home/zihuiliu/.local/lib/python3.9/site-packages/lightgbm/sklearn.py:641: UserWarning: Found 'ndcg_eval_at' in params. Will use it instead of 'eval_at' argument\n",
      "  _log_warning(f\"Found '{alias}' in params. Will use it instead of 'eval_at' argument\")\n",
      "/home/zihuiliu/.local/lib/python3.9/site-packages/lightgbm/sklearn.py:641: UserWarning: Found 'ndcg_at' in params. Will use it instead of 'eval_at' argument\n",
      "  _log_warning(f\"Found '{alias}' in params. Will use it instead of 'eval_at' argument\")\n"
     ]
    },
    {
     "name": "stdout",
     "output_type": "stream",
     "text": [
      "[LightGBM] [Warning] Unknown parameter: silent\n",
      "[LightGBM] [Warning] min_data_in_leaf is set=1, min_child_samples=20 will be ignored. Current value: min_data_in_leaf=1\n",
      "[LightGBM] [Warning] min_sum_hessian_in_leaf is set=1, min_child_weight=0.001 will be ignored. Current value: min_sum_hessian_in_leaf=1\n",
      "[2022-12-04 12:35:02,959][onir_pt][DEBUG] using GPU (deterministic)\n",
      "[2022-12-04 12:35:02,962][onir_pt][DEBUG] [starting] batches\n"
     ]
    },
    {
     "data": {
      "application/vnd.jupyter.widget-view+json": {
       "model_id": "",
       "version_major": 2,
       "version_minor": 0
      },
      "text/plain": [
       "batches:   0%|          | 0/105 [15ms<?, ?it/s]"
      ]
     },
     "metadata": {},
     "output_type": "display_data"
    },
    {
     "name": "stdout",
     "output_type": "stream",
     "text": [
      "[2022-12-04 12:35:03,179][onir_pt][DEBUG] [finished] batches: [216ms] [105it] [487.11it/s]\n",
      "12:35:03.312 [main] WARN org.terrier.querying.ApplyTermPipeline - The index has no termpipelines configuration, and no control configuration is found. Defaulting to global termpipelines configuration of 'Stopwords,PorterStemmer'. Set a termpipelines control to remove this warning.\n",
      "12:35:03.588 [main] WARN org.terrier.querying.ApplyTermPipeline - The index has no termpipelines configuration, and no control configuration is found. Defaulting to global termpipelines configuration of 'Stopwords,PorterStemmer'. Set a termpipelines control to remove this warning.\n",
      "12:35:03.951 [main] WARN org.terrier.querying.ApplyTermPipeline - The index has no termpipelines configuration, and no control configuration is found. Defaulting to global termpipelines configuration of 'Stopwords,PorterStemmer'. Set a termpipelines control to remove this warning.\n",
      "12:35:04.939 [main] WARN org.terrier.querying.ApplyTermPipeline - The index has no termpipelines configuration, and no control configuration is found. Defaulting to global termpipelines configuration of 'Stopwords,PorterStemmer'. Set a termpipelines control to remove this warning.\n",
      "[2022-12-04 12:35:18,095][onir_pt][DEBUG] using GPU (deterministic)\n",
      "[2022-12-04 12:35:18,097][onir_pt][DEBUG] [starting] batches\n"
     ]
    },
    {
     "data": {
      "application/vnd.jupyter.widget-view+json": {
       "model_id": "",
       "version_major": 2,
       "version_minor": 0
      },
      "text/plain": [
       "batches:   0%|          | 0/105 [14ms<?, ?it/s]"
      ]
     },
     "metadata": {},
     "output_type": "display_data"
    },
    {
     "name": "stdout",
     "output_type": "stream",
     "text": [
      "[2022-12-04 12:35:18,296][onir_pt][DEBUG] [finished] batches: [198ms] [105it] [529.35it/s]\n",
      "12:35:18.428 [main] WARN org.terrier.querying.ApplyTermPipeline - The index has no termpipelines configuration, and no control configuration is found. Defaulting to global termpipelines configuration of 'Stopwords,PorterStemmer'. Set a termpipelines control to remove this warning.\n",
      "12:35:18.708 [main] WARN org.terrier.querying.ApplyTermPipeline - The index has no termpipelines configuration, and no control configuration is found. Defaulting to global termpipelines configuration of 'Stopwords,PorterStemmer'. Set a termpipelines control to remove this warning.\n",
      "12:35:19.073 [main] WARN org.terrier.querying.ApplyTermPipeline - The index has no termpipelines configuration, and no control configuration is found. Defaulting to global termpipelines configuration of 'Stopwords,PorterStemmer'. Set a termpipelines control to remove this warning.\n",
      "12:35:20.017 [main] WARN org.terrier.querying.ApplyTermPipeline - The index has no termpipelines configuration, and no control configuration is found. Defaulting to global termpipelines configuration of 'Stopwords,PorterStemmer'. Set a termpipelines control to remove this warning.\n"
     ]
    },
    {
     "name": "stderr",
     "output_type": "stream",
     "text": [
      "[Parallel(n_jobs=2)]: Using backend ThreadingBackend with 2 concurrent workers.\n",
      "[Parallel(n_jobs=2)]: Done  46 tasks      | elapsed:    0.0s\n",
      "[Parallel(n_jobs=2)]: Done 196 tasks      | elapsed:    0.0s\n",
      "[Parallel(n_jobs=2)]: Done 400 out of 400 | elapsed:    0.1s finished\n"
     ]
    },
    {
     "name": "stdout",
     "output_type": "stream",
     "text": [
      "[2022-12-04 12:35:33,605][onir_pt][DEBUG] using GPU (deterministic)\n",
      "[2022-12-04 12:35:33,608][onir_pt][DEBUG] [starting] batches\n"
     ]
    },
    {
     "data": {
      "application/vnd.jupyter.widget-view+json": {
       "model_id": "",
       "version_major": 2,
       "version_minor": 0
      },
      "text/plain": [
       "batches:   0%|          | 0/105 [14ms<?, ?it/s]"
      ]
     },
     "metadata": {},
     "output_type": "display_data"
    },
    {
     "name": "stdout",
     "output_type": "stream",
     "text": [
      "[2022-12-04 12:35:33,819][onir_pt][DEBUG] [finished] batches: [211ms] [105it] [498.78it/s]\n",
      "12:35:33.953 [main] WARN org.terrier.querying.ApplyTermPipeline - The index has no termpipelines configuration, and no control configuration is found. Defaulting to global termpipelines configuration of 'Stopwords,PorterStemmer'. Set a termpipelines control to remove this warning.\n",
      "12:35:34.230 [main] WARN org.terrier.querying.ApplyTermPipeline - The index has no termpipelines configuration, and no control configuration is found. Defaulting to global termpipelines configuration of 'Stopwords,PorterStemmer'. Set a termpipelines control to remove this warning.\n",
      "12:35:34.595 [main] WARN org.terrier.querying.ApplyTermPipeline - The index has no termpipelines configuration, and no control configuration is found. Defaulting to global termpipelines configuration of 'Stopwords,PorterStemmer'. Set a termpipelines control to remove this warning.\n",
      "12:35:35.588 [main] WARN org.terrier.querying.ApplyTermPipeline - The index has no termpipelines configuration, and no control configuration is found. Defaulting to global termpipelines configuration of 'Stopwords,PorterStemmer'. Set a termpipelines control to remove this warning.\n"
     ]
    },
    {
     "name": "stderr",
     "output_type": "stream",
     "text": [
      "/home/zihuiliu/.local/lib/python3.9/site-packages/lightgbm/sklearn.py:641: UserWarning: Found 'eval_at' in params. Will use it instead of 'eval_at' argument\n",
      "  _log_warning(f\"Found '{alias}' in params. Will use it instead of 'eval_at' argument\")\n",
      "/home/zihuiliu/.local/lib/python3.9/site-packages/lightgbm/sklearn.py:641: UserWarning: Found 'ndcg_eval_at' in params. Will use it instead of 'eval_at' argument\n",
      "  _log_warning(f\"Found '{alias}' in params. Will use it instead of 'eval_at' argument\")\n",
      "/home/zihuiliu/.local/lib/python3.9/site-packages/lightgbm/sklearn.py:641: UserWarning: Found 'ndcg_at' in params. Will use it instead of 'eval_at' argument\n",
      "  _log_warning(f\"Found '{alias}' in params. Will use it instead of 'eval_at' argument\")\n"
     ]
    },
    {
     "name": "stdout",
     "output_type": "stream",
     "text": [
      "[LightGBM] [Warning] Unknown parameter: silent\n",
      "[LightGBM] [Warning] min_data_in_leaf is set=1, min_child_samples=20 will be ignored. Current value: min_data_in_leaf=1\n",
      "[LightGBM] [Warning] min_sum_hessian_in_leaf is set=1, min_child_weight=0.001 will be ignored. Current value: min_sum_hessian_in_leaf=1\n",
      "[2022-12-04 12:35:48,783][onir_pt][DEBUG] using GPU (deterministic)\n",
      "[2022-12-04 12:35:48,787][onir_pt][DEBUG] [starting] batches\n"
     ]
    },
    {
     "data": {
      "application/vnd.jupyter.widget-view+json": {
       "model_id": "",
       "version_major": 2,
       "version_minor": 0
      },
      "text/plain": [
       "batches:   0%|          | 0/105 [15ms<?, ?it/s]"
      ]
     },
     "metadata": {},
     "output_type": "display_data"
    },
    {
     "name": "stdout",
     "output_type": "stream",
     "text": [
      "[2022-12-04 12:35:55,670][onir_pt][DEBUG] [finished] batches: [6.88s] [105it] [15.26it/s]\n",
      "12:35:55.805 [main] WARN org.terrier.querying.ApplyTermPipeline - The index has no termpipelines configuration, and no control configuration is found. Defaulting to global termpipelines configuration of 'Stopwords,PorterStemmer'. Set a termpipelines control to remove this warning.\n",
      "12:35:56.081 [main] WARN org.terrier.querying.ApplyTermPipeline - The index has no termpipelines configuration, and no control configuration is found. Defaulting to global termpipelines configuration of 'Stopwords,PorterStemmer'. Set a termpipelines control to remove this warning.\n",
      "12:35:56.448 [main] WARN org.terrier.querying.ApplyTermPipeline - The index has no termpipelines configuration, and no control configuration is found. Defaulting to global termpipelines configuration of 'Stopwords,PorterStemmer'. Set a termpipelines control to remove this warning.\n",
      "12:35:57.388 [main] WARN org.terrier.querying.ApplyTermPipeline - The index has no termpipelines configuration, and no control configuration is found. Defaulting to global termpipelines configuration of 'Stopwords,PorterStemmer'. Set a termpipelines control to remove this warning.\n",
      "[2022-12-04 12:36:10,533][onir_pt][DEBUG] using GPU (deterministic)\n",
      "[2022-12-04 12:36:10,537][onir_pt][DEBUG] [starting] batches\n"
     ]
    },
    {
     "data": {
      "application/vnd.jupyter.widget-view+json": {
       "model_id": "",
       "version_major": 2,
       "version_minor": 0
      },
      "text/plain": [
       "batches:   0%|          | 0/105 [14ms<?, ?it/s]"
      ]
     },
     "metadata": {},
     "output_type": "display_data"
    },
    {
     "name": "stdout",
     "output_type": "stream",
     "text": [
      "[2022-12-04 12:36:17,407][onir_pt][DEBUG] [finished] batches: [6.87s] [105it] [15.29it/s]\n",
      "12:36:17.546 [main] WARN org.terrier.querying.ApplyTermPipeline - The index has no termpipelines configuration, and no control configuration is found. Defaulting to global termpipelines configuration of 'Stopwords,PorterStemmer'. Set a termpipelines control to remove this warning.\n",
      "12:36:17.827 [main] WARN org.terrier.querying.ApplyTermPipeline - The index has no termpipelines configuration, and no control configuration is found. Defaulting to global termpipelines configuration of 'Stopwords,PorterStemmer'. Set a termpipelines control to remove this warning.\n",
      "12:36:18.191 [main] WARN org.terrier.querying.ApplyTermPipeline - The index has no termpipelines configuration, and no control configuration is found. Defaulting to global termpipelines configuration of 'Stopwords,PorterStemmer'. Set a termpipelines control to remove this warning.\n",
      "12:36:19.179 [main] WARN org.terrier.querying.ApplyTermPipeline - The index has no termpipelines configuration, and no control configuration is found. Defaulting to global termpipelines configuration of 'Stopwords,PorterStemmer'. Set a termpipelines control to remove this warning.\n"
     ]
    },
    {
     "name": "stderr",
     "output_type": "stream",
     "text": [
      "[Parallel(n_jobs=2)]: Using backend ThreadingBackend with 2 concurrent workers.\n",
      "[Parallel(n_jobs=2)]: Done  46 tasks      | elapsed:    0.0s\n",
      "[Parallel(n_jobs=2)]: Done 196 tasks      | elapsed:    0.0s\n",
      "[Parallel(n_jobs=2)]: Done 400 out of 400 | elapsed:    0.1s finished\n"
     ]
    },
    {
     "name": "stdout",
     "output_type": "stream",
     "text": [
      "[2022-12-04 12:36:33,098][onir_pt][DEBUG] using GPU (deterministic)\n",
      "[2022-12-04 12:36:33,102][onir_pt][DEBUG] [starting] batches\n"
     ]
    },
    {
     "data": {
      "application/vnd.jupyter.widget-view+json": {
       "model_id": "",
       "version_major": 2,
       "version_minor": 0
      },
      "text/plain": [
       "batches:   0%|          | 0/105 [14ms<?, ?it/s]"
      ]
     },
     "metadata": {},
     "output_type": "display_data"
    },
    {
     "name": "stdout",
     "output_type": "stream",
     "text": [
      "[2022-12-04 12:36:39,967][onir_pt][DEBUG] [finished] batches: [6.86s] [105it] [15.30it/s]\n",
      "12:36:40.100 [main] WARN org.terrier.querying.ApplyTermPipeline - The index has no termpipelines configuration, and no control configuration is found. Defaulting to global termpipelines configuration of 'Stopwords,PorterStemmer'. Set a termpipelines control to remove this warning.\n",
      "12:36:40.378 [main] WARN org.terrier.querying.ApplyTermPipeline - The index has no termpipelines configuration, and no control configuration is found. Defaulting to global termpipelines configuration of 'Stopwords,PorterStemmer'. Set a termpipelines control to remove this warning.\n",
      "12:36:40.741 [main] WARN org.terrier.querying.ApplyTermPipeline - The index has no termpipelines configuration, and no control configuration is found. Defaulting to global termpipelines configuration of 'Stopwords,PorterStemmer'. Set a termpipelines control to remove this warning.\n",
      "12:36:41.733 [main] WARN org.terrier.querying.ApplyTermPipeline - The index has no termpipelines configuration, and no control configuration is found. Defaulting to global termpipelines configuration of 'Stopwords,PorterStemmer'. Set a termpipelines control to remove this warning.\n"
     ]
    },
    {
     "name": "stderr",
     "output_type": "stream",
     "text": [
      "/home/zihuiliu/.local/lib/python3.9/site-packages/lightgbm/sklearn.py:641: UserWarning: Found 'eval_at' in params. Will use it instead of 'eval_at' argument\n",
      "  _log_warning(f\"Found '{alias}' in params. Will use it instead of 'eval_at' argument\")\n",
      "/home/zihuiliu/.local/lib/python3.9/site-packages/lightgbm/sklearn.py:641: UserWarning: Found 'ndcg_eval_at' in params. Will use it instead of 'eval_at' argument\n",
      "  _log_warning(f\"Found '{alias}' in params. Will use it instead of 'eval_at' argument\")\n",
      "/home/zihuiliu/.local/lib/python3.9/site-packages/lightgbm/sklearn.py:641: UserWarning: Found 'ndcg_at' in params. Will use it instead of 'eval_at' argument\n",
      "  _log_warning(f\"Found '{alias}' in params. Will use it instead of 'eval_at' argument\")\n"
     ]
    },
    {
     "name": "stdout",
     "output_type": "stream",
     "text": [
      "[LightGBM] [Warning] Unknown parameter: silent\n",
      "[LightGBM] [Warning] min_data_in_leaf is set=1, min_child_samples=20 will be ignored. Current value: min_data_in_leaf=1\n",
      "[LightGBM] [Warning] min_sum_hessian_in_leaf is set=1, min_child_weight=0.001 will be ignored. Current value: min_sum_hessian_in_leaf=1\n",
      "[2022-12-04 12:36:55,028][onir_pt][DEBUG] using GPU (deterministic)\n",
      "[2022-12-04 12:36:55,031][onir_pt][DEBUG] [starting] batches\n"
     ]
    },
    {
     "data": {
      "application/vnd.jupyter.widget-view+json": {
       "model_id": "",
       "version_major": 2,
       "version_minor": 0
      },
      "text/plain": [
       "batches:   0%|          | 0/105 [15ms<?, ?it/s]"
      ]
     },
     "metadata": {},
     "output_type": "display_data"
    },
    {
     "name": "stdout",
     "output_type": "stream",
     "text": [
      "[2022-12-04 12:36:55,243][onir_pt][DEBUG] [finished] batches: [210ms] [105it] [498.97it/s]\n",
      "12:36:55.376 [main] WARN org.terrier.querying.ApplyTermPipeline - The index has no termpipelines configuration, and no control configuration is found. Defaulting to global termpipelines configuration of 'Stopwords,PorterStemmer'. Set a termpipelines control to remove this warning.\n",
      "12:36:55.665 [main] WARN org.terrier.querying.ApplyTermPipeline - The index has no termpipelines configuration, and no control configuration is found. Defaulting to global termpipelines configuration of 'Stopwords,PorterStemmer'. Set a termpipelines control to remove this warning.\n",
      "12:36:56.026 [main] WARN org.terrier.querying.ApplyTermPipeline - The index has no termpipelines configuration, and no control configuration is found. Defaulting to global termpipelines configuration of 'Stopwords,PorterStemmer'. Set a termpipelines control to remove this warning.\n",
      "12:36:57.014 [main] WARN org.terrier.querying.ApplyTermPipeline - The index has no termpipelines configuration, and no control configuration is found. Defaulting to global termpipelines configuration of 'Stopwords,PorterStemmer'. Set a termpipelines control to remove this warning.\n",
      "[2022-12-04 12:37:10,241][onir_pt][DEBUG] using GPU (deterministic)\n",
      "[2022-12-04 12:37:10,243][onir_pt][DEBUG] [starting] batches\n"
     ]
    },
    {
     "data": {
      "application/vnd.jupyter.widget-view+json": {
       "model_id": "",
       "version_major": 2,
       "version_minor": 0
      },
      "text/plain": [
       "batches:   0%|          | 0/105 [14ms<?, ?it/s]"
      ]
     },
     "metadata": {},
     "output_type": "display_data"
    },
    {
     "name": "stdout",
     "output_type": "stream",
     "text": [
      "[2022-12-04 12:37:10,442][onir_pt][DEBUG] [finished] batches: [199ms] [105it] [528.79it/s]\n",
      "12:37:10.576 [main] WARN org.terrier.querying.ApplyTermPipeline - The index has no termpipelines configuration, and no control configuration is found. Defaulting to global termpipelines configuration of 'Stopwords,PorterStemmer'. Set a termpipelines control to remove this warning.\n",
      "12:37:10.869 [main] WARN org.terrier.querying.ApplyTermPipeline - The index has no termpipelines configuration, and no control configuration is found. Defaulting to global termpipelines configuration of 'Stopwords,PorterStemmer'. Set a termpipelines control to remove this warning.\n",
      "12:37:11.231 [main] WARN org.terrier.querying.ApplyTermPipeline - The index has no termpipelines configuration, and no control configuration is found. Defaulting to global termpipelines configuration of 'Stopwords,PorterStemmer'. Set a termpipelines control to remove this warning.\n",
      "12:37:12.215 [main] WARN org.terrier.querying.ApplyTermPipeline - The index has no termpipelines configuration, and no control configuration is found. Defaulting to global termpipelines configuration of 'Stopwords,PorterStemmer'. Set a termpipelines control to remove this warning.\n"
     ]
    },
    {
     "name": "stderr",
     "output_type": "stream",
     "text": [
      "[Parallel(n_jobs=2)]: Using backend ThreadingBackend with 2 concurrent workers.\n",
      "[Parallel(n_jobs=2)]: Done  46 tasks      | elapsed:    0.0s\n",
      "[Parallel(n_jobs=2)]: Done 196 tasks      | elapsed:    0.0s\n",
      "[Parallel(n_jobs=2)]: Done 400 out of 400 | elapsed:    0.1s finished\n"
     ]
    },
    {
     "name": "stdout",
     "output_type": "stream",
     "text": [
      "[2022-12-04 12:37:25,586][onir_pt][DEBUG] using GPU (deterministic)\n",
      "[2022-12-04 12:37:25,587][onir_pt][DEBUG] [starting] batches\n"
     ]
    },
    {
     "data": {
      "application/vnd.jupyter.widget-view+json": {
       "model_id": "",
       "version_major": 2,
       "version_minor": 0
      },
      "text/plain": [
       "batches:   0%|          | 0/105 [14ms<?, ?it/s]"
      ]
     },
     "metadata": {},
     "output_type": "display_data"
    },
    {
     "name": "stdout",
     "output_type": "stream",
     "text": [
      "[2022-12-04 12:37:25,787][onir_pt][DEBUG] [finished] batches: [198ms] [105it] [529.31it/s]\n",
      "12:37:25.923 [main] WARN org.terrier.querying.ApplyTermPipeline - The index has no termpipelines configuration, and no control configuration is found. Defaulting to global termpipelines configuration of 'Stopwords,PorterStemmer'. Set a termpipelines control to remove this warning.\n",
      "12:37:26.205 [main] WARN org.terrier.querying.ApplyTermPipeline - The index has no termpipelines configuration, and no control configuration is found. Defaulting to global termpipelines configuration of 'Stopwords,PorterStemmer'. Set a termpipelines control to remove this warning.\n",
      "12:37:26.565 [main] WARN org.terrier.querying.ApplyTermPipeline - The index has no termpipelines configuration, and no control configuration is found. Defaulting to global termpipelines configuration of 'Stopwords,PorterStemmer'. Set a termpipelines control to remove this warning.\n",
      "12:37:27.549 [main] WARN org.terrier.querying.ApplyTermPipeline - The index has no termpipelines configuration, and no control configuration is found. Defaulting to global termpipelines configuration of 'Stopwords,PorterStemmer'. Set a termpipelines control to remove this warning.\n"
     ]
    },
    {
     "name": "stderr",
     "output_type": "stream",
     "text": [
      "/home/zihuiliu/.local/lib/python3.9/site-packages/lightgbm/sklearn.py:641: UserWarning: Found 'eval_at' in params. Will use it instead of 'eval_at' argument\n",
      "  _log_warning(f\"Found '{alias}' in params. Will use it instead of 'eval_at' argument\")\n",
      "/home/zihuiliu/.local/lib/python3.9/site-packages/lightgbm/sklearn.py:641: UserWarning: Found 'ndcg_eval_at' in params. Will use it instead of 'eval_at' argument\n",
      "  _log_warning(f\"Found '{alias}' in params. Will use it instead of 'eval_at' argument\")\n",
      "/home/zihuiliu/.local/lib/python3.9/site-packages/lightgbm/sklearn.py:641: UserWarning: Found 'ndcg_at' in params. Will use it instead of 'eval_at' argument\n",
      "  _log_warning(f\"Found '{alias}' in params. Will use it instead of 'eval_at' argument\")\n"
     ]
    },
    {
     "name": "stdout",
     "output_type": "stream",
     "text": [
      "[LightGBM] [Warning] Unknown parameter: silent\n",
      "[LightGBM] [Warning] min_data_in_leaf is set=1, min_child_samples=20 will be ignored. Current value: min_data_in_leaf=1\n",
      "[LightGBM] [Warning] min_sum_hessian_in_leaf is set=1, min_child_weight=0.001 will be ignored. Current value: min_sum_hessian_in_leaf=1\n",
      "[2022-12-04 12:37:40,786][onir_pt][DEBUG] using GPU (deterministic)\n",
      "[2022-12-04 12:37:40,791][onir_pt][DEBUG] [starting] batches\n"
     ]
    },
    {
     "data": {
      "application/vnd.jupyter.widget-view+json": {
       "model_id": "",
       "version_major": 2,
       "version_minor": 0
      },
      "text/plain": [
       "batches:   0%|          | 0/105 [14ms<?, ?it/s]"
      ]
     },
     "metadata": {},
     "output_type": "display_data"
    },
    {
     "name": "stdout",
     "output_type": "stream",
     "text": [
      "[2022-12-04 12:37:47,670][onir_pt][DEBUG] [finished] batches: [6.88s] [105it] [15.27it/s]\n",
      "12:37:47.803 [main] WARN org.terrier.querying.ApplyTermPipeline - The index has no termpipelines configuration, and no control configuration is found. Defaulting to global termpipelines configuration of 'Stopwords,PorterStemmer'. Set a termpipelines control to remove this warning.\n",
      "12:37:48.094 [main] WARN org.terrier.querying.ApplyTermPipeline - The index has no termpipelines configuration, and no control configuration is found. Defaulting to global termpipelines configuration of 'Stopwords,PorterStemmer'. Set a termpipelines control to remove this warning.\n",
      "12:37:48.456 [main] WARN org.terrier.querying.ApplyTermPipeline - The index has no termpipelines configuration, and no control configuration is found. Defaulting to global termpipelines configuration of 'Stopwords,PorterStemmer'. Set a termpipelines control to remove this warning.\n",
      "12:37:49.439 [main] WARN org.terrier.querying.ApplyTermPipeline - The index has no termpipelines configuration, and no control configuration is found. Defaulting to global termpipelines configuration of 'Stopwords,PorterStemmer'. Set a termpipelines control to remove this warning.\n",
      "[2022-12-04 12:38:02,678][onir_pt][DEBUG] using GPU (deterministic)\n",
      "[2022-12-04 12:38:02,682][onir_pt][DEBUG] [starting] batches\n"
     ]
    },
    {
     "data": {
      "application/vnd.jupyter.widget-view+json": {
       "model_id": "",
       "version_major": 2,
       "version_minor": 0
      },
      "text/plain": [
       "batches:   0%|          | 0/105 [14ms<?, ?it/s]"
      ]
     },
     "metadata": {},
     "output_type": "display_data"
    },
    {
     "name": "stdout",
     "output_type": "stream",
     "text": [
      "[2022-12-04 12:38:09,549][onir_pt][DEBUG] [finished] batches: [6.87s] [105it] [15.29it/s]\n",
      "12:38:09.682 [main] WARN org.terrier.querying.ApplyTermPipeline - The index has no termpipelines configuration, and no control configuration is found. Defaulting to global termpipelines configuration of 'Stopwords,PorterStemmer'. Set a termpipelines control to remove this warning.\n",
      "12:38:09.965 [main] WARN org.terrier.querying.ApplyTermPipeline - The index has no termpipelines configuration, and no control configuration is found. Defaulting to global termpipelines configuration of 'Stopwords,PorterStemmer'. Set a termpipelines control to remove this warning.\n",
      "12:38:10.326 [main] WARN org.terrier.querying.ApplyTermPipeline - The index has no termpipelines configuration, and no control configuration is found. Defaulting to global termpipelines configuration of 'Stopwords,PorterStemmer'. Set a termpipelines control to remove this warning.\n",
      "12:38:11.312 [main] WARN org.terrier.querying.ApplyTermPipeline - The index has no termpipelines configuration, and no control configuration is found. Defaulting to global termpipelines configuration of 'Stopwords,PorterStemmer'. Set a termpipelines control to remove this warning.\n"
     ]
    },
    {
     "name": "stderr",
     "output_type": "stream",
     "text": [
      "[Parallel(n_jobs=2)]: Using backend ThreadingBackend with 2 concurrent workers.\n",
      "[Parallel(n_jobs=2)]: Done  46 tasks      | elapsed:    0.0s\n",
      "[Parallel(n_jobs=2)]: Done 196 tasks      | elapsed:    0.0s\n",
      "[Parallel(n_jobs=2)]: Done 400 out of 400 | elapsed:    0.1s finished\n"
     ]
    },
    {
     "name": "stdout",
     "output_type": "stream",
     "text": [
      "[2022-12-04 12:38:24,839][onir_pt][DEBUG] using GPU (deterministic)\n",
      "[2022-12-04 12:38:24,843][onir_pt][DEBUG] [starting] batches\n"
     ]
    },
    {
     "data": {
      "application/vnd.jupyter.widget-view+json": {
       "model_id": "",
       "version_major": 2,
       "version_minor": 0
      },
      "text/plain": [
       "batches:   0%|          | 0/105 [14ms<?, ?it/s]"
      ]
     },
     "metadata": {},
     "output_type": "display_data"
    },
    {
     "name": "stdout",
     "output_type": "stream",
     "text": [
      "[2022-12-04 12:38:31,711][onir_pt][DEBUG] [finished] batches: [6.87s] [105it] [15.29it/s]\n",
      "12:38:31.847 [main] WARN org.terrier.querying.ApplyTermPipeline - The index has no termpipelines configuration, and no control configuration is found. Defaulting to global termpipelines configuration of 'Stopwords,PorterStemmer'. Set a termpipelines control to remove this warning.\n",
      "12:38:32.173 [main] WARN org.terrier.querying.ApplyTermPipeline - The index has no termpipelines configuration, and no control configuration is found. Defaulting to global termpipelines configuration of 'Stopwords,PorterStemmer'. Set a termpipelines control to remove this warning.\n",
      "12:38:32.604 [main] WARN org.terrier.querying.ApplyTermPipeline - The index has no termpipelines configuration, and no control configuration is found. Defaulting to global termpipelines configuration of 'Stopwords,PorterStemmer'. Set a termpipelines control to remove this warning.\n",
      "12:38:33.799 [main] WARN org.terrier.querying.ApplyTermPipeline - The index has no termpipelines configuration, and no control configuration is found. Defaulting to global termpipelines configuration of 'Stopwords,PorterStemmer'. Set a termpipelines control to remove this warning.\n"
     ]
    },
    {
     "name": "stderr",
     "output_type": "stream",
     "text": [
      "/home/zihuiliu/.local/lib/python3.9/site-packages/lightgbm/sklearn.py:641: UserWarning: Found 'eval_at' in params. Will use it instead of 'eval_at' argument\n",
      "  _log_warning(f\"Found '{alias}' in params. Will use it instead of 'eval_at' argument\")\n",
      "/home/zihuiliu/.local/lib/python3.9/site-packages/lightgbm/sklearn.py:641: UserWarning: Found 'ndcg_eval_at' in params. Will use it instead of 'eval_at' argument\n",
      "  _log_warning(f\"Found '{alias}' in params. Will use it instead of 'eval_at' argument\")\n",
      "/home/zihuiliu/.local/lib/python3.9/site-packages/lightgbm/sklearn.py:641: UserWarning: Found 'ndcg_at' in params. Will use it instead of 'eval_at' argument\n",
      "  _log_warning(f\"Found '{alias}' in params. Will use it instead of 'eval_at' argument\")\n"
     ]
    },
    {
     "name": "stdout",
     "output_type": "stream",
     "text": [
      "[LightGBM] [Warning] Unknown parameter: silent\n",
      "[LightGBM] [Warning] min_data_in_leaf is set=1, min_child_samples=20 will be ignored. Current value: min_data_in_leaf=1\n",
      "[LightGBM] [Warning] min_sum_hessian_in_leaf is set=1, min_child_weight=0.001 will be ignored. Current value: min_sum_hessian_in_leaf=1\n"
     ]
    },
    {
     "data": {
      "text/html": [
       "<div>\n",
       "<style scoped>\n",
       "    .dataframe tbody tr th:only-of-type {\n",
       "        vertical-align: middle;\n",
       "    }\n",
       "\n",
       "    .dataframe tbody tr th {\n",
       "        vertical-align: top;\n",
       "    }\n",
       "\n",
       "    .dataframe thead th {\n",
       "        text-align: right;\n",
       "    }\n",
       "</style>\n",
       "<table border=\"1\" class=\"dataframe\">\n",
       "  <thead>\n",
       "    <tr style=\"text-align: right;\">\n",
       "      <th></th>\n",
       "      <th>name</th>\n",
       "      <th>map</th>\n",
       "      <th>ndcg</th>\n",
       "      <th>nDCG@5</th>\n",
       "      <th>nDCG@10</th>\n",
       "      <th>nDCG@15</th>\n",
       "      <th>nDCG@20</th>\n",
       "      <th>P.10</th>\n",
       "      <th>R@15</th>\n",
       "      <th>mrt</th>\n",
       "    </tr>\n",
       "  </thead>\n",
       "  <tbody>\n",
       "    <tr>\n",
       "      <th>0</th>\n",
       "      <td>BM25</td>\n",
       "      <td>0.630514</td>\n",
       "      <td>0.786125</td>\n",
       "      <td>0.559727</td>\n",
       "      <td>0.502798</td>\n",
       "      <td>0.492524</td>\n",
       "      <td>0.488709</td>\n",
       "      <td>0.650</td>\n",
       "      <td>0.114582</td>\n",
       "      <td>573.187855</td>\n",
       "    </tr>\n",
       "    <tr>\n",
       "      <th>1</th>\n",
       "      <td>BM25_150</td>\n",
       "      <td>0.612363</td>\n",
       "      <td>0.763037</td>\n",
       "      <td>0.559727</td>\n",
       "      <td>0.502798</td>\n",
       "      <td>0.492524</td>\n",
       "      <td>0.488709</td>\n",
       "      <td>0.650</td>\n",
       "      <td>0.114582</td>\n",
       "      <td>586.710736</td>\n",
       "    </tr>\n",
       "    <tr>\n",
       "      <th>2</th>\n",
       "      <td>Naive</td>\n",
       "      <td>0.290598</td>\n",
       "      <td>0.634915</td>\n",
       "      <td>0.366448</td>\n",
       "      <td>0.365083</td>\n",
       "      <td>0.343204</td>\n",
       "      <td>0.347207</td>\n",
       "      <td>0.595</td>\n",
       "      <td>0.093023</td>\n",
       "      <td>794.519753</td>\n",
       "    </tr>\n",
       "    <tr>\n",
       "      <th>3</th>\n",
       "      <td>TF_IDF</td>\n",
       "      <td>0.625334</td>\n",
       "      <td>0.783971</td>\n",
       "      <td>0.564368</td>\n",
       "      <td>0.504252</td>\n",
       "      <td>0.491442</td>\n",
       "      <td>0.483209</td>\n",
       "      <td>0.655</td>\n",
       "      <td>0.114529</td>\n",
       "      <td>571.334385</td>\n",
       "    </tr>\n",
       "    <tr>\n",
       "      <th>4</th>\n",
       "      <td>CA1</td>\n",
       "      <td>0.124343</td>\n",
       "      <td>0.269528</td>\n",
       "      <td>0.583988</td>\n",
       "      <td>0.537258</td>\n",
       "      <td>0.515978</td>\n",
       "      <td>0.499570</td>\n",
       "      <td>0.705</td>\n",
       "      <td>0.120669</td>\n",
       "      <td>743.509573</td>\n",
       "    </tr>\n",
       "    <tr>\n",
       "      <th>5</th>\n",
       "      <td>RF1</td>\n",
       "      <td>0.152897</td>\n",
       "      <td>0.316017</td>\n",
       "      <td>0.880265</td>\n",
       "      <td>0.753859</td>\n",
       "      <td>0.657598</td>\n",
       "      <td>0.580620</td>\n",
       "      <td>0.915</td>\n",
       "      <td>0.141828</td>\n",
       "      <td>733.367556</td>\n",
       "    </tr>\n",
       "    <tr>\n",
       "      <th>6</th>\n",
       "      <td>lmart1</td>\n",
       "      <td>0.134632</td>\n",
       "      <td>0.294168</td>\n",
       "      <td>0.725522</td>\n",
       "      <td>0.626724</td>\n",
       "      <td>0.581476</td>\n",
       "      <td>0.541382</td>\n",
       "      <td>0.755</td>\n",
       "      <td>0.125561</td>\n",
       "      <td>745.892296</td>\n",
       "    </tr>\n",
       "    <tr>\n",
       "      <th>7</th>\n",
       "      <td>CA_knrm</td>\n",
       "      <td>0.120561</td>\n",
       "      <td>0.259516</td>\n",
       "      <td>0.513998</td>\n",
       "      <td>0.481874</td>\n",
       "      <td>0.484615</td>\n",
       "      <td>0.479041</td>\n",
       "      <td>0.650</td>\n",
       "      <td>0.120071</td>\n",
       "      <td>721.604176</td>\n",
       "    </tr>\n",
       "    <tr>\n",
       "      <th>8</th>\n",
       "      <td>RF_knrm</td>\n",
       "      <td>0.148474</td>\n",
       "      <td>0.309590</td>\n",
       "      <td>0.836663</td>\n",
       "      <td>0.723411</td>\n",
       "      <td>0.642577</td>\n",
       "      <td>0.569945</td>\n",
       "      <td>0.875</td>\n",
       "      <td>0.138833</td>\n",
       "      <td>724.483115</td>\n",
       "    </tr>\n",
       "    <tr>\n",
       "      <th>9</th>\n",
       "      <td>lmart_knrm</td>\n",
       "      <td>0.128692</td>\n",
       "      <td>0.283975</td>\n",
       "      <td>0.675279</td>\n",
       "      <td>0.583696</td>\n",
       "      <td>0.552331</td>\n",
       "      <td>0.523880</td>\n",
       "      <td>0.690</td>\n",
       "      <td>0.123577</td>\n",
       "      <td>734.718324</td>\n",
       "    </tr>\n",
       "    <tr>\n",
       "      <th>10</th>\n",
       "      <td>CA_bert</td>\n",
       "      <td>0.120649</td>\n",
       "      <td>0.262330</td>\n",
       "      <td>0.528438</td>\n",
       "      <td>0.495681</td>\n",
       "      <td>0.499025</td>\n",
       "      <td>0.484660</td>\n",
       "      <td>0.665</td>\n",
       "      <td>0.122335</td>\n",
       "      <td>1036.628272</td>\n",
       "    </tr>\n",
       "    <tr>\n",
       "      <th>11</th>\n",
       "      <td>RF_bert</td>\n",
       "      <td>0.114762</td>\n",
       "      <td>0.251106</td>\n",
       "      <td>0.476613</td>\n",
       "      <td>0.452866</td>\n",
       "      <td>0.469811</td>\n",
       "      <td>0.469027</td>\n",
       "      <td>0.625</td>\n",
       "      <td>0.118192</td>\n",
       "      <td>1046.583657</td>\n",
       "    </tr>\n",
       "    <tr>\n",
       "      <th>12</th>\n",
       "      <td>lmart_bert</td>\n",
       "      <td>0.112537</td>\n",
       "      <td>0.236146</td>\n",
       "      <td>0.382289</td>\n",
       "      <td>0.409136</td>\n",
       "      <td>0.432272</td>\n",
       "      <td>0.441389</td>\n",
       "      <td>0.635</td>\n",
       "      <td>0.118895</td>\n",
       "      <td>1065.793641</td>\n",
       "    </tr>\n",
       "    <tr>\n",
       "      <th>13</th>\n",
       "      <td>CA_knrm_revised</td>\n",
       "      <td>0.128894</td>\n",
       "      <td>0.270434</td>\n",
       "      <td>0.598067</td>\n",
       "      <td>0.531752</td>\n",
       "      <td>0.507413</td>\n",
       "      <td>0.497502</td>\n",
       "      <td>0.715</td>\n",
       "      <td>0.124648</td>\n",
       "      <td>725.750689</td>\n",
       "    </tr>\n",
       "    <tr>\n",
       "      <th>14</th>\n",
       "      <td>RF_knrm_revised</td>\n",
       "      <td>0.128647</td>\n",
       "      <td>0.278614</td>\n",
       "      <td>0.632884</td>\n",
       "      <td>0.583876</td>\n",
       "      <td>0.544337</td>\n",
       "      <td>0.515268</td>\n",
       "      <td>0.720</td>\n",
       "      <td>0.123635</td>\n",
       "      <td>730.194119</td>\n",
       "    </tr>\n",
       "    <tr>\n",
       "      <th>15</th>\n",
       "      <td>lmart_knrm_revised</td>\n",
       "      <td>0.120272</td>\n",
       "      <td>0.260250</td>\n",
       "      <td>0.544888</td>\n",
       "      <td>0.485310</td>\n",
       "      <td>0.485708</td>\n",
       "      <td>0.482056</td>\n",
       "      <td>0.640</td>\n",
       "      <td>0.116219</td>\n",
       "      <td>723.241885</td>\n",
       "    </tr>\n",
       "    <tr>\n",
       "      <th>16</th>\n",
       "      <td>CA_bert_revised</td>\n",
       "      <td>0.127272</td>\n",
       "      <td>0.270276</td>\n",
       "      <td>0.590061</td>\n",
       "      <td>0.538917</td>\n",
       "      <td>0.508403</td>\n",
       "      <td>0.497900</td>\n",
       "      <td>0.715</td>\n",
       "      <td>0.123192</td>\n",
       "      <td>1041.339214</td>\n",
       "    </tr>\n",
       "    <tr>\n",
       "      <th>17</th>\n",
       "      <td>RF_bert_revised</td>\n",
       "      <td>0.151734</td>\n",
       "      <td>0.313459</td>\n",
       "      <td>0.859799</td>\n",
       "      <td>0.732533</td>\n",
       "      <td>0.653086</td>\n",
       "      <td>0.576057</td>\n",
       "      <td>0.880</td>\n",
       "      <td>0.142617</td>\n",
       "      <td>1048.593448</td>\n",
       "    </tr>\n",
       "    <tr>\n",
       "      <th>18</th>\n",
       "      <td>lmart_bert_revised</td>\n",
       "      <td>0.128569</td>\n",
       "      <td>0.270353</td>\n",
       "      <td>0.572027</td>\n",
       "      <td>0.550858</td>\n",
       "      <td>0.526581</td>\n",
       "      <td>0.497940</td>\n",
       "      <td>0.745</td>\n",
       "      <td>0.125927</td>\n",
       "      <td>1063.235118</td>\n",
       "    </tr>\n",
       "  </tbody>\n",
       "</table>\n",
       "</div>"
      ],
      "text/plain": [
       "                  name       map      ndcg    nDCG@5   nDCG@10   nDCG@15  \\\n",
       "0                 BM25  0.630514  0.786125  0.559727  0.502798  0.492524   \n",
       "1             BM25_150  0.612363  0.763037  0.559727  0.502798  0.492524   \n",
       "2                Naive  0.290598  0.634915  0.366448  0.365083  0.343204   \n",
       "3               TF_IDF  0.625334  0.783971  0.564368  0.504252  0.491442   \n",
       "4                  CA1  0.124343  0.269528  0.583988  0.537258  0.515978   \n",
       "5                  RF1  0.152897  0.316017  0.880265  0.753859  0.657598   \n",
       "6               lmart1  0.134632  0.294168  0.725522  0.626724  0.581476   \n",
       "7              CA_knrm  0.120561  0.259516  0.513998  0.481874  0.484615   \n",
       "8              RF_knrm  0.148474  0.309590  0.836663  0.723411  0.642577   \n",
       "9           lmart_knrm  0.128692  0.283975  0.675279  0.583696  0.552331   \n",
       "10             CA_bert  0.120649  0.262330  0.528438  0.495681  0.499025   \n",
       "11             RF_bert  0.114762  0.251106  0.476613  0.452866  0.469811   \n",
       "12          lmart_bert  0.112537  0.236146  0.382289  0.409136  0.432272   \n",
       "13     CA_knrm_revised  0.128894  0.270434  0.598067  0.531752  0.507413   \n",
       "14     RF_knrm_revised  0.128647  0.278614  0.632884  0.583876  0.544337   \n",
       "15  lmart_knrm_revised  0.120272  0.260250  0.544888  0.485310  0.485708   \n",
       "16     CA_bert_revised  0.127272  0.270276  0.590061  0.538917  0.508403   \n",
       "17     RF_bert_revised  0.151734  0.313459  0.859799  0.732533  0.653086   \n",
       "18  lmart_bert_revised  0.128569  0.270353  0.572027  0.550858  0.526581   \n",
       "\n",
       "     nDCG@20   P.10      R@15          mrt  \n",
       "0   0.488709  0.650  0.114582   573.187855  \n",
       "1   0.488709  0.650  0.114582   586.710736  \n",
       "2   0.347207  0.595  0.093023   794.519753  \n",
       "3   0.483209  0.655  0.114529   571.334385  \n",
       "4   0.499570  0.705  0.120669   743.509573  \n",
       "5   0.580620  0.915  0.141828   733.367556  \n",
       "6   0.541382  0.755  0.125561   745.892296  \n",
       "7   0.479041  0.650  0.120071   721.604176  \n",
       "8   0.569945  0.875  0.138833   724.483115  \n",
       "9   0.523880  0.690  0.123577   734.718324  \n",
       "10  0.484660  0.665  0.122335  1036.628272  \n",
       "11  0.469027  0.625  0.118192  1046.583657  \n",
       "12  0.441389  0.635  0.118895  1065.793641  \n",
       "13  0.497502  0.715  0.124648   725.750689  \n",
       "14  0.515268  0.720  0.123635   730.194119  \n",
       "15  0.482056  0.640  0.116219   723.241885  \n",
       "16  0.497900  0.715  0.123192  1041.339214  \n",
       "17  0.576057  0.880  0.142617  1048.593448  \n",
       "18  0.497940  0.745  0.125927  1063.235118  "
      ]
     },
     "execution_count": 51,
     "metadata": {},
     "output_type": "execute_result"
    }
   ],
   "source": [
    "from pyterrier.measures import *\n",
    "\n",
    "# training set\n",
    "pt.Experiment(\n",
    "    [bm25,bm25_150,random_model,tf_idf,ca_pipe1,rf_pipe1,lmart_x_pipe1,ca_pipe2,rf_pipe2,lmart_x_pipe2,ca_pipe3,rf_pipe3,lmart_x_pipe3,\n",
    "     ca_pipe4,rf_pipe4,lmart_x_pipe4,ca_pipe5,rf_pipe5,lmart_x_pipe5],\n",
    "    df_query_train,\n",
    "    df_label_train,\n",
    "    names=[\"BM25\",\"BM25_150\",\"Naive\",\"TF_IDF\",\"CA1\",\"RF1\",\"lmart1\",\"CA_knrm\",\"RF_knrm\",\"lmart_knrm\",\"CA_bert\",\"RF_bert\",\"lmart_bert\",\n",
    "              \"CA_knrm_revised\",\"RF_knrm_revised\",\"lmart_knrm_revised\",\"CA_bert_revised\",\"RF_bert_revised\",\"lmart_bert_revised\"], \n",
    "    eval_metrics=[\"map\", \"ndcg\",nDCG@5,nDCG@10,nDCG@15,nDCG@20,'P.10','mrt',Recall@15])\n",
    "# ,\"RF1\",\"LMart1\" rf_pipe1,lmart_x_pipe1"
   ]
  },
  {
   "cell_type": "markdown",
   "id": "07c6b044",
   "metadata": {},
   "source": []
  }
 ],
 "metadata": {
  "kernelspec": {
   "display_name": "Python 3 (ipykernel)",
   "language": "python",
   "name": "python3"
  },
  "language_info": {
   "codemirror_mode": {
    "name": "ipython",
    "version": 3
   },
   "file_extension": ".py",
   "mimetype": "text/x-python",
   "name": "python",
   "nbconvert_exporter": "python",
   "pygments_lexer": "ipython3",
   "version": "3.9.7"
  }
 },
 "nbformat": 4,
 "nbformat_minor": 5
}
