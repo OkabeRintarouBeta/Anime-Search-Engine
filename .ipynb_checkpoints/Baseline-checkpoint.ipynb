{
 "cells": [
  {
   "cell_type": "code",
   "execution_count": 1,
   "id": "3987a172",
   "metadata": {},
   "outputs": [
    {
     "data": {
      "text/plain": [
       "uname_result(system='Darwin', node='kis-MacBook-Pro.local', release='20.6.0', version='Darwin Kernel Version 20.6.0: Wed Jun 23 00:26:27 PDT 2021; root:xnu-7195.141.2~5/RELEASE_ARM64_T8101', machine='arm64')"
      ]
     },
     "execution_count": 1,
     "metadata": {},
     "output_type": "execute_result"
    }
   ],
   "source": [
    "import pandas as pd\n",
    "# Helpful for showing indexing information\n",
    "pd.set_option('display.max_colwidth', 150)\n",
    "\n",
    "\n",
    "import os\n",
    "import pyterrier as pt\n",
    "\n",
    "import platform\n",
    "platform.uname()"
   ]
  },
  {
   "cell_type": "code",
   "execution_count": 2,
   "id": "43ae8260",
   "metadata": {},
   "outputs": [
    {
     "name": "stdout",
     "output_type": "stream",
     "text": [
      "WARNING: Not able to assign machine() = arm64 to a cpu value!\n",
      "         Using cpu = 'i386' instead!\n"
     ]
    },
    {
     "name": "stderr",
     "output_type": "stream",
     "text": [
      "PyTerrier 0.8.1 has loaded Terrier 5.6 (built by craigmacdonald on 2021-09-17 13:27)\n",
      "\n",
      "No etc/terrier.properties, using terrier.default.properties for bootstrap configuration.\n"
     ]
    }
   ],
   "source": [
    "if not pt.started():\n",
    "    pt.init()"
   ]
  },
  {
   "cell_type": "code",
   "execution_count": 3,
   "id": "c09a3cdb",
   "metadata": {},
   "outputs": [
    {
     "data": {
      "text/html": [
       "<div>\n",
       "<style scoped>\n",
       "    .dataframe tbody tr th:only-of-type {\n",
       "        vertical-align: middle;\n",
       "    }\n",
       "\n",
       "    .dataframe tbody tr th {\n",
       "        vertical-align: top;\n",
       "    }\n",
       "\n",
       "    .dataframe thead th {\n",
       "        text-align: right;\n",
       "    }\n",
       "</style>\n",
       "<table border=\"1\" class=\"dataframe\">\n",
       "  <thead>\n",
       "    <tr style=\"text-align: right;\">\n",
       "      <th></th>\n",
       "      <th>docno</th>\n",
       "      <th>title</th>\n",
       "      <th>synopsis</th>\n",
       "      <th>genre</th>\n",
       "      <th>aired</th>\n",
       "      <th>episodes</th>\n",
       "      <th>members</th>\n",
       "      <th>popularity</th>\n",
       "      <th>ranked</th>\n",
       "      <th>score</th>\n",
       "      <th>img_url</th>\n",
       "      <th>link</th>\n",
       "      <th>wiki_link</th>\n",
       "      <th>anime_name</th>\n",
       "      <th>wiki_intro</th>\n",
       "    </tr>\n",
       "  </thead>\n",
       "  <tbody>\n",
       "    <tr>\n",
       "      <th>0</th>\n",
       "      <td>28891</td>\n",
       "      <td>Haikyuu!! Second Season</td>\n",
       "      <td>Following their participation at the Inter-High, the Karasuno High School volleyball team attempts to refocus their efforts, aiming to conquer the...</td>\n",
       "      <td>['Comedy', 'Sports', 'Drama', 'School', 'Shounen']</td>\n",
       "      <td>Oct 4, 2015 to Mar 27, 2016</td>\n",
       "      <td>25.0</td>\n",
       "      <td>489888</td>\n",
       "      <td>141</td>\n",
       "      <td>25.0</td>\n",
       "      <td>8.82</td>\n",
       "      <td>https://cdn.myanimelist.net/images/anime/9/76662.jpg</td>\n",
       "      <td>https://myanimelist.net/anime/28891/Haikyuu_Second_Season</td>\n",
       "      <td>http://en.wikipedia.org/wiki/Haiky%C5%AB!!</td>\n",
       "      <td>Haikyū!!</td>\n",
       "      <td>Junior high school student, Shoyo Hinata, becomes obsessed with volleyball after catching a glimpse of Karasuno High School playing in Nationals o...</td>\n",
       "    </tr>\n",
       "  </tbody>\n",
       "</table>\n",
       "</div>"
      ],
      "text/plain": [
       "   docno                    title  \\\n",
       "0  28891  Haikyuu!! Second Season   \n",
       "\n",
       "                                                                                                                                                synopsis  \\\n",
       "0  Following their participation at the Inter-High, the Karasuno High School volleyball team attempts to refocus their efforts, aiming to conquer the...   \n",
       "\n",
       "                                                genre  \\\n",
       "0  ['Comedy', 'Sports', 'Drama', 'School', 'Shounen']   \n",
       "\n",
       "                         aired  episodes  members  popularity  ranked  score  \\\n",
       "0  Oct 4, 2015 to Mar 27, 2016      25.0   489888         141    25.0   8.82   \n",
       "\n",
       "                                                img_url  \\\n",
       "0  https://cdn.myanimelist.net/images/anime/9/76662.jpg   \n",
       "\n",
       "                                                        link  \\\n",
       "0  https://myanimelist.net/anime/28891/Haikyuu_Second_Season   \n",
       "\n",
       "                                    wiki_link anime_name  \\\n",
       "0  http://en.wikipedia.org/wiki/Haiky%C5%AB!!   Haikyū!!   \n",
       "\n",
       "                                                                                                                                              wiki_intro  \n",
       "0  Junior high school student, Shoyo Hinata, becomes obsessed with volleyball after catching a glimpse of Karasuno High School playing in Nationals o...  "
      ]
     },
     "execution_count": 3,
     "metadata": {},
     "output_type": "execute_result"
    }
   ],
   "source": [
    "df_anime=pd.read_csv('data_processed/documents.csv')\n",
    "df_anime=df_anime.rename(columns={'uid':'docno'})\n",
    "df_anime.head(1)"
   ]
  },
  {
   "cell_type": "code",
   "execution_count": 4,
   "id": "a8cb2c1a",
   "metadata": {},
   "outputs": [],
   "source": [
    "df_anime['docno']=df_anime['docno'].astype(str)\n",
    "df_anime['popularity']=df_anime['popularity'].astype(str)\n",
    "df_anime['ranked']=df_anime['ranked'].astype(str)\n",
    "df_anime['score']=df_anime['score'].astype(str)\n",
    "df_anime['episodes']=df_anime['episodes'].astype(str)"
   ]
  },
  {
   "cell_type": "code",
   "execution_count": null,
   "id": "859d73ff",
   "metadata": {},
   "outputs": [],
   "source": [
    "\n",
    "index_dir = './pt_index'\n",
    "indexer = pt.DFIndexer(index_dir, overwrite=True)\n",
    "# indexer.setProperty(\"termpipelines\",\"EnglishSnowballStemmer\")\n",
    "index_ref = indexer.index(\n",
    "    df_anime['synopsis'],df_anime['docno'],df_anime['title'],df_anime['popularity'],df_anime['ranked'],df_anime['score'],\n",
    "    df_anime['episodes'],df_anime['wiki_intro']\n",
    ")\n",
    "index_ref.toString()\n",
    "index = pt.IndexFactory.of(index_ref)\n",
    "print(index.getCollectionStatistics().toString())"
   ]
  },
  {
   "cell_type": "code",
   "execution_count": 17,
   "id": "52057e1d",
   "metadata": {},
   "outputs": [
    {
     "data": {
      "text/plain": [
       "0       Following their participation at the Inter-High, the Karasuno High School volleyball team attempts to refocus their efforts, aiming to conquer the...\n",
       "1       Music accompanies the path of the human metronome, the prodigious pianist Kousei Arima. But after the passing of his mother, Saki Arima, Kousei fa...\n",
       "2       \"In order for something to be obtained, something of equal value must be lost.\" \\r\\n \\r\\nAlchemy is bound by this Law of Equivalent Exchange—somet...\n",
       "3       After helping revive the legendary vampire Kiss-shot Acerola-orion Heart-under-blade, Koyomi Araragi has become a vampire himself and her servant....\n",
       "4       Shigeo \"Mob\" Kageyama is now maturing and understanding his role as a supernatural psychic that has the power to drastically affect the livelihood...\n",
       "                                                                                ...                                                                          \n",
       "6336    Two years ago, Junichi Tachibana had a date on Christmas Eve but was stood up instead. Since then, he has had a hard time showing others his true ...\n",
       "6337    High school student Sora Kashiwagi is accustomed to receiving bizarre presents from his father, who is on an expedition around the world. Unfortun...\n",
       "6338    After regaining her squid-like abilities, Ika Musume plans to resume her self-appointed mission to destroy all of humanity. However, her carefree ...\n",
       "6339    For years, the Niflheim Empire and the kingdom of Lucis have been at war. The empire, having dominated most of the world of Eos, covets the power ...\n",
       "6340    Although Yuuta Togashi and Rikka Takanashi have just started dating, they do not know how to progress their young relationship. Due to both of the...\n",
       "Name: synopsis, Length: 6341, dtype: object"
      ]
     },
     "execution_count": 17,
     "metadata": {},
     "output_type": "execute_result"
    }
   ],
   "source": [
    "df_anime['synopsis']"
   ]
  },
  {
   "cell_type": "code",
   "execution_count": 13,
   "id": "e356056f",
   "metadata": {},
   "outputs": [
    {
     "name": "stdout",
     "output_type": "stream",
     "text": [
      "15:36:29.001 [main] WARN org.terrier.structures.BaseCompressingMetaIndex - File /Users/liuzihui/Documents/Umich/SI650/project/anime_indexing/data.meta-0.fsomapfile containing reverse meta mapping for keydocno is missing. Reverse lookups for this key will be disabled\n"
     ]
    }
   ],
   "source": [
    "df_anime=pd.read_csv('data_processed/documents.csv')\n",
    "df_anime=df_anime.rename(columns={'uid':'docno'})\n",
    "pt_index_path = './anime_indexing'\n",
    "\n",
    "if not os.path.exists(pt_index_path + \"/data.properties\"):\n",
    "\n",
    "    indexer = pt.DFIndexer(pt_index_path,overwrite=True)\n",
    "    index_ref=indexer.index(df_anime['synopsis'],df_anime['docno'])\n",
    "\n",
    "else:\n",
    "    # if you already have the index, create an IndexRef from the data in pt_index_path\n",
    "    # that we can use to load using the IndexFactory\n",
    "    # TODO\n",
    "    index_ref = pt.IndexRef.of(pt_index_path+\"/data.properties\")\n",
    "index = pt.IndexFactory.of(index_ref)"
   ]
  },
  {
   "cell_type": "code",
   "execution_count": null,
   "id": "3f2b8af5",
   "metadata": {},
   "outputs": [],
   "source": []
  }
 ],
 "metadata": {
  "kernelspec": {
   "display_name": "Python 3 (ipykernel)",
   "language": "python",
   "name": "python3"
  },
  "language_info": {
   "codemirror_mode": {
    "name": "ipython",
    "version": 3
   },
   "file_extension": ".py",
   "mimetype": "text/x-python",
   "name": "python",
   "nbconvert_exporter": "python",
   "pygments_lexer": "ipython3",
   "version": "3.9.13"
  }
 },
 "nbformat": 4,
 "nbformat_minor": 5
}
